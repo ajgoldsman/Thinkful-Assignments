{
 "cells": [
  {
   "cell_type": "markdown",
   "metadata": {},
   "source": [
    "### 1. Try to model the result of a coin toss. In your model, include any features that you think important in explaining the result. Discuss with your mentor about the pros and cons of adding too many features into your model."
   ]
  },
  {
   "cell_type": "markdown",
   "metadata": {},
   "source": [
    "There are many possible features to consider when modeling a coin toss. If we assume that it's a fair, perfectly balanced coin, we don't have to consider any potential skews in the probability of landing on one side or the other.  Features that we should take into consideration include:\n",
    "1. Height from which the coin falls.\n",
    "2. Lateral distance between the location of the coin flip and the spot it falls.\n",
    "3. Amount of rotational force applied to the coin in order to spin it.\n",
    "4. Elasticity of the surface on which the coin lands.\n",
    "5. Density/weight of the metal the coin is made from.\n",
    "6. Size of the coin.\n",
    "\n",
    "If you take too many features into consideration, then you have to have more and more experimental trials, each time changing one of the features (as in the case of A/B Testing). So, for each additional feature, the number of experiments required goes up by at least a factor of 2. It saves time and resources to only consider the features that have the most significant effects on your experiment/model."
   ]
  },
  {
   "cell_type": "markdown",
   "metadata": {},
   "source": [
    "### 2. If you ever used Netflix, you should already have realized that it provides some recommendations for you to watch. In data science, this is an example of the so-called recommendations systems. Read this nontechnical blog post of [Netflix](https://help.netflix.com/en/node/100639) about how they model their recommendations systems. Then, derive the features they use in their recommendations engines and discuss what else can be incorporated into this model."
   ]
  },
  {
   "cell_type": "markdown",
   "metadata": {},
   "source": [
    "Netflix considers the following features when producing a recommendation:\n",
    "1. Previous viewing (common genres, length of time spent watching a show/movie, high user-inputted ratings, etc.)\n",
    "2. Devices used for viewing\n",
    "3. Length of continuous viewing (or viewing with only short breaks)\n",
    "4. Other information about the content being watched (actors, directors, year released)\n",
    "5. Similarities in viewing history between the user and other users\n",
    "\n",
    "Other features they may want to take into consideration for future iterations of the model:\n",
    "1. Demographic data\n",
    "2. Location information\n",
    "3. Past 'binge-watching' (more likely to watch an entire series in one go if they've done it for other shows)\n"
   ]
  }
 ],
 "metadata": {
  "kernelspec": {
   "display_name": "Python 3",
   "language": "python",
   "name": "python3"
  },
  "language_info": {
   "codemirror_mode": {
    "name": "ipython",
    "version": 3
   },
   "file_extension": ".py",
   "mimetype": "text/x-python",
   "name": "python",
   "nbconvert_exporter": "python",
   "pygments_lexer": "ipython3",
   "version": "3.7.3"
  }
 },
 "nbformat": 4,
 "nbformat_minor": 2
}
