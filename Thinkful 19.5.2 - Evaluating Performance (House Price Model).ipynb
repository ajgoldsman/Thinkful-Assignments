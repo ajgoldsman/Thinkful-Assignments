{
 "cells": [
  {
   "cell_type": "markdown",
   "metadata": {},
   "source": [
    "# Evaluating Performance - House Price Model\n",
    "In this exercise, we'll work with the housing price data from the previous checkpoint. "
   ]
  },
  {
   "cell_type": "markdown",
   "metadata": {},
   "source": [
    "## Load the dataset from Thinkful's database"
   ]
  },
  {
   "cell_type": "code",
   "execution_count": 18,
   "metadata": {},
   "outputs": [],
   "source": [
    "# import libraries\n",
    "import pandas as pd\n",
    "import numpy as np\n",
    "import seaborn as sns\n",
    "import statsmodels.api as sm\n",
    "import os\n",
    "import matplotlib.pyplot as plt\n",
    "%matplotlib inline\n",
    "from sqlalchemy import create_engine\n",
    "import warnings\n",
    "\n",
    "warnings.filterwarnings('ignore')"
   ]
  },
  {
   "cell_type": "code",
   "execution_count": 20,
   "metadata": {},
   "outputs": [],
   "source": [
    "postgres_user = 'dsbc_student'\n",
    "postgres_pw = '7*.8G9QH21'\n",
    "postgres_host = '142.93.121.174'\n",
    "postgres_port = '5432'\n",
    "postgres_db = 'houseprices'\n",
    "\n",
    "# use the credentials to start a connection\n",
    "engine = create_engine('postgresql://{}:{}@{}:{}/{}'.format(\n",
    "    postgres_user, postgres_pw, postgres_host, postgres_port, postgres_db))\n",
    "\n",
    "# Use the connection to extract SQL data\n",
    "house_price = pd.read_sql_query('SELECT * FROM houseprices', con=engine)\n",
    "\n",
    "#Close the connection after query is complete\n",
    "engine.dispose()"
   ]
  },
  {
   "cell_type": "markdown",
   "metadata": {},
   "source": [
    "## Clean and transform the data"
   ]
  },
  {
   "cell_type": "code",
   "execution_count": 21,
   "metadata": {},
   "outputs": [],
   "source": [
    "#Drop features\n",
    "drop_list = list((house_price.isnull().sum()/house_price.isnull().count()).sort_values(ascending=False).head(19).index)\n",
    "drop_list.append('id')\n",
    "\n",
    "house_price = house_price.drop(drop_list, axis=1)\n",
    "\n",
    "#List of features that are string categoricals\n",
    "str_cat_cols = list(house_price.describe(include=['O']).columns)\n",
    "\n",
    "#Uniques within each variable\n",
    "uniques = pd.DataFrame()\n",
    "uni_col = []\n",
    "num_uni = []\n",
    "avgdiff_uni = []\n",
    "\n",
    "for col in list(house_price.columns):\n",
    "    uni_col.append(list(np.unique(house_price[col])))\n",
    "    num_uni.append(len(np.unique(house_price[col])))\n",
    "    try:\n",
    "        avgdiff_uni.append(np.mean(np.diff(np.unique(house_price[col]))))\n",
    "    except: \n",
    "        avgdiff_uni.append('N/A')\n",
    "    \n",
    "uniques['Category'] = list(house_price.columns)\n",
    "uniques['Unique Values'] = uni_col\n",
    "uniques['Num Uniques'] = num_uni\n",
    "uniques['Avg Diff Among Uniques'] = avgdiff_uni\n",
    "\n",
    "\n",
    "#List of features that are numerical categoricals\n",
    "#If a numerical variable is categorical, its unique values will tend to be close to each other and there shouldn't\n",
    "#be too many unique values \n",
    "num_cat_cols = []\n",
    "for col in list(house_price.columns):\n",
    "    if col not in str_cat_cols:   \n",
    "        if ((list(uniques[uniques['Category']==col]['Avg Diff Among Uniques'])[0] < 2) or ((list(uniques[uniques['Category']==col]['Num Uniques'])[0] < 20) and (list(uniques[uniques['Category']==col]['Avg Diff Among Uniques'])[0] < 20))):\n",
    "            num_cat_cols.append(col)\n",
    "            \n",
    "#List of features that are numerical continuous\n",
    "cont_cols = []\n",
    "for col in list(house_price.columns):\n",
    "    if ((col not in str_cat_cols) and (col not in num_cat_cols)):\n",
    "        cont_cols.append(col)\n",
    "        \n",
    "#Create new dataframe containing features of interest\n",
    "sale_df = house_price[['saleprice', 'grlivarea', 'garagearea', 'totalbsmtsf', 'overallqual', 'paveddrive', 'centralair', 'yearremodadd']]\n",
    "\n",
    "#Convert string categoricals ('paveddrive' and 'centralair') to dummy numerical\n",
    "unique_paved = ['N', 'P', 'Y']\n",
    "dummy_paveddrive = []\n",
    "for row in sale_df['paveddrive']:\n",
    "    for i in range(len(unique_paved)):\n",
    "        if row == unique_paved[i]:\n",
    "            dummy_paveddrive.append(i)\n",
    "        \n",
    "sale_df['paveddrive'] = dummy_paveddrive\n",
    "\n",
    "unique_ac = ['N', 'Y']\n",
    "dummy_ac = []\n",
    "for row in sale_df['centralair']:\n",
    "    for i in range(len(unique_ac)):\n",
    "        if row == unique_ac[i]:\n",
    "            dummy_ac.append(i)\n",
    "        \n",
    "sale_df['centralair'] = dummy_ac"
   ]
  },
  {
   "cell_type": "markdown",
   "metadata": {},
   "source": [
    "## Build a linear regression model where the target variable is saleprice. "
   ]
  },
  {
   "cell_type": "code",
   "execution_count": 22,
   "metadata": {},
   "outputs": [
    {
     "name": "stdout",
     "output_type": "stream",
     "text": [
      "                            OLS Regression Results                            \n",
      "==============================================================================\n",
      "Dep. Variable:              saleprice   R-squared:                       0.765\n",
      "Model:                            OLS   Adj. R-squared:                  0.765\n",
      "Method:                 Least Squares   F-statistic:                     948.6\n",
      "Date:                Tue, 24 Sep 2019   Prob (F-statistic):               0.00\n",
      "Time:                        08:46:01   Log-Likelihood:                -17486.\n",
      "No. Observations:                1460   AIC:                         3.498e+04\n",
      "Df Residuals:                    1454   BIC:                         3.502e+04\n",
      "Df Model:                           5                                         \n",
      "Covariance Type:            nonrobust                                         \n",
      "================================================================================\n",
      "                   coef    std err          t      P>|t|      [0.025      0.975]\n",
      "--------------------------------------------------------------------------------\n",
      "const        -9.076e+05   1.14e+05     -7.942      0.000   -1.13e+06   -6.83e+05\n",
      "grlivarea       46.9309      2.473     18.979      0.000      42.080      51.782\n",
      "garagearea      53.7239      6.028      8.912      0.000      41.899      65.548\n",
      "totalbsmtsf     30.5406      2.864     10.662      0.000      24.922      36.159\n",
      "overallqual   2.155e+04   1134.526     18.997      0.000    1.93e+04    2.38e+04\n",
      "yearremodadd   417.2989     58.992      7.074      0.000     301.580     533.017\n",
      "==============================================================================\n",
      "Omnibus:                      516.096   Durbin-Watson:                   1.976\n",
      "Prob(Omnibus):                  0.000   Jarque-Bera (JB):            64097.349\n",
      "Skew:                          -0.575   Prob(JB):                         0.00\n",
      "Kurtosis:                      35.440   Cond. No.                     3.16e+05\n",
      "==============================================================================\n",
      "\n",
      "Warnings:\n",
      "[1] Standard Errors assume that the covariance matrix of the errors is correctly specified.\n",
      "[2] The condition number is large, 3.16e+05. This might indicate that there are\n",
      "strong multicollinearity or other numerical problems.\n"
     ]
    }
   ],
   "source": [
    "target_var = 'saleprice'\n",
    "\n",
    "sale_df = sale_df.drop(['paveddrive', 'centralair'], axis=1)\n",
    "#In a previous module, we found that paveddrive and centralair didn't provide statistically significant information\n",
    "feature_set = list(sale_df.columns.drop(['saleprice']))\n",
    "\n",
    "# X is the feature set \n",
    "X = sale_df[feature_set]\n",
    "# Y is the target variable\n",
    "Y = sale_df[target_var]\n",
    "\n",
    "# We add constant to the model as it's a best practice\n",
    "# to do so every time!\n",
    "X = sm.add_constant(X)\n",
    "\n",
    "# We fit an OLS model using statsmodels\n",
    "results = sm.OLS(Y, X).fit()\n",
    "\n",
    "# We print the summary results.\n",
    "print(results.summary())"
   ]
  },
  {
   "cell_type": "markdown",
   "metadata": {},
   "source": [
    "For the current model, the important values are as follows:\n",
    " - R-squared: 0.765\n",
    " - Adjusted R-squared: 0.765\n",
    " - F-statistic: 948.6\n",
    " - AIC: 3.498E+04\n",
    " - BIC: 3.502E+04\n",
    "These values indicate a satisfactory model (relatively high R-squared, relatively low AIC and BIC), but there is still room for improvement. "
   ]
  },
  {
   "cell_type": "markdown",
   "metadata": {},
   "source": [
    "## In order to improve the goodness of fit of our model, let's try different model specifications by adding or removing some variables."
   ]
  },
  {
   "cell_type": "code",
   "execution_count": 23,
   "metadata": {},
   "outputs": [
    {
     "data": {
      "text/plain": [
       "Index(['saleprice', 'grlivarea', 'garagearea', 'totalbsmtsf', 'overallqual',\n",
       "       'yearremodadd'],\n",
       "      dtype='object')"
      ]
     },
     "execution_count": 23,
     "metadata": {},
     "output_type": "execute_result"
    }
   ],
   "source": [
    "#Current features being analyzed:\n",
    "sale_df.columns"
   ]
  },
  {
   "cell_type": "markdown",
   "metadata": {},
   "source": [
    "### Interaction of area features"
   ]
  },
  {
   "cell_type": "code",
   "execution_count": 24,
   "metadata": {},
   "outputs": [
    {
     "name": "stdout",
     "output_type": "stream",
     "text": [
      "                            OLS Regression Results                            \n",
      "==============================================================================\n",
      "Dep. Variable:              saleprice   R-squared:                       0.779\n",
      "Model:                            OLS   Adj. R-squared:                  0.778\n",
      "Method:                 Least Squares   F-statistic:                     853.4\n",
      "Date:                Tue, 24 Sep 2019   Prob (F-statistic):               0.00\n",
      "Time:                        08:46:02   Log-Likelihood:                -17442.\n",
      "No. Observations:                1460   AIC:                         3.490e+04\n",
      "Df Residuals:                    1453   BIC:                         3.494e+04\n",
      "Df Model:                           6                                         \n",
      "Covariance Type:            nonrobust                                         \n",
      "================================================================================\n",
      "                   coef    std err          t      P>|t|      [0.025      0.975]\n",
      "--------------------------------------------------------------------------------\n",
      "const        -9.039e+05   1.11e+05     -8.146      0.000   -1.12e+06   -6.86e+05\n",
      "grlivarea       56.3328      2.599     21.674      0.000      51.234      61.431\n",
      "garagearea      67.0353      6.020     11.135      0.000      55.226      78.845\n",
      "totalbsmtsf     46.7425      3.268     14.305      0.000      40.333      53.152\n",
      "overallqual   2.038e+04   1108.598     18.381      0.000    1.82e+04    2.26e+04\n",
      "yearremodadd   404.3962     57.296      7.058      0.000     292.005     516.787\n",
      "all_area     -9.034e-06   9.56e-07     -9.447      0.000   -1.09e-05   -7.16e-06\n",
      "==============================================================================\n",
      "Omnibus:                      581.788   Durbin-Watson:                   1.974\n",
      "Prob(Omnibus):                  0.000   Jarque-Bera (JB):            11622.718\n",
      "Skew:                           1.353   Prob(JB):                         0.00\n",
      "Kurtosis:                      16.555   Cond. No.                     2.10e+11\n",
      "==============================================================================\n",
      "\n",
      "Warnings:\n",
      "[1] Standard Errors assume that the covariance matrix of the errors is correctly specified.\n",
      "[2] The condition number is large, 2.1e+11. This might indicate that there are\n",
      "strong multicollinearity or other numerical problems.\n"
     ]
    }
   ],
   "source": [
    "#Add in the interaction of the area features\n",
    "sale_df['all_area'] = sale_df['grlivarea'] * sale_df['garagearea'] * sale_df['totalbsmtsf']\n",
    "\n",
    "feature_set = list(sale_df.columns.drop(['saleprice']))\n",
    "\n",
    "# X is the feature set \n",
    "X = sale_df[feature_set]\n",
    "# Y is the target variable\n",
    "Y = sale_df[target_var]\n",
    "\n",
    "# We add constant to the model as it's a best practice\n",
    "# to do so every time!\n",
    "X = sm.add_constant(X)\n",
    "\n",
    "# We fit an OLS model using statsmodels\n",
    "results = sm.OLS(Y, X).fit()\n",
    "\n",
    "# We print the summary results.\n",
    "print(results.summary())"
   ]
  },
  {
   "cell_type": "markdown",
   "metadata": {},
   "source": [
    "Although including an interaction feature of all of the area/square footage features did improve all of the fit values (R-squared, AIC, BIC, etc), the coefficient for the interaction feature is on the order of 10^-6, which tells me that the interaction feature has very little effect on the overall model. Let's see if we can find something better."
   ]
  },
  {
   "cell_type": "markdown",
   "metadata": {},
   "source": [
    "### Remove variables with high correlation to each other"
   ]
  },
  {
   "cell_type": "code",
   "execution_count": 25,
   "metadata": {},
   "outputs": [
    {
     "data": {
      "image/png": "[encoded data removed]",
      "text/plain": [
       "<Figure size 720x720 with 2 Axes>"
      ]
     },
     "metadata": {
      "needs_background": "light"
     },
     "output_type": "display_data"
    },
    {
     "data": {
      "text/html": [
       "<div>\n",
       "<style scoped>\n",
       "    .dataframe tbody tr th:only-of-type {\n",
       "        vertical-align: middle;\n",
       "    }\n",
       "\n",
       "    .dataframe tbody tr th {\n",
       "        vertical-align: top;\n",
       "    }\n",
       "\n",
       "    .dataframe thead th {\n",
       "        text-align: right;\n",
       "    }\n",
       "</style>\n",
       "<table border=\"1\" class=\"dataframe\">\n",
       "  <thead>\n",
       "    <tr style=\"text-align: right;\">\n",
       "      <th></th>\n",
       "      <th>saleprice</th>\n",
       "      <th>grlivarea</th>\n",
       "      <th>garagearea</th>\n",
       "      <th>totalbsmtsf</th>\n",
       "      <th>overallqual</th>\n",
       "      <th>yearremodadd</th>\n",
       "      <th>all_area</th>\n",
       "    </tr>\n",
       "  </thead>\n",
       "  <tbody>\n",
       "    <tr>\n",
       "      <th>saleprice</th>\n",
       "      <td>1.000000</td>\n",
       "      <td>0.708624</td>\n",
       "      <td>0.623431</td>\n",
       "      <td>0.613581</td>\n",
       "      <td>0.790982</td>\n",
       "      <td>0.507101</td>\n",
       "      <td>0.495875</td>\n",
       "    </tr>\n",
       "    <tr>\n",
       "      <th>grlivarea</th>\n",
       "      <td>0.708624</td>\n",
       "      <td>1.000000</td>\n",
       "      <td>0.468997</td>\n",
       "      <td>0.454868</td>\n",
       "      <td>0.593007</td>\n",
       "      <td>0.287389</td>\n",
       "      <td>0.588340</td>\n",
       "    </tr>\n",
       "    <tr>\n",
       "      <th>garagearea</th>\n",
       "      <td>0.623431</td>\n",
       "      <td>0.468997</td>\n",
       "      <td>1.000000</td>\n",
       "      <td>0.486665</td>\n",
       "      <td>0.562022</td>\n",
       "      <td>0.371600</td>\n",
       "      <td>0.528712</td>\n",
       "    </tr>\n",
       "    <tr>\n",
       "      <th>totalbsmtsf</th>\n",
       "      <td>0.613581</td>\n",
       "      <td>0.454868</td>\n",
       "      <td>0.486665</td>\n",
       "      <td>1.000000</td>\n",
       "      <td>0.537808</td>\n",
       "      <td>0.291066</td>\n",
       "      <td>0.680092</td>\n",
       "    </tr>\n",
       "    <tr>\n",
       "      <th>overallqual</th>\n",
       "      <td>0.790982</td>\n",
       "      <td>0.593007</td>\n",
       "      <td>0.562022</td>\n",
       "      <td>0.537808</td>\n",
       "      <td>1.000000</td>\n",
       "      <td>0.550684</td>\n",
       "      <td>0.457143</td>\n",
       "    </tr>\n",
       "    <tr>\n",
       "      <th>yearremodadd</th>\n",
       "      <td>0.507101</td>\n",
       "      <td>0.287389</td>\n",
       "      <td>0.371600</td>\n",
       "      <td>0.291066</td>\n",
       "      <td>0.550684</td>\n",
       "      <td>1.000000</td>\n",
       "      <td>0.235163</td>\n",
       "    </tr>\n",
       "    <tr>\n",
       "      <th>all_area</th>\n",
       "      <td>0.495875</td>\n",
       "      <td>0.588340</td>\n",
       "      <td>0.528712</td>\n",
       "      <td>0.680092</td>\n",
       "      <td>0.457143</td>\n",
       "      <td>0.235163</td>\n",
       "      <td>1.000000</td>\n",
       "    </tr>\n",
       "  </tbody>\n",
       "</table>\n",
       "</div>"
      ],
      "text/plain": [
       "              saleprice  grlivarea  garagearea  totalbsmtsf  overallqual  \\\n",
       "saleprice      1.000000   0.708624    0.623431     0.613581     0.790982   \n",
       "grlivarea      0.708624   1.000000    0.468997     0.454868     0.593007   \n",
       "garagearea     0.623431   0.468997    1.000000     0.486665     0.562022   \n",
       "totalbsmtsf    0.613581   0.454868    0.486665     1.000000     0.537808   \n",
       "overallqual    0.790982   0.593007    0.562022     0.537808     1.000000   \n",
       "yearremodadd   0.507101   0.287389    0.371600     0.291066     0.550684   \n",
       "all_area       0.495875   0.588340    0.528712     0.680092     0.457143   \n",
       "\n",
       "              yearremodadd  all_area  \n",
       "saleprice         0.507101  0.495875  \n",
       "grlivarea         0.287389  0.588340  \n",
       "garagearea        0.371600  0.528712  \n",
       "totalbsmtsf       0.291066  0.680092  \n",
       "overallqual       0.550684  0.457143  \n",
       "yearremodadd      1.000000  0.235163  \n",
       "all_area          0.235163  1.000000  "
      ]
     },
     "execution_count": 25,
     "metadata": {},
     "output_type": "execute_result"
    }
   ],
   "source": [
    "#Compare the correlations via a heatmap\n",
    "plt.figure(figsize=(10,10))\n",
    "sns.heatmap(abs(sale_df.corr()), square=True, linewidths=.5, annot=True)\n",
    "plt.title('Correlation Heatmap of Features')\n",
    "plt.show()\n",
    "\n",
    "sale_df.corr()"
   ]
  },
  {
   "cell_type": "markdown",
   "metadata": {},
   "source": [
    "We can see that the all of the area features are highly correlated with the new all_area feature, which makes sense. However, because all three of the area variables have a higher correlation to saleprice than the single interaction area variable, we should drop all_area from our analysis. Additionally, yearremodadd isn't very strongly correlated with saleprice, so I will drop that variable from the new model."
   ]
  },
  {
   "cell_type": "code",
   "execution_count": 26,
   "metadata": {},
   "outputs": [
    {
     "name": "stdout",
     "output_type": "stream",
     "text": [
      "                            OLS Regression Results                            \n",
      "==============================================================================\n",
      "Dep. Variable:              saleprice   R-squared:                       0.757\n",
      "Model:                            OLS   Adj. R-squared:                  0.757\n",
      "Method:                 Least Squares   F-statistic:                     1135.\n",
      "Date:                Tue, 24 Sep 2019   Prob (F-statistic):               0.00\n",
      "Time:                        08:46:12   Log-Likelihood:                -17510.\n",
      "No. Observations:                1460   AIC:                         3.503e+04\n",
      "Df Residuals:                    1455   BIC:                         3.506e+04\n",
      "Df Model:                           4                                         \n",
      "Covariance Type:            nonrobust                                         \n",
      "===============================================================================\n",
      "                  coef    std err          t      P>|t|      [0.025      0.975]\n",
      "-------------------------------------------------------------------------------\n",
      "const       -9.984e+04   4670.871    -21.375      0.000   -1.09e+05   -9.07e+04\n",
      "grlivarea      45.6277      2.507     18.199      0.000      40.710      50.546\n",
      "garagearea     58.2462      6.094      9.558      0.000      46.292      70.200\n",
      "totalbsmtsf    30.1265      2.912     10.347      0.000      24.415      35.838\n",
      "overallqual  2.495e+04   1044.735     23.886      0.000    2.29e+04     2.7e+04\n",
      "==============================================================================\n",
      "Omnibus:                      516.785   Durbin-Watson:                   1.976\n",
      "Prob(Omnibus):                  0.000   Jarque-Bera (JB):            54776.133\n",
      "Skew:                          -0.631   Prob(JB):                         0.00\n",
      "Kurtosis:                      32.981   Cond. No.                     9.22e+03\n",
      "==============================================================================\n",
      "\n",
      "Warnings:\n",
      "[1] Standard Errors assume that the covariance matrix of the errors is correctly specified.\n",
      "[2] The condition number is large, 9.22e+03. This might indicate that there are\n",
      "strong multicollinearity or other numerical problems.\n"
     ]
    }
   ],
   "source": [
    "#Remove variables\n",
    "sale_df = sale_df.drop(['all_area', 'yearremodadd'], axis=1)\n",
    "\n",
    "feature_set = list(sale_df.columns.drop(['saleprice']))\n",
    "\n",
    "# X is the feature set \n",
    "X = sale_df[feature_set]\n",
    "# Y is the target variable\n",
    "Y = sale_df[target_var]\n",
    "\n",
    "# We add constant to the model as it's a best practice\n",
    "# to do so every time!\n",
    "X = sm.add_constant(X)\n",
    "\n",
    "# We fit an OLS model using statsmodels\n",
    "results = sm.OLS(Y, X).fit()\n",
    "\n",
    "# We print the summary results.\n",
    "print(results.summary())"
   ]
  },
  {
   "cell_type": "markdown",
   "metadata": {},
   "source": [
    "This version of the model doesn't perform as well as the original nor the version containing the area interaction feature. Therefore, I will conclude that, based solely on the summary values, our best model for predicting saleprice of a house is the one containing both the originally chosen features and the created interaction feature. That model provides an explanation for almost 78% of the variance in the dataset, leaving only 22% unexplained."
   ]
  },
  {
   "cell_type": "code",
   "execution_count": null,
   "metadata": {},
   "outputs": [],
   "source": []
  }
 ],
 "metadata": {
  "kernelspec": {
   "display_name": "Python 3",
   "language": "python",
   "name": "python3"
  },
  "language_info": {
   "codemirror_mode": {
    "name": "ipython",
    "version": 3
   },
   "file_extension": ".py",
   "mimetype": "text/x-python",
   "name": "python",
   "nbconvert_exporter": "python",
   "pygments_lexer": "ipython3",
   "version": "3.7.3"
  }
 },
 "nbformat": 4,
 "nbformat_minor": 2
}
