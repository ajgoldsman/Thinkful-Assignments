{
 "cells": [
  {
   "cell_type": "markdown",
   "metadata": {},
   "source": [
    "# Overfitting and Regularization - House Price Model\n",
    "In this exercise, we'll work with the housing price data from the previous checkpoint. "
   ]
  },
  {
   "cell_type": "markdown",
   "metadata": {},
   "source": [
    "## Load the dataset from Thinkful's database"
   ]
  },
  {
   "cell_type": "code",
   "execution_count": 1,
   "metadata": {},
   "outputs": [],
   "source": [
    "#Import libraries\n",
    "import matplotlib.pyplot as plt\n",
    "import numpy as np\n",
    "import pandas as pd\n",
    "from sklearn.linear_model import LinearRegression\n",
    "from sklearn.model_selection import train_test_split\n",
    "from sklearn.metrics import mean_absolute_error\n",
    "import statsmodels.api as sm\n",
    "from statsmodels.tools.eval_measures import mse, rmse\n",
    "from sqlalchemy import create_engine\n",
    "\n",
    "# Display preferences.\n",
    "%matplotlib inline\n",
    "pd.options.display.float_format = '{:.3f}'.format\n",
    "\n",
    "import warnings\n",
    "warnings.filterwarnings(action=\"ignore\")"
   ]
  },
  {
   "cell_type": "code",
   "execution_count": 2,
   "metadata": {},
   "outputs": [],
   "source": [
    "postgres_user = 'dsbc_student'\n",
    "postgres_pw = '7*.8G9QH21'\n",
    "postgres_host = '142.93.121.174'\n",
    "postgres_port = '5432'\n",
    "postgres_db = 'houseprices'\n",
    "\n",
    "# use the credentials to start a connection\n",
    "engine = create_engine('postgresql://{}:{}@{}:{}/{}'.format(\n",
    "    postgres_user, postgres_pw, postgres_host, postgres_port, postgres_db))\n",
    "\n",
    "# Use the connection to extract SQL data\n",
    "house_price = pd.read_sql_query('SELECT * FROM houseprices', con=engine)\n",
    "\n",
    "#Close the connection after query is complete\n",
    "engine.dispose()"
   ]
  },
  {
   "cell_type": "markdown",
   "metadata": {},
   "source": [
    "## Clean and transform the data"
   ]
  },
  {
   "cell_type": "code",
   "execution_count": 3,
   "metadata": {},
   "outputs": [
    {
     "data": {
      "text/html": [
       "<div>\n",
       "<style scoped>\n",
       "    .dataframe tbody tr th:only-of-type {\n",
       "        vertical-align: middle;\n",
       "    }\n",
       "\n",
       "    .dataframe tbody tr th {\n",
       "        vertical-align: top;\n",
       "    }\n",
       "\n",
       "    .dataframe thead th {\n",
       "        text-align: right;\n",
       "    }\n",
       "</style>\n",
       "<table border=\"1\" class=\"dataframe\">\n",
       "  <thead>\n",
       "    <tr style=\"text-align: right;\">\n",
       "      <th></th>\n",
       "      <th>saleprice</th>\n",
       "      <th>grlivarea</th>\n",
       "      <th>garagearea</th>\n",
       "      <th>totalbsmtsf</th>\n",
       "      <th>overallqual</th>\n",
       "      <th>yearremodadd</th>\n",
       "      <th>all_area</th>\n",
       "      <th>area_qual</th>\n",
       "    </tr>\n",
       "  </thead>\n",
       "  <tbody>\n",
       "    <tr>\n",
       "      <th>0</th>\n",
       "      <td>208500</td>\n",
       "      <td>1710</td>\n",
       "      <td>548</td>\n",
       "      <td>856</td>\n",
       "      <td>7</td>\n",
       "      <td>2003</td>\n",
       "      <td>3114</td>\n",
       "      <td>21798</td>\n",
       "    </tr>\n",
       "    <tr>\n",
       "      <th>1</th>\n",
       "      <td>181500</td>\n",
       "      <td>1262</td>\n",
       "      <td>460</td>\n",
       "      <td>1262</td>\n",
       "      <td>6</td>\n",
       "      <td>1976</td>\n",
       "      <td>2984</td>\n",
       "      <td>17904</td>\n",
       "    </tr>\n",
       "    <tr>\n",
       "      <th>2</th>\n",
       "      <td>223500</td>\n",
       "      <td>1786</td>\n",
       "      <td>608</td>\n",
       "      <td>920</td>\n",
       "      <td>7</td>\n",
       "      <td>2002</td>\n",
       "      <td>3314</td>\n",
       "      <td>23198</td>\n",
       "    </tr>\n",
       "    <tr>\n",
       "      <th>3</th>\n",
       "      <td>140000</td>\n",
       "      <td>1717</td>\n",
       "      <td>642</td>\n",
       "      <td>756</td>\n",
       "      <td>7</td>\n",
       "      <td>1970</td>\n",
       "      <td>3115</td>\n",
       "      <td>21805</td>\n",
       "    </tr>\n",
       "    <tr>\n",
       "      <th>4</th>\n",
       "      <td>250000</td>\n",
       "      <td>2198</td>\n",
       "      <td>836</td>\n",
       "      <td>1145</td>\n",
       "      <td>8</td>\n",
       "      <td>2000</td>\n",
       "      <td>4179</td>\n",
       "      <td>33432</td>\n",
       "    </tr>\n",
       "    <tr>\n",
       "      <th>5</th>\n",
       "      <td>143000</td>\n",
       "      <td>1362</td>\n",
       "      <td>480</td>\n",
       "      <td>796</td>\n",
       "      <td>5</td>\n",
       "      <td>1995</td>\n",
       "      <td>2638</td>\n",
       "      <td>13190</td>\n",
       "    </tr>\n",
       "    <tr>\n",
       "      <th>6</th>\n",
       "      <td>307000</td>\n",
       "      <td>1694</td>\n",
       "      <td>636</td>\n",
       "      <td>1686</td>\n",
       "      <td>8</td>\n",
       "      <td>2005</td>\n",
       "      <td>4016</td>\n",
       "      <td>32128</td>\n",
       "    </tr>\n",
       "    <tr>\n",
       "      <th>7</th>\n",
       "      <td>200000</td>\n",
       "      <td>2090</td>\n",
       "      <td>484</td>\n",
       "      <td>1107</td>\n",
       "      <td>7</td>\n",
       "      <td>1973</td>\n",
       "      <td>3681</td>\n",
       "      <td>25767</td>\n",
       "    </tr>\n",
       "    <tr>\n",
       "      <th>8</th>\n",
       "      <td>129900</td>\n",
       "      <td>1774</td>\n",
       "      <td>468</td>\n",
       "      <td>952</td>\n",
       "      <td>7</td>\n",
       "      <td>1950</td>\n",
       "      <td>3194</td>\n",
       "      <td>22358</td>\n",
       "    </tr>\n",
       "    <tr>\n",
       "      <th>9</th>\n",
       "      <td>118000</td>\n",
       "      <td>1077</td>\n",
       "      <td>205</td>\n",
       "      <td>991</td>\n",
       "      <td>5</td>\n",
       "      <td>1950</td>\n",
       "      <td>2273</td>\n",
       "      <td>11365</td>\n",
       "    </tr>\n",
       "  </tbody>\n",
       "</table>\n",
       "</div>"
      ],
      "text/plain": [
       "   saleprice  grlivarea  garagearea  totalbsmtsf  overallqual  yearremodadd  \\\n",
       "0     208500       1710         548          856            7          2003   \n",
       "1     181500       1262         460         1262            6          1976   \n",
       "2     223500       1786         608          920            7          2002   \n",
       "3     140000       1717         642          756            7          1970   \n",
       "4     250000       2198         836         1145            8          2000   \n",
       "5     143000       1362         480          796            5          1995   \n",
       "6     307000       1694         636         1686            8          2005   \n",
       "7     200000       2090         484         1107            7          1973   \n",
       "8     129900       1774         468          952            7          1950   \n",
       "9     118000       1077         205          991            5          1950   \n",
       "\n",
       "   all_area  area_qual  \n",
       "0      3114      21798  \n",
       "1      2984      17904  \n",
       "2      3314      23198  \n",
       "3      3115      21805  \n",
       "4      4179      33432  \n",
       "5      2638      13190  \n",
       "6      4016      32128  \n",
       "7      3681      25767  \n",
       "8      3194      22358  \n",
       "9      2273      11365  "
      ]
     },
     "execution_count": 3,
     "metadata": {},
     "output_type": "execute_result"
    }
   ],
   "source": [
    "#Drop features\n",
    "drop_list = list((house_price.isnull().sum()/house_price.isnull().count()).sort_values(ascending=False).head(19).index)\n",
    "drop_list.append('id')\n",
    "\n",
    "house_price = house_price.drop(drop_list, axis=1)\n",
    "\n",
    "#List of features that are string categoricals\n",
    "str_cat_cols = list(house_price.describe(include=['O']).columns)\n",
    "\n",
    "#Uniques within each variable\n",
    "uniques = pd.DataFrame()\n",
    "uni_col = []\n",
    "num_uni = []\n",
    "avgdiff_uni = []\n",
    "\n",
    "for col in list(house_price.columns):\n",
    "    uni_col.append(list(np.unique(house_price[col])))\n",
    "    num_uni.append(len(np.unique(house_price[col])))\n",
    "    try:\n",
    "        avgdiff_uni.append(np.mean(np.diff(np.unique(house_price[col]))))\n",
    "    except: \n",
    "        avgdiff_uni.append('N/A')\n",
    "    \n",
    "uniques['Category'] = list(house_price.columns)\n",
    "uniques['Unique Values'] = uni_col\n",
    "uniques['Num Uniques'] = num_uni\n",
    "uniques['Avg Diff Among Uniques'] = avgdiff_uni\n",
    "\n",
    "\n",
    "#List of features that are numerical categoricals\n",
    "#If a numerical variable is categorical, its unique values will tend to be close to each other and there shouldn't\n",
    "#be too many unique values \n",
    "num_cat_cols = []\n",
    "for col in list(house_price.columns):\n",
    "    if col not in str_cat_cols:   \n",
    "        if ((list(uniques[uniques['Category']==col]['Avg Diff Among Uniques'])[0] < 2) or ((list(uniques[uniques['Category']==col]['Num Uniques'])[0] < 20) and (list(uniques[uniques['Category']==col]['Avg Diff Among Uniques'])[0] < 20))):\n",
    "            num_cat_cols.append(col)\n",
    "            \n",
    "#List of features that are numerical continuous\n",
    "cont_cols = []\n",
    "for col in list(house_price.columns):\n",
    "    if ((col not in str_cat_cols) and (col not in num_cat_cols)):\n",
    "        cont_cols.append(col)\n",
    "        \n",
    "#Create new dataframe containing features of interest\n",
    "#In previous modules, we determined that 'grlivarea', 'garagearea', 'totalbsmtsf', 'overallqual', and 'yearremodadd' were most effective\n",
    "sale_df = house_price[['saleprice', 'grlivarea', 'garagearea', 'totalbsmtsf', 'overallqual', 'yearremodadd']]\n",
    "\n",
    "#From previous checkpoints, we know we should also include an area feature and an area_quality interaction feature\n",
    "sale_df['all_area'] = sale_df['grlivarea'] + sale_df['garagearea'] + sale_df['totalbsmtsf']\n",
    "sale_df['area_qual'] = sale_df['all_area']*sale_df['overallqual']\n",
    "\n",
    "sale_df.head(10)"
   ]
  },
  {
   "cell_type": "markdown",
   "metadata": {},
   "source": [
    "## Split data into train and test sets"
   ]
  },
  {
   "cell_type": "code",
   "execution_count": 4,
   "metadata": {},
   "outputs": [
    {
     "name": "stdout",
     "output_type": "stream",
     "text": [
      "The number of observations in training set is 1168\n",
      "The number of observations in test set is 292\n"
     ]
    }
   ],
   "source": [
    "target_var = 'saleprice'\n",
    "feature_set = list(sale_df.columns.drop(['saleprice']))\n",
    "\n",
    "# X is the feature set \n",
    "X = sale_df[feature_set]\n",
    "# Y is the target variable\n",
    "Y = sale_df[target_var]\n",
    "\n",
    "X_train, X_test, y_train, y_test = train_test_split(X, Y, test_size = 0.2, random_state = 465)\n",
    "\n",
    "print(\"The number of observations in training set is {}\".format(X_train.shape[0]))\n",
    "print(\"The number of observations in test set is {}\".format(X_test.shape[0]))"
   ]
  },
  {
   "cell_type": "markdown",
   "metadata": {},
   "source": [
    "## Build a model using OLS regression"
   ]
  },
  {
   "cell_type": "code",
   "execution_count": 7,
   "metadata": {},
   "outputs": [
    {
     "name": "stdout",
     "output_type": "stream",
     "text": [
      "R-squared of the model in training set is: 0.7667442648292179\n",
      "-----Test set statistics-----\n",
      "R-squared of the model in test set is: 0.8041744753698993\n",
      "Mean absolute error of the prediction is: 23516.49009949857\n",
      "Mean squared error of the prediction is: 1314714623.4957995\n",
      "Root mean squared error of the prediction is: 36258.99369116302\n",
      "Mean absolute percentage error of the prediction is: 14.025140883004056\n"
     ]
    }
   ],
   "source": [
    "lrm = LinearRegression()\n",
    "\n",
    "lrm.fit(X_train, y_train)\n",
    "\n",
    "# We are making predictions here\n",
    "y_preds_train = lrm.predict(X_train)\n",
    "y_preds_test = lrm.predict(X_test)\n",
    "\n",
    "print(\"R-squared of the model in training set is: {}\".format(lrm.score(X_train, y_train)))\n",
    "print(\"-----Test set statistics-----\")\n",
    "print(\"R-squared of the model in test set is: {}\".format(lrm.score(X_test, y_test)))\n",
    "print(\"Mean absolute error of the prediction is: {}\".format(mean_absolute_error(y_test, y_preds_test)))\n",
    "print(\"Mean squared error of the prediction is: {}\".format(mse(y_test, y_preds_test)))\n",
    "print(\"Root mean squared error of the prediction is: {}\".format(rmse(y_test, y_preds_test)))\n",
    "print(\"Mean absolute percentage error of the prediction is: {}\".format(np.mean(np.abs((y_test - y_preds_test) / y_test)) * 100))"
   ]
  },
  {
   "cell_type": "markdown",
   "metadata": {},
   "source": [
    "## Do k-fold cross-validation to choose best hyperparameter values"
   ]
  },
  {
   "cell_type": "code",
   "execution_count": 18,
   "metadata": {},
   "outputs": [],
   "source": [
    "alphas = [np.power(10.0,p) for p in np.arange(-20,40,1)]"
   ]
  },
  {
   "cell_type": "markdown",
   "metadata": {},
   "source": [
    "## Build a model using Lasso regression"
   ]
  },
  {
   "cell_type": "code",
   "execution_count": 19,
   "metadata": {},
   "outputs": [
    {
     "name": "stdout",
     "output_type": "stream",
     "text": [
      "Best alpha parameter is: 10000.0\n",
      "R-squared of the model on the training set is: 0.7583389212395036\n",
      "-----Test set statistics-----\n",
      "R-squared of the model on the test set is: 0.8308707435167693\n",
      "Mean absolute error of the prediction is: 21271.912019210682\n",
      "Mean squared error of the prediction is: 1135483779.1421204\n",
      "Root mean squared error of the prediction is: 33696.94020444765\n",
      "Mean absolute percentage error of the prediction is: 12.424790907707473\n"
     ]
    }
   ],
   "source": [
    "from sklearn.linear_model import LassoCV\n",
    "\n",
    "lassoregr = LassoCV(alphas=alphas, cv=5) \n",
    "lassoregr.fit(X_train, y_train)\n",
    "\n",
    "# We are making predictions here\n",
    "y_preds_train = lassoregr.predict(X_train)\n",
    "y_preds_test = lassoregr.predict(X_test)\n",
    "\n",
    "print(\"Best alpha parameter is: {}\".format(lassoregr.alpha_))\n",
    "print(\"R-squared of the model on the training set is: {}\".format(lassoregr.score(X_train, y_train)))\n",
    "print(\"-----Test set statistics-----\")\n",
    "print(\"R-squared of the model on the test set is: {}\".format(lassoregr.score(X_test, y_test)))\n",
    "print(\"Mean absolute error of the prediction is: {}\".format(mean_absolute_error(y_test, y_preds_test)))\n",
    "print(\"Mean squared error of the prediction is: {}\".format(mse(y_test, y_preds_test)))\n",
    "print(\"Root mean squared error of the prediction is: {}\".format(rmse(y_test, y_preds_test)))\n",
    "print(\"Mean absolute percentage error of the prediction is: {}\".format(np.mean(np.abs((y_test - y_preds_test) / y_test)) * 100))\n"
   ]
  },
  {
   "cell_type": "markdown",
   "metadata": {},
   "source": [
    "## Build a model using Ridge Regression"
   ]
  },
  {
   "cell_type": "code",
   "execution_count": 20,
   "metadata": {},
   "outputs": [
    {
     "name": "stdout",
     "output_type": "stream",
     "text": [
      "Best alpha parameter is: 10000.0\n",
      "R-squared of the model on the training set is: 0.7588691942850861\n",
      "-----Test set statistics-----\n",
      "R-squared of the model on the test set is: 0.8300983141022953\n",
      "Mean absolute error of the prediction is: 21352.809003397495\n",
      "Mean squared error of the prediction is: 1140669641.6528702\n",
      "Root mean squared error of the prediction is: 33773.801113479516\n",
      "Mean absolute percentage error of the prediction is: 12.478787895910818\n"
     ]
    }
   ],
   "source": [
    "from sklearn.linear_model import RidgeCV\n",
    "\n",
    "# Fitting a ridge regression model. Alpha is the regularization\n",
    "# parameter (usually called lambda). As alpha gets larger, parameter\n",
    "# shrinkage grows more pronounced.\n",
    "ridgeregr = RidgeCV(alphas=alphas, cv=5) \n",
    "ridgeregr.fit(X_train, y_train)\n",
    "\n",
    "# We are making predictions here\n",
    "y_preds_train = ridgeregr.predict(X_train)\n",
    "y_preds_test = ridgeregr.predict(X_test)\n",
    "\n",
    "print(\"Best alpha parameter is: {}\".format(ridgeregr.alpha_))\n",
    "print(\"R-squared of the model on the training set is: {}\".format(ridgeregr.score(X_train, y_train)))\n",
    "print(\"-----Test set statistics-----\")\n",
    "print(\"R-squared of the model on the test set is: {}\".format(ridgeregr.score(X_test, y_test)))\n",
    "print(\"Mean absolute error of the prediction is: {}\".format(mean_absolute_error(y_test, y_preds_test)))\n",
    "print(\"Mean squared error of the prediction is: {}\".format(mse(y_test, y_preds_test)))\n",
    "print(\"Root mean squared error of the prediction is: {}\".format(rmse(y_test, y_preds_test)))\n",
    "print(\"Mean absolute percentage error of the prediction is: {}\".format(np.mean(np.abs((y_test - y_preds_test) / y_test)) * 100))"
   ]
  },
  {
   "cell_type": "markdown",
   "metadata": {},
   "source": [
    "## Build a model using ElasticNet Regression"
   ]
  },
  {
   "cell_type": "code",
   "execution_count": 21,
   "metadata": {},
   "outputs": [
    {
     "name": "stdout",
     "output_type": "stream",
     "text": [
      "Best alpha parameter is: 100.0\n",
      "R-squared of the model on the training set is: 0.7582224451036733\n",
      "-----Test set statistics-----\n",
      "R-squared of the model on the test set is: 0.8308562129328529\n",
      "Mean absolute error of the prediction is: 21247.470054706042\n",
      "Mean squared error of the prediction is: 1135581333.18263\n",
      "Root mean squared error of the prediction is: 33698.387694111276\n",
      "Mean absolute percentage error of the prediction is: 12.410320240695393\n"
     ]
    }
   ],
   "source": [
    "from sklearn.linear_model import ElasticNetCV\n",
    "\n",
    "elasticregr = ElasticNetCV(alphas=alphas, cv=5) \n",
    "elasticregr.fit(X_train, y_train)\n",
    "\n",
    "# We are making predictions here\n",
    "y_preds_train = elasticregr.predict(X_train)\n",
    "y_preds_test = elasticregr.predict(X_test)\n",
    "\n",
    "print(\"Best alpha parameter is: {}\".format(elasticregr.alpha_))\n",
    "print(\"R-squared of the model on the training set is: {}\".format(elasticregr.score(X_train, y_train)))\n",
    "print(\"-----Test set statistics-----\")\n",
    "print(\"R-squared of the model on the test set is: {}\".format(elasticregr.score(X_test, y_test)))\n",
    "print(\"Mean absolute error of the prediction is: {}\".format(mean_absolute_error(y_test, y_preds_test)))\n",
    "print(\"Mean squared error of the prediction is: {}\".format(mse(y_test, y_preds_test)))\n",
    "print(\"Root mean squared error of the prediction is: {}\".format(rmse(y_test, y_preds_test)))\n",
    "print(\"Mean absolute percentage error of the prediction is: {}\".format(np.mean(np.abs((y_test - y_preds_test) / y_test)) * 100))\n"
   ]
  },
  {
   "cell_type": "markdown",
   "metadata": {},
   "source": [
    "Based on the results for each model, it's difficult to tell which one is the best, as each have their own positive and negative aspects. For example, OLS has the highest R-squared value, but also has the highest error values. Because the difference in R-squared is much smaller than the difference in errors, I'll remove OLS from the running. In conclusion, Lasso or ElasticNet regression provide the best models, with nearly identical results."
   ]
  }
 ],
 "metadata": {
  "kernelspec": {
   "display_name": "Python 3",
   "language": "python",
   "name": "python3"
  },
  "language_info": {
   "codemirror_mode": {
    "name": "ipython",
    "version": 3
   },
   "file_extension": ".py",
   "mimetype": "text/x-python",
   "name": "python",
   "nbconvert_exporter": "python",
   "pygments_lexer": "ipython3",
   "version": "3.7.3"
  }
 },
 "nbformat": 4,
 "nbformat_minor": 2
}
