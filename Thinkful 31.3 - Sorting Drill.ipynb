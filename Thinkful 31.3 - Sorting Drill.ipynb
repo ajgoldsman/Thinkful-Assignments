{
 "cells": [
  {
   "cell_type": "markdown",
   "metadata": {},
   "source": [
    "# DRILL\n",
    "Return to the [sorting wiki page](https://en.wikipedia.org/wiki/Sorting_algorithm) and pick an algorithm we haven't covered here (you probably want to pick one of the simpler ones, but it's up to you. Implement it in Python below and see how it compares in sorting our short and long lists. You should be able to easily find guides on how to implement any of the algorithms. Can you figure out why it runs faster or slower than our other sorting algorithms?\n",
    "\n",
    "Some good sorts to try are:\n",
    " - Heap Sort\n",
    " - Selection Sort\n",
    " - QuickSort"
   ]
  },
  {
   "cell_type": "markdown",
   "metadata": {},
   "source": [
    "## I chose Selection Sort. \n",
    "Wikipedia provided this informative graphic that shows the sorting process: \n",
    "![Animated Selection Sort visualization](https://upload.wikimedia.org/wikipedia/commons/9/94/Selection-Sort-Animation.gif)"
   ]
  },
  {
   "cell_type": "code",
   "execution_count": 64,
   "metadata": {},
   "outputs": [],
   "source": [
    "#Sort via Selection Sort\n",
    "\n",
    "def select_sort(lst):\n",
    "    lst_copy = lst.copy()\n",
    "    sorted_lst = []\n",
    "    for i in range(len(lst_copy)):\n",
    "        min_val = lst_copy[i]\n",
    "        min_ind = i\n",
    "        for j in range(i+1,len(lst_copy)):\n",
    "            if lst_copy[j] < min_val:\n",
    "                min_val = lst_copy[j]\n",
    "                min_ind = j\n",
    "\n",
    "        sorted_lst.append(min_val)\n",
    "        lst_copy[min_ind] = lst_copy[i]\n",
    "    \n",
    "    return sorted_lst\n"
   ]
  },
  {
   "cell_type": "code",
   "execution_count": 65,
   "metadata": {},
   "outputs": [],
   "source": [
    "import time\n",
    "import random\n",
    "\n",
    "# Set seed.\n",
    "random.seed(a=100)\n",
    "\n",
    "# Create our default list.\n",
    "short_list = list(random.sample(range(1000000), 10))\n",
    "long_list = list(random.sample(range(1000000), 10000))"
   ]
  },
  {
   "cell_type": "code",
   "execution_count": 68,
   "metadata": {},
   "outputs": [
    {
     "name": "stdout",
     "output_type": "stream",
     "text": [
      "Short List:\n",
      "[152745, 183236, 366725, 412125, 477025, 481850, 739784, 767514, 808225, 997948]\n",
      "--- 0.0 seconds ---\n",
      "\n",
      "\n",
      "Long List:\n",
      "--- 8.16354775428772 seconds ---\n"
     ]
    }
   ],
   "source": [
    "# Start Timer\n",
    "start_time = time.time()\n",
    "\n",
    "# Sort short list\n",
    "print('Short List:')\n",
    "print(select_sort(short_list))\n",
    "\n",
    "# Print time to show runtime\n",
    "print(\"--- %s seconds ---\" % (time.time() - start_time))\n",
    "print('\\n')\n",
    "\n",
    "\n",
    "# Start Timer\n",
    "start_time = time.time()\n",
    "\n",
    "# Sort long list\n",
    "select_sort(long_list)\n",
    "\n",
    "# Print time to show runtime\n",
    "print(\"Long List:\\n--- %s seconds ---\" % (time.time() - start_time))"
   ]
  },
  {
   "cell_type": "markdown",
   "metadata": {},
   "source": [
    "The Selection Sort algorithm runs slower than some of the other presented sorting algorithms, especially for longer lists, because its time complexity is O(n^2), in the best-case scenario. It has to sort through every element of the list multiple times, and swap the smallest elements to the earlier positions, which takes a lot of time when you're dealing with lists containing thousands of items."
   ]
  },
  {
   "cell_type": "code",
   "execution_count": null,
   "metadata": {},
   "outputs": [],
   "source": []
  }
 ],
 "metadata": {
  "kernelspec": {
   "display_name": "Python 3",
   "language": "python",
   "name": "python3"
  },
  "language_info": {
   "codemirror_mode": {
    "name": "ipython",
    "version": 3
   },
   "file_extension": ".py",
   "mimetype": "text/x-python",
   "name": "python",
   "nbconvert_exporter": "python",
   "pygments_lexer": "ipython3",
   "version": "3.7.3"
  }
 },
 "nbformat": 4,
 "nbformat_minor": 2
}
