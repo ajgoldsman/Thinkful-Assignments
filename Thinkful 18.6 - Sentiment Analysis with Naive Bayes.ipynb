{
 "cells": [
  {
   "cell_type": "markdown",
   "metadata": {},
   "source": [
    "The UCI Machine Learning database has a nice labeled [dataset of sentiment labelled sentences](https://archive.ics.uci.edu/ml/datasets/Sentiment+Labelled+Sentences) for us to use. This dataset was created for the paper [From Group to Individual Labels using Deep Features](http://mdenil.com/media/papers/2015-deep-multi-instance-learning.pdf), Kotzias et. al., KDD 2015.\n",
    "\n",
    "Pick one of the company data files and build your own classifier. When you're satisfied with its performance (at this point just using the accuracy measure shown in the example), test it on one of the other datasets to see how well these kinds of classifiers translate from one context to another."
   ]
  },
  {
   "cell_type": "markdown",
   "metadata": {},
   "source": [
    "The zip file provided at the link above contains a CSV of reviews data for three companies: Amazon, IMDB, and Yelp. For this project, I will be working with the IMDB dataset."
   ]
  },
  {
   "cell_type": "code",
   "execution_count": 1,
   "metadata": {},
   "outputs": [],
   "source": [
    "%matplotlib inline\n",
    "import numpy as np\n",
    "import pandas as pd\n",
    "import scipy\n",
    "import sklearn\n",
    "import matplotlib.pyplot as plt\n",
    "import seaborn as sns"
   ]
  },
  {
   "cell_type": "code",
   "execution_count": 155,
   "metadata": {},
   "outputs": [],
   "source": [
    "#Extract the TXT from the ZIP file\n",
    "import zipfile\n",
    "filename = \"Documents/Thinkful/Module 18/sentiment_labelled_sentences.zip\"\n",
    "\n",
    "zf = zipfile.ZipFile(filename)\n",
    "imdb_raw = pd.read_csv(zf.open('sentiment labelled sentences/imdb_labelled.txt'), delimiter = '\\t', header=None)\n",
    "imdb_raw.columns = ['message', 'sentiment']"
   ]
  },
  {
   "cell_type": "code",
   "execution_count": 156,
   "metadata": {},
   "outputs": [
    {
     "data": {
      "text/html": [
       "<div>\n",
       "<style scoped>\n",
       "    .dataframe tbody tr th:only-of-type {\n",
       "        vertical-align: middle;\n",
       "    }\n",
       "\n",
       "    .dataframe tbody tr th {\n",
       "        vertical-align: top;\n",
       "    }\n",
       "\n",
       "    .dataframe thead th {\n",
       "        text-align: right;\n",
       "    }\n",
       "</style>\n",
       "<table border=\"1\" class=\"dataframe\">\n",
       "  <thead>\n",
       "    <tr style=\"text-align: right;\">\n",
       "      <th></th>\n",
       "      <th>message</th>\n",
       "      <th>sentiment</th>\n",
       "    </tr>\n",
       "  </thead>\n",
       "  <tbody>\n",
       "    <tr>\n",
       "      <th>0</th>\n",
       "      <td>A very, very, very slow-moving, aimless movie ...</td>\n",
       "      <td>0</td>\n",
       "    </tr>\n",
       "    <tr>\n",
       "      <th>1</th>\n",
       "      <td>Not sure who was more lost - the flat characte...</td>\n",
       "      <td>0</td>\n",
       "    </tr>\n",
       "    <tr>\n",
       "      <th>2</th>\n",
       "      <td>Attempting artiness with black &amp; white and cle...</td>\n",
       "      <td>0</td>\n",
       "    </tr>\n",
       "    <tr>\n",
       "      <th>3</th>\n",
       "      <td>Very little music or anything to speak of.</td>\n",
       "      <td>0</td>\n",
       "    </tr>\n",
       "    <tr>\n",
       "      <th>4</th>\n",
       "      <td>The best scene in the movie was when Gerardo i...</td>\n",
       "      <td>1</td>\n",
       "    </tr>\n",
       "  </tbody>\n",
       "</table>\n",
       "</div>"
      ],
      "text/plain": [
       "                                             message  sentiment\n",
       "0  A very, very, very slow-moving, aimless movie ...          0\n",
       "1  Not sure who was more lost - the flat characte...          0\n",
       "2  Attempting artiness with black & white and cle...          0\n",
       "3       Very little music or anything to speak of.            0\n",
       "4  The best scene in the movie was when Gerardo i...          1"
      ]
     },
     "execution_count": 156,
     "metadata": {},
     "output_type": "execute_result"
    }
   ],
   "source": [
    "imdb_raw.head()"
   ]
  },
  {
   "cell_type": "code",
   "execution_count": 157,
   "metadata": {},
   "outputs": [
    {
     "data": {
      "text/html": [
       "<div>\n",
       "<style scoped>\n",
       "    .dataframe tbody tr th:only-of-type {\n",
       "        vertical-align: middle;\n",
       "    }\n",
       "\n",
       "    .dataframe tbody tr th {\n",
       "        vertical-align: top;\n",
       "    }\n",
       "\n",
       "    .dataframe thead th {\n",
       "        text-align: right;\n",
       "    }\n",
       "</style>\n",
       "<table border=\"1\" class=\"dataframe\">\n",
       "  <thead>\n",
       "    <tr style=\"text-align: right;\">\n",
       "      <th></th>\n",
       "      <th>message</th>\n",
       "      <th>sentiment</th>\n",
       "    </tr>\n",
       "  </thead>\n",
       "  <tbody>\n",
       "    <tr>\n",
       "      <th>0</th>\n",
       "      <td>a very very very slow-moving aimless movie abo...</td>\n",
       "      <td>0</td>\n",
       "    </tr>\n",
       "    <tr>\n",
       "      <th>1</th>\n",
       "      <td>not sure who was more lost the flat characters...</td>\n",
       "      <td>0</td>\n",
       "    </tr>\n",
       "    <tr>\n",
       "      <th>2</th>\n",
       "      <td>attempting artiness with black &amp; white and cle...</td>\n",
       "      <td>0</td>\n",
       "    </tr>\n",
       "    <tr>\n",
       "      <th>3</th>\n",
       "      <td>very little music or anything to speak of</td>\n",
       "      <td>0</td>\n",
       "    </tr>\n",
       "    <tr>\n",
       "      <th>4</th>\n",
       "      <td>the best scene in the movie was when gerardo i...</td>\n",
       "      <td>1</td>\n",
       "    </tr>\n",
       "  </tbody>\n",
       "</table>\n",
       "</div>"
      ],
      "text/plain": [
       "                                             message  sentiment\n",
       "0  a very very very slow-moving aimless movie abo...          0\n",
       "1  not sure who was more lost the flat characters...          0\n",
       "2  attempting artiness with black & white and cle...          0\n",
       "3        very little music or anything to speak of            0\n",
       "4  the best scene in the movie was when gerardo i...          1"
      ]
     },
     "execution_count": 157,
     "metadata": {},
     "output_type": "execute_result"
    }
   ],
   "source": [
    "#Instead of defining lists of positive and negative words manually, let's extract them.\n",
    "\n",
    "#pos_words = [' best ', ' good ', ' great ', ' greatest ', ' love ', ' loved ', ' perfect ', '']\n",
    "#neg_words = [' disappoint ', ' disappointed ', ' disappointing ', ' disappointment ', ' horrible ', ' worst ', '  ']\n",
    "\n",
    "#First, we clean the data so we can extract similar words, i.e. turn everything lowercase and remove punctuation\n",
    "clean_msg = [row.lower()\n",
    "           .replace(\",\", \"\").replace(\".\", \"\").replace(\"!\", \"\").replace(\"?\", \"\")\n",
    "           .replace(\";\", \"\").replace(\":\", \"\").replace(\"*\", \"\")\n",
    "           .replace(\" - \", \" \").replace(\"(\", \"\")\n",
    "           .replace(\")\", \"\").replace(\"/\", \"\")\n",
    "           for row in imdb_raw['message']]\n",
    "\n",
    "imdb_raw['message'] = clean_msg\n",
    "imdb_raw.head()"
   ]
  },
  {
   "cell_type": "code",
   "execution_count": 158,
   "metadata": {},
   "outputs": [],
   "source": [
    "#Split into two datasets: positive and negative\n",
    "pos_msg = imdb_raw['message'][imdb_raw['sentiment']==1]\n",
    "pos_msg = list(pos_msg.reset_index(drop=True))\n",
    "\n",
    "neg_msg = imdb_raw['message'][imdb_raw['sentiment']==0]\n",
    "neg_msg = list(neg_msg.reset_index(drop=True))\n",
    "\n",
    "#Combine all strings into one long string for each dataset\n",
    "seperator = ' '\n",
    "pos_long = seperator.join(pos_msg)\n",
    "neg_long = seperator.join(neg_msg)\n",
    "\n",
    "#Extract words and number of repeats in each dataset\n",
    "from collections import Counter\n",
    "pos_counts = Counter(pos_long.split())\n",
    "neg_counts = Counter(neg_long.split())"
   ]
  },
  {
   "cell_type": "code",
   "execution_count": 159,
   "metadata": {
    "scrolled": false
   },
   "outputs": [],
   "source": [
    "#Get list of positive and negative words that appear at least twice\n",
    "pos_words = [x[0] for x in pos_counts.most_common() if x[1] >= 2]\n",
    "neg_words = [x[0] for x in neg_counts.most_common() if x[1] >= 2]\n",
    "\n",
    "#Remove any words that appear in both lists\n",
    "for word in pos_words[:]:\n",
    "    if word in neg_words:\n",
    "        pos_words.remove(word)\n",
    "        neg_words.remove(word)\n"
   ]
  },
  {
   "cell_type": "code",
   "execution_count": 160,
   "metadata": {},
   "outputs": [],
   "source": [
    "#Now that we have a list of positive and negative keywords, compare them to all messages\n",
    "for word in pos_words:\n",
    "    imdb_raw['Positive: ' + str(word)] = imdb_raw.message.str.contains(' ' + str(word) + ' ', case=False)\n",
    "    \n",
    "for word in neg_words:\n",
    "    imdb_raw['Negative: ' + str(word)] = imdb_raw.message.str.contains(' ' + str(word) + ' ', case=False)\n",
    "       "
   ]
  },
  {
   "cell_type": "code",
   "execution_count": 161,
   "metadata": {},
   "outputs": [],
   "source": [
    "#Convert sentiment column into boolean for positive sentiment\n",
    "imdb_raw['sentiment'] = (imdb_raw['sentiment'] == 1)"
   ]
  },
  {
   "cell_type": "code",
   "execution_count": 162,
   "metadata": {},
   "outputs": [],
   "source": [
    "#Use Bernoulli to test for accuracy of the model based on current keywords\n",
    "data = imdb_raw[imdb_raw.columns.drop(['message','sentiment'])]\n",
    "target = imdb_raw['sentiment']"
   ]
  },
  {
   "cell_type": "code",
   "execution_count": 163,
   "metadata": {},
   "outputs": [
    {
     "name": "stdout",
     "output_type": "stream",
     "text": [
      "Number of mislabeled points out of a total 748 points : 104\n"
     ]
    }
   ],
   "source": [
    "from sklearn.naive_bayes import BernoulliNB\n",
    "\n",
    "# Instantiate our model and store it in a new variable.\n",
    "bnb = BernoulliNB()\n",
    "\n",
    "# Fit our model to the data.\n",
    "bnb.fit(data, target)\n",
    "\n",
    "# Classify, storing the result in a new variable.\n",
    "y_pred = bnb.predict(data)\n",
    "\n",
    "# Display our results.\n",
    "print(\"Number of mislabeled points out of a total {} points : {}\".format(\n",
    "    data.shape[0],\n",
    "    (target != y_pred).sum()\n",
    "))"
   ]
  },
  {
   "cell_type": "markdown",
   "metadata": {},
   "source": [
    "### Test Other Data\n",
    "Now that we have a working model for the IMDB data, let's test the same model on reviews from Amazon to see if the classifiers transfer over well."
   ]
  },
  {
   "cell_type": "code",
   "execution_count": 164,
   "metadata": {},
   "outputs": [
    {
     "data": {
      "text/html": [
       "<div>\n",
       "<style scoped>\n",
       "    .dataframe tbody tr th:only-of-type {\n",
       "        vertical-align: middle;\n",
       "    }\n",
       "\n",
       "    .dataframe tbody tr th {\n",
       "        vertical-align: top;\n",
       "    }\n",
       "\n",
       "    .dataframe thead th {\n",
       "        text-align: right;\n",
       "    }\n",
       "</style>\n",
       "<table border=\"1\" class=\"dataframe\">\n",
       "  <thead>\n",
       "    <tr style=\"text-align: right;\">\n",
       "      <th></th>\n",
       "      <th>message</th>\n",
       "      <th>sentiment</th>\n",
       "    </tr>\n",
       "  </thead>\n",
       "  <tbody>\n",
       "    <tr>\n",
       "      <th>0</th>\n",
       "      <td>so there is no way for me to plug it in here i...</td>\n",
       "      <td>0</td>\n",
       "    </tr>\n",
       "    <tr>\n",
       "      <th>1</th>\n",
       "      <td>good case excellent value</td>\n",
       "      <td>1</td>\n",
       "    </tr>\n",
       "    <tr>\n",
       "      <th>2</th>\n",
       "      <td>great for the jawbone</td>\n",
       "      <td>1</td>\n",
       "    </tr>\n",
       "    <tr>\n",
       "      <th>3</th>\n",
       "      <td>tied to charger for conversations lasting more...</td>\n",
       "      <td>0</td>\n",
       "    </tr>\n",
       "    <tr>\n",
       "      <th>4</th>\n",
       "      <td>the mic is great</td>\n",
       "      <td>1</td>\n",
       "    </tr>\n",
       "  </tbody>\n",
       "</table>\n",
       "</div>"
      ],
      "text/plain": [
       "                                             message  sentiment\n",
       "0  so there is no way for me to plug it in here i...          0\n",
       "1                          good case excellent value          1\n",
       "2                              great for the jawbone          1\n",
       "3  tied to charger for conversations lasting more...          0\n",
       "4                                   the mic is great          1"
      ]
     },
     "execution_count": 164,
     "metadata": {},
     "output_type": "execute_result"
    }
   ],
   "source": [
    "#Extract the TXT from the ZIP file\n",
    "amazon_raw = pd.read_csv(zf.open('sentiment labelled sentences/amazon_cells_labelled.txt'), delimiter = '\\t', header=None)\n",
    "amazon_raw.columns = ['message', 'sentiment']\n",
    "\n",
    "clean_msg = [row.lower()\n",
    "           .replace(\",\", \"\").replace(\".\", \"\").replace(\"!\", \"\").replace(\"?\", \"\")\n",
    "           .replace(\";\", \"\").replace(\":\", \"\").replace(\"*\", \"\")\n",
    "           .replace(\" - \", \" \").replace(\"(\", \"\")\n",
    "           .replace(\")\", \"\").replace(\"/\", \"\")\n",
    "           for row in amazon_raw['message']]\n",
    "\n",
    "amazon_raw['message'] = clean_msg\n",
    "amazon_raw.head()"
   ]
  },
  {
   "cell_type": "code",
   "execution_count": 165,
   "metadata": {},
   "outputs": [
    {
     "name": "stdout",
     "output_type": "stream",
     "text": [
      "Number of mislabeled points out of a total 1000 points : 339\n"
     ]
    }
   ],
   "source": [
    "#Now that we have a list of positive and negative keywords, compare them to all messages\n",
    "for word in pos_words:\n",
    "    amazon_raw['Positive: ' + str(word)] = amazon_raw.message.str.contains(' ' + str(word) + ' ', case=False)\n",
    "    \n",
    "for word in neg_words:\n",
    "    amazon_raw['Negative: ' + str(word)] = amazon_raw.message.str.contains(' ' + str(word) + ' ', case=False)\n",
    "       \n",
    "#Convert sentiment column into boolean for positive sentiment\n",
    "amazon_raw['sentiment'] = (amazon_raw['sentiment'] == 1)        \n",
    "\n",
    "#Use Bernoulli to test for accuracy of the model based on current keywords\n",
    "data = amazon_raw[amazon_raw.columns.drop(['message','sentiment'])]\n",
    "target = amazon_raw['sentiment']\n",
    "\n",
    "# Instantiate our model and store it in a new variable.\n",
    "bnb = BernoulliNB()\n",
    "\n",
    "# Fit our model to the data.\n",
    "bnb.fit(data, target)\n",
    "\n",
    "# Classify, storing the result in a new variable.\n",
    "y_pred = bnb.predict(data)\n",
    "\n",
    "# Display our results.\n",
    "print(\"Number of mislabeled points out of a total {} points : {}\".format(\n",
    "    data.shape[0],\n",
    "    (target != y_pred).sum()\n",
    "))"
   ]
  },
  {
   "cell_type": "markdown",
   "metadata": {},
   "source": [
    "### Conclusions:\n",
    "The model designed using IMDB data had much higher accuracy when analyzing the IMDB dataset as when it was used to analyze the Amazon dataset. ~14% of the IMDB messages were mislabeled with this model, while ~34% of Amazon messages were mislabeled. This is likely due to the fact that IMDB reviews have to do with movies, while Amazon reviews have to do with products, so the positive and negative words used for each review probably tend to differ greatly."
   ]
  },
  {
   "cell_type": "code",
   "execution_count": null,
   "metadata": {},
   "outputs": [],
   "source": []
  }
 ],
 "metadata": {
  "kernelspec": {
   "display_name": "Python 3",
   "language": "python",
   "name": "python3"
  },
  "language_info": {
   "codemirror_mode": {
    "name": "ipython",
    "version": 3
   },
   "file_extension": ".py",
   "mimetype": "text/x-python",
   "name": "python",
   "nbconvert_exporter": "python",
   "pygments_lexer": "ipython3",
   "version": "3.7.3"
  }
 },
 "nbformat": 4,
 "nbformat_minor": 2
}
