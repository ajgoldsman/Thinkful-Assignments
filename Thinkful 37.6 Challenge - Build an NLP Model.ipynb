{
 "cells": [
  {
   "cell_type": "markdown",
   "metadata": {},
   "source": [
    "# Challenge: Build an NLP Model\n",
    "For this challenge, we chose a corpus of data from nltk or another source that includes categories to predict and create an analysis pipeline that includes the following steps:\n",
    "\n",
    "1. Data cleaning / processing / language parsing\n",
    "2. Create features using two different NLP methods: For example, BoW vs tf-idf.\n",
    "3. Use the features to fit supervised learning models for each feature set to predict the category outcomes.\n",
    "4. Assess your models using cross-validation and determine whether one model performed better.\n",
    "5. Pick one of the models and try to increase accuracy by at least 5 percentage points."
   ]
  },
  {
   "cell_type": "markdown",
   "metadata": {},
   "source": [
    "## Import Libraries"
   ]
  },
  {
   "cell_type": "code",
   "execution_count": 1,
   "metadata": {},
   "outputs": [],
   "source": [
    "%matplotlib inline\n",
    "import numpy as np\n",
    "import pandas as pd\n",
    "import scipy\n",
    "import sklearn\n",
    "import spacy\n",
    "import matplotlib.pyplot as plt\n",
    "import seaborn as sns\n",
    "import re\n",
    "from nltk.corpus import gutenberg, stopwords\n",
    "from collections import Counter\n",
    "import nltk\n",
    "import json\n",
    "import requests\n",
    "from sklearn.feature_extraction.text import TfidfVectorizer\n",
    "\n",
    "import warnings\n",
    "warnings.filterwarnings('ignore')"
   ]
  },
  {
   "cell_type": "markdown",
   "metadata": {},
   "source": [
    "## Extract Shakespeare Works"
   ]
  },
  {
   "cell_type": "code",
   "execution_count": 3,
   "metadata": {},
   "outputs": [],
   "source": [
    "# Load the data.\n",
    "caesar = gutenberg.raw('shakespeare-caesar.txt')\n",
    "hamlet = gutenberg.raw('shakespeare-hamlet.txt')\n",
    "macbeth = gutenberg.raw('shakespeare-macbeth.txt')\n"
   ]
  },
  {
   "cell_type": "code",
   "execution_count": 4,
   "metadata": {},
   "outputs": [],
   "source": [
    "#Remove idiosyncratic Act (Actus) and Scene (Scena) headers\n",
    "caesar = re.sub(r'Actus .*', '', caesar)\n",
    "hamlet = re.sub(r'Actus .*', '', hamlet)\n",
    "macbeth = re.sub(r'Actus .*', '', macbeth)"
   ]
  },
  {
   "cell_type": "markdown",
   "metadata": {},
   "source": [
    "## Text Cleaning"
   ]
  },
  {
   "cell_type": "code",
   "execution_count": 5,
   "metadata": {},
   "outputs": [],
   "source": [
    "# Utility function for standard text cleaning.\n",
    "def text_cleaner(text):\n",
    "    # Visual inspection identifies a form of punctuation spaCy does not\n",
    "    # recognize: the double dash '--'.  Better get rid of it now!\n",
    "    text = re.sub(r'--',' ',text)\n",
    "    text = re.sub(\"[\\[].*?[\\]]\", \"\", text)\n",
    "    text = ' '.join(text.split())\n",
    "    return text\n",
    "    \n",
    "caesar_clean = text_cleaner(caesar)\n",
    "hamlet_clean = text_cleaner(hamlet)\n",
    "macbeth_clean = text_cleaner(macbeth)"
   ]
  },
  {
   "cell_type": "markdown",
   "metadata": {},
   "source": [
    "## NLP via Spacy"
   ]
  },
  {
   "cell_type": "code",
   "execution_count": 6,
   "metadata": {},
   "outputs": [],
   "source": [
    "nlp = spacy.load('en')\n",
    "\n",
    "caesar_doc = nlp(caesar_clean)\n",
    "hamlet_doc = nlp(hamlet_clean)\n",
    "macbeth_doc = nlp(macbeth_clean)"
   ]
  },
  {
   "cell_type": "markdown",
   "metadata": {},
   "source": [
    "## Sentence Extraction"
   ]
  },
  {
   "cell_type": "code",
   "execution_count": 12,
   "metadata": {},
   "outputs": [
    {
     "name": "stdout",
     "output_type": "stream",
     "text": [
      "2330\n",
      "3303\n",
      "2128\n"
     ]
    }
   ],
   "source": [
    "# Group into sentences.\n",
    "caesar_sents = [[sent, \"Caesar\"] for sent in caesar_doc.sents]\n",
    "hamlet_sents = [[sent, \"Hamlet\"] for sent in hamlet_doc.sents]\n",
    "macbeth_sents = [[sent, \"Macbeth\"] for sent in macbeth_doc.sents]\n",
    "\n",
    "print(len(caesar_sents))\n",
    "print(len(hamlet_sents))\n",
    "print(len(macbeth_sents))"
   ]
  },
  {
   "cell_type": "code",
   "execution_count": 13,
   "metadata": {},
   "outputs": [
    {
     "data": {
      "text/html": [
       "<div>\n",
       "<style scoped>\n",
       "    .dataframe tbody tr th:only-of-type {\n",
       "        vertical-align: middle;\n",
       "    }\n",
       "\n",
       "    .dataframe tbody tr th {\n",
       "        vertical-align: top;\n",
       "    }\n",
       "\n",
       "    .dataframe thead th {\n",
       "        text-align: right;\n",
       "    }\n",
       "</style>\n",
       "<table border=\"1\" class=\"dataframe\">\n",
       "  <thead>\n",
       "    <tr style=\"text-align: right;\">\n",
       "      <th></th>\n",
       "      <th>0</th>\n",
       "      <th>1</th>\n",
       "    </tr>\n",
       "  </thead>\n",
       "  <tbody>\n",
       "    <tr>\n",
       "      <th>0</th>\n",
       "      <td>(Enter, Flauius, ,, Murellus, ,, and, certaine...</td>\n",
       "      <td>Caesar</td>\n",
       "    </tr>\n",
       "    <tr>\n",
       "      <th>1</th>\n",
       "      <td>(Flauius, .)</td>\n",
       "      <td>Caesar</td>\n",
       "    </tr>\n",
       "    <tr>\n",
       "      <th>2</th>\n",
       "      <td>(Hence, :, home, you, idle, Creatures, ,, get,...</td>\n",
       "      <td>Caesar</td>\n",
       "    </tr>\n",
       "    <tr>\n",
       "      <th>3</th>\n",
       "      <td>(Is, this, a, Holiday, ?)</td>\n",
       "      <td>Caesar</td>\n",
       "    </tr>\n",
       "    <tr>\n",
       "      <th>4</th>\n",
       "      <td>(What, ,, know, you, not, (, Being, Mechanical...</td>\n",
       "      <td>Caesar</td>\n",
       "    </tr>\n",
       "  </tbody>\n",
       "</table>\n",
       "</div>"
      ],
      "text/plain": [
       "                                                   0       1\n",
       "0  (Enter, Flauius, ,, Murellus, ,, and, certaine...  Caesar\n",
       "1                                       (Flauius, .)  Caesar\n",
       "2  (Hence, :, home, you, idle, Creatures, ,, get,...  Caesar\n",
       "3                          (Is, this, a, Holiday, ?)  Caesar\n",
       "4  (What, ,, know, you, not, (, Being, Mechanical...  Caesar"
      ]
     },
     "execution_count": 13,
     "metadata": {},
     "output_type": "execute_result"
    }
   ],
   "source": [
    "#Trim datasets so that document lengths are the same\n",
    "c_sents = caesar_sents[:len(macbeth_sents)]\n",
    "h_sents = hamlet_sents[:len(macbeth_sents)]\n",
    "\n",
    "# Combine the sentences from the two novels into one data frame.\n",
    "sentences = pd.DataFrame(c_sents + h_sents + macbeth_sents)\n",
    "sentences.head()"
   ]
  },
  {
   "cell_type": "markdown",
   "metadata": {},
   "source": [
    "## Create BoW Features"
   ]
  },
  {
   "cell_type": "code",
   "execution_count": 14,
   "metadata": {},
   "outputs": [],
   "source": [
    "# Utility function to create a list of the 2000 most common words.\n",
    "def bag_of_words(text):\n",
    "    \n",
    "    # Filter out punctuation and stop words.\n",
    "    allwords = [token.lemma_\n",
    "                for token in text\n",
    "                if not token.is_punct\n",
    "                and not token.is_stop]\n",
    "    \n",
    "    # Return the most common words.\n",
    "    return [item[0] for item in Counter(allwords).most_common(2000)]\n",
    "\n",
    "def bow_features(sentences, common_words):\n",
    "    df = pd.DataFrame(columns=common_words)\n",
    "    df['text_sentence'] = sentences[0]\n",
    "    df['text_source'] = sentences[1]\n",
    "    df.loc[:,common_words] = 0\n",
    "    \n",
    "    for i, sentence in enumerate(df['text_sentence']):\n",
    "        words = [token.lemma_ \n",
    "                for token in sentence\n",
    "                if (\n",
    "                    not token.is_punct\n",
    "                    and not token.is_stop\n",
    "                    and token.lemma_ in common_words\n",
    "                )]\n",
    "        for word in words:\n",
    "            df.loc[i, word] += 1\n",
    "        if i%500 == 0:\n",
    "            print('Processing row {}'.format(i))\n",
    "    return df"
   ]
  },
  {
   "cell_type": "code",
   "execution_count": 150,
   "metadata": {},
   "outputs": [],
   "source": [
    "#Reset docs with new set of sentences\n",
    "new_caesar_doc = ' '.join([(str(sent)) for sent in pd.DataFrame(c_sents)[0]])\n",
    "new_hamlet_doc = ' '.join([(str(sent)) for sent in pd.DataFrame(h_sents)[0]])\n",
    "\n",
    "# Set up the bags.\n",
    "caesarwords = bag_of_words(nlp(new_caesar_doc))\n",
    "hamletwords = bag_of_words(nlp(new_hamlet_doc))\n",
    "macbethwords = bag_of_words(macbeth_doc)\n",
    "\n",
    "# Combine bags to create a set of unique words.\n",
    "common_words = set(caesarwords + hamletwords + macbethwords)"
   ]
  },
  {
   "cell_type": "code",
   "execution_count": 19,
   "metadata": {
    "scrolled": false
   },
   "outputs": [
    {
     "name": "stdout",
     "output_type": "stream",
     "text": [
      "Processing row 0\n",
      "Processing row 500\n",
      "Processing row 1000\n",
      "Processing row 1500\n",
      "Processing row 2000\n",
      "Processing row 2500\n",
      "Processing row 3000\n",
      "Processing row 3500\n",
      "Processing row 4000\n",
      "Processing row 4500\n",
      "Processing row 5000\n",
      "Processing row 5500\n",
      "Processing row 6000\n"
     ]
    },
    {
     "data": {
      "text/html": [
       "<div>\n",
       "<style scoped>\n",
       "    .dataframe tbody tr th:only-of-type {\n",
       "        vertical-align: middle;\n",
       "    }\n",
       "\n",
       "    .dataframe tbody tr th {\n",
       "        vertical-align: top;\n",
       "    }\n",
       "\n",
       "    .dataframe thead th {\n",
       "        text-align: right;\n",
       "    }\n",
       "</style>\n",
       "<table border=\"1\" class=\"dataframe\">\n",
       "  <thead>\n",
       "    <tr style=\"text-align: right;\">\n",
       "      <th></th>\n",
       "      <th>broad</th>\n",
       "      <th>orewhelm</th>\n",
       "      <th>sightlesse</th>\n",
       "      <th>chafe</th>\n",
       "      <th>Bear't</th>\n",
       "      <th>bonfire</th>\n",
       "      <th>Implements</th>\n",
       "      <th>bray</th>\n",
       "      <th>plunge</th>\n",
       "      <th>Byrnan</th>\n",
       "      <th>...</th>\n",
       "      <th>dis</th>\n",
       "      <th>body</th>\n",
       "      <th>smooth</th>\n",
       "      <th>grant</th>\n",
       "      <th>corporall</th>\n",
       "      <th>Holyday</th>\n",
       "      <th>friend</th>\n",
       "      <th>conceiue</th>\n",
       "      <th>text_sentence</th>\n",
       "      <th>text_source</th>\n",
       "    </tr>\n",
       "  </thead>\n",
       "  <tbody>\n",
       "    <tr>\n",
       "      <th>0</th>\n",
       "      <td>0</td>\n",
       "      <td>0</td>\n",
       "      <td>0</td>\n",
       "      <td>0</td>\n",
       "      <td>0</td>\n",
       "      <td>0</td>\n",
       "      <td>0</td>\n",
       "      <td>0</td>\n",
       "      <td>0</td>\n",
       "      <td>0</td>\n",
       "      <td>...</td>\n",
       "      <td>0</td>\n",
       "      <td>0</td>\n",
       "      <td>0</td>\n",
       "      <td>0</td>\n",
       "      <td>0</td>\n",
       "      <td>0</td>\n",
       "      <td>0</td>\n",
       "      <td>0</td>\n",
       "      <td>(Enter, Flauius, ,, Murellus, ,, and, certaine...</td>\n",
       "      <td>Caesar</td>\n",
       "    </tr>\n",
       "    <tr>\n",
       "      <th>1</th>\n",
       "      <td>0</td>\n",
       "      <td>0</td>\n",
       "      <td>0</td>\n",
       "      <td>0</td>\n",
       "      <td>0</td>\n",
       "      <td>0</td>\n",
       "      <td>0</td>\n",
       "      <td>0</td>\n",
       "      <td>0</td>\n",
       "      <td>0</td>\n",
       "      <td>...</td>\n",
       "      <td>0</td>\n",
       "      <td>0</td>\n",
       "      <td>0</td>\n",
       "      <td>0</td>\n",
       "      <td>0</td>\n",
       "      <td>0</td>\n",
       "      <td>0</td>\n",
       "      <td>0</td>\n",
       "      <td>(Flauius, .)</td>\n",
       "      <td>Caesar</td>\n",
       "    </tr>\n",
       "    <tr>\n",
       "      <th>2</th>\n",
       "      <td>0</td>\n",
       "      <td>0</td>\n",
       "      <td>0</td>\n",
       "      <td>0</td>\n",
       "      <td>0</td>\n",
       "      <td>0</td>\n",
       "      <td>0</td>\n",
       "      <td>0</td>\n",
       "      <td>0</td>\n",
       "      <td>0</td>\n",
       "      <td>...</td>\n",
       "      <td>0</td>\n",
       "      <td>0</td>\n",
       "      <td>0</td>\n",
       "      <td>0</td>\n",
       "      <td>0</td>\n",
       "      <td>0</td>\n",
       "      <td>0</td>\n",
       "      <td>0</td>\n",
       "      <td>(Hence, :, home, you, idle, Creatures, ,, get,...</td>\n",
       "      <td>Caesar</td>\n",
       "    </tr>\n",
       "    <tr>\n",
       "      <th>3</th>\n",
       "      <td>0</td>\n",
       "      <td>0</td>\n",
       "      <td>0</td>\n",
       "      <td>0</td>\n",
       "      <td>0</td>\n",
       "      <td>0</td>\n",
       "      <td>0</td>\n",
       "      <td>0</td>\n",
       "      <td>0</td>\n",
       "      <td>0</td>\n",
       "      <td>...</td>\n",
       "      <td>0</td>\n",
       "      <td>0</td>\n",
       "      <td>0</td>\n",
       "      <td>0</td>\n",
       "      <td>0</td>\n",
       "      <td>0</td>\n",
       "      <td>0</td>\n",
       "      <td>0</td>\n",
       "      <td>(Is, this, a, Holiday, ?)</td>\n",
       "      <td>Caesar</td>\n",
       "    </tr>\n",
       "    <tr>\n",
       "      <th>4</th>\n",
       "      <td>0</td>\n",
       "      <td>0</td>\n",
       "      <td>0</td>\n",
       "      <td>0</td>\n",
       "      <td>0</td>\n",
       "      <td>0</td>\n",
       "      <td>0</td>\n",
       "      <td>0</td>\n",
       "      <td>0</td>\n",
       "      <td>0</td>\n",
       "      <td>...</td>\n",
       "      <td>0</td>\n",
       "      <td>0</td>\n",
       "      <td>0</td>\n",
       "      <td>0</td>\n",
       "      <td>0</td>\n",
       "      <td>0</td>\n",
       "      <td>0</td>\n",
       "      <td>0</td>\n",
       "      <td>(What, ,, know, you, not, (, Being, Mechanical...</td>\n",
       "      <td>Caesar</td>\n",
       "    </tr>\n",
       "  </tbody>\n",
       "</table>\n",
       "<p>5 rows × 4318 columns</p>\n",
       "</div>"
      ],
      "text/plain": [
       "  broad orewhelm sightlesse chafe Bear't bonfire Implements bray plunge  \\\n",
       "0     0        0          0     0      0       0          0    0      0   \n",
       "1     0        0          0     0      0       0          0    0      0   \n",
       "2     0        0          0     0      0       0          0    0      0   \n",
       "3     0        0          0     0      0       0          0    0      0   \n",
       "4     0        0          0     0      0       0          0    0      0   \n",
       "\n",
       "  Byrnan  ... dis body smooth grant corporall Holyday friend conceiue  \\\n",
       "0      0  ...   0    0      0     0         0       0      0        0   \n",
       "1      0  ...   0    0      0     0         0       0      0        0   \n",
       "2      0  ...   0    0      0     0         0       0      0        0   \n",
       "3      0  ...   0    0      0     0         0       0      0        0   \n",
       "4      0  ...   0    0      0     0         0       0      0        0   \n",
       "\n",
       "                                       text_sentence text_source  \n",
       "0  (Enter, Flauius, ,, Murellus, ,, and, certaine...      Caesar  \n",
       "1                                       (Flauius, .)      Caesar  \n",
       "2  (Hence, :, home, you, idle, Creatures, ,, get,...      Caesar  \n",
       "3                          (Is, this, a, Holiday, ?)      Caesar  \n",
       "4  (What, ,, know, you, not, (, Being, Mechanical...      Caesar  \n",
       "\n",
       "[5 rows x 4318 columns]"
      ]
     },
     "execution_count": 19,
     "metadata": {},
     "output_type": "execute_result"
    }
   ],
   "source": [
    "# Create features\n",
    "word_counts = bow_features(sentences, common_words)\n",
    "word_counts.head()"
   ]
  },
  {
   "cell_type": "code",
   "execution_count": 20,
   "metadata": {
    "scrolled": true
   },
   "outputs": [
    {
     "data": {
      "text/plain": [
       "(6384, 4318)"
      ]
     },
     "execution_count": 20,
     "metadata": {},
     "output_type": "execute_result"
    }
   ],
   "source": [
    "word_counts.shape"
   ]
  },
  {
   "cell_type": "markdown",
   "metadata": {},
   "source": [
    "## Create tf-idf Features"
   ]
  },
  {
   "cell_type": "code",
   "execution_count": 31,
   "metadata": {},
   "outputs": [],
   "source": [
    "sents_list = [str(sent) for sent in sentences[0]]"
   ]
  },
  {
   "cell_type": "code",
   "execution_count": 32,
   "metadata": {},
   "outputs": [
    {
     "name": "stdout",
     "output_type": "stream",
     "text": [
      "Number of features: 3161\n",
      "Original sentence: Be Lyon metled, proud, and take no care:\n",
      "Tf_idf vector: {'metled': 0.49101402450721193, 'proud': 0.49101402450721193, 'care': 0.4429901765213423, 'Lyon': 0.45172725607865366, 'Be': 0.342801174291604}\n"
     ]
    }
   ],
   "source": [
    "from sklearn.model_selection import train_test_split\n",
    "\n",
    "X_train, X_test = train_test_split(sents_list, test_size=0.4, random_state=0)\n",
    "\n",
    "vectorizer = TfidfVectorizer(max_df=0.5, # drop words that occur in more than half the sentences\n",
    "                             min_df=2, # only use words that appear at least twice\n",
    "                             stop_words='english', \n",
    "                             lowercase=True, #Shakespeare tends to capitalize words for emphasis\n",
    "                             use_idf=True,#we definitely want to use inverse document frequencies in our weighting\n",
    "                             norm=u'l2', #Applies a correction factor so that longer sentences and shorter sentences get treated equally\n",
    "                             smooth_idf=True #Adds 1 to all document frequencies, as if an extra document existed that used every word once.  Prevents divide-by-zero errors\n",
    "                            )\n",
    "\n",
    "\n",
    "#Applying the vectorizer\n",
    "sents_tfidf=vectorizer.fit_transform(sents_list)\n",
    "print(\"Number of features: %d\" % sents_tfidf.get_shape()[1])\n",
    "\n",
    "#splitting into training and test sets\n",
    "X_train_tfidf, X_test_tfidf= train_test_split(sents_tfidf, test_size=0.4, random_state=0)\n",
    "\n",
    "\n",
    "#Reshapes the vectorizer output into something people can read\n",
    "X_train_tfidf_csr = X_train_tfidf.tocsr()\n",
    "\n",
    "#number of sentences\n",
    "n = X_train_tfidf_csr.shape[0]\n",
    "#A list of dictionaries, one per sentence\n",
    "tfidf_bysent = [{} for _ in range(0,n)]\n",
    "#List of features\n",
    "terms = vectorizer.get_feature_names()\n",
    "#for each paragraph, lists the feature words and their tf-idf scores\n",
    "for i, j in zip(*X_train_tfidf_csr.nonzero()):\n",
    "    tfidf_bysent[i][terms[j]] = X_train_tfidf_csr[i, j]\n",
    "\n",
    "#Keep in mind that the log base 2 of 1 is 0, so a tf-idf score of 0 indicates that the word was present once in that sentence.\n",
    "print('Original sentence:', X_train[5])\n",
    "print('Tf_idf vector:', tfidf_bysent[5])"
   ]
  },
  {
   "cell_type": "markdown",
   "metadata": {},
   "source": [
    "## Unsupervised Learning: SVD Data Reduction"
   ]
  },
  {
   "cell_type": "code",
   "execution_count": 34,
   "metadata": {},
   "outputs": [
    {
     "name": "stdout",
     "output_type": "stream",
     "text": [
      "Percent variance captured by all components: 38.150758120041104\n",
      "Component 0:\n",
      "Ham.    0.966633\n",
      "Ham.    0.966633\n",
      "Ham.    0.966633\n",
      "Ham.    0.966633\n",
      "Ham.    0.966633\n",
      "Ham.    0.966633\n",
      "Ham.    0.966633\n",
      "Ham.    0.966633\n",
      "Ham.    0.966633\n",
      "Ham.    0.966633\n",
      "Name: 0, dtype: float64\n",
      "Component 1:\n",
      "my Lord, which was reported Macb.    0.862063\n",
      "Macb.                                0.842634\n",
      "Macb.                                0.842634\n",
      "Macb.                                0.842634\n",
      "Macb.                                0.842634\n",
      "Macb.                                0.842634\n",
      "' Building Macb.                     0.842634\n",
      "Macb.                                0.842634\n",
      "Macb.                                0.842634\n",
      "Macb.                                0.842634\n",
      "Name: 1, dtype: float64\n",
      "Component 2:\n",
      "Enter.    0.949122\n",
      "Enter.    0.949122\n",
      "Enter.    0.949122\n",
      "Enter.    0.949122\n",
      "Enter.    0.949122\n",
      "Enter.    0.949122\n",
      "Enter.    0.949122\n",
      "Enter.    0.949122\n",
      "Enter.    0.949122\n",
      "Enter.    0.949122\n",
      "Name: 2, dtype: float64\n",
      "Component 3:\n",
      "Exeunt.          0.999211\n",
      "Exeunt.          0.999211\n",
      "Exeunt.          0.999211\n",
      "Exeunt.          0.999211\n",
      "Exeunt.          0.999211\n",
      "Exeunt.          0.999211\n",
      "Exeunt.          0.999211\n",
      "Exeunt.          0.999211\n",
      "Exeunt.          0.999211\n",
      "Exeunt Omnes.    0.999211\n",
      "Name: 3, dtype: float64\n",
      "Component 4:\n",
      "What speech, my Lord?               0.699567\n",
      "What is my Lord?                    0.695901\n",
      "What do you read my Lord?           0.695098\n",
      "What sights, my Lord?               0.694836\n",
      "What meanes this, my Lord?          0.694258\n",
      "What newes, my Lord?                0.686030\n",
      "What, frighted with false fire      0.596712\n",
      ": What's done, cannot be vndone.    0.593350\n",
      "What's he                           0.592567\n",
      "What with Wormes, and Flyes?        0.592567\n",
      "Name: 4, dtype: float64\n"
     ]
    }
   ],
   "source": [
    "from sklearn.decomposition import TruncatedSVD\n",
    "from sklearn.pipeline import make_pipeline\n",
    "from sklearn.preprocessing import Normalizer\n",
    "\n",
    "#Our SVD data reducer.  We are going to reduce the feature space from 3161 to 130.\n",
    "svd= TruncatedSVD(130)\n",
    "lsa = make_pipeline(svd, Normalizer(copy=False))\n",
    "# Run SVD on the training data, then project the training data.\n",
    "X_train_lsa = lsa.fit_transform(X_train_tfidf)\n",
    "\n",
    "variance_explained=svd.explained_variance_ratio_\n",
    "total_variance = variance_explained.sum()\n",
    "print(\"Percent variance captured by all components:\",total_variance*100)\n",
    "\n",
    "#Looking at what sorts of paragraphs our solution considers similar, for the first five identified topics\n",
    "sents_by_component=pd.DataFrame(X_train_lsa,index=X_train)\n",
    "for i in range(5):\n",
    "    print('Component {}:'.format(i))\n",
    "    print(sents_by_component.loc[:,i].sort_values(ascending=False)[0:10])\n"
   ]
  },
  {
   "cell_type": "code",
   "execution_count": 35,
   "metadata": {},
   "outputs": [
    {
     "data": {
      "image/png": "[encoded data removed]",
      "text/plain": [
       "<Figure size 432x288 with 2 Axes>"
      ]
     },
     "metadata": {
      "needs_background": "light"
     },
     "output_type": "display_data"
    },
    {
     "name": "stdout",
     "output_type": "stream",
     "text": [
      "Key:\n",
      "0 Not so my Lord, I am too much i'th' Sun Queen.\n",
      "1 hew him as a Carkasse fit for Hounds: And let our Hearts, as subtle Masters do, Stirre vp their Seruants to an acte of Rage, And after seeme to chide 'em.\n",
      "2 We ore-wrought on the way: of these we told him, And there did seeme in him a kinde of ioy\n",
      "3 Another generall shout?\n",
      "4 Giue me that man, That is not Passions Slaue, and I will weare him In my hearts Core.\n",
      "5 Be Lyon metled, proud, and take no care:\n",
      "6 At home, my Lord Ham.\n",
      "7 Enter Portia.\n",
      "8 All haile Macbeth, haile to thee Thane of Glamis 2.\n",
      "9 Nay, good my Lord, this courtesie is not of the right breed.\n"
     ]
    }
   ],
   "source": [
    "# Compute document similarity using LSA components\n",
    "similarity = np.asarray(np.asmatrix(X_train_lsa) * np.asmatrix(X_train_lsa).T)\n",
    "#Only taking the first 10 sentences\n",
    "sim_matrix=pd.DataFrame(similarity,index=X_train).iloc[0:10,0:10]\n",
    "#Making a plot\n",
    "ax = sns.heatmap(sim_matrix,yticklabels=range(10))\n",
    "plt.show()\n",
    "\n",
    "#Generating a key for the plot.\n",
    "print('Key:')\n",
    "for i in range(10):\n",
    "    print(i,sim_matrix.index[i])"
   ]
  },
  {
   "cell_type": "markdown",
   "metadata": {},
   "source": [
    "## Supervised Learning: Random Forest, Logistic Regression, and Gradient Boosting Classifier"
   ]
  },
  {
   "cell_type": "code",
   "execution_count": 42,
   "metadata": {},
   "outputs": [
    {
     "name": "stdout",
     "output_type": "stream",
     "text": [
      "Training set score: 0.9370757180156658\n",
      "\n",
      "Test set score: 0.6468285043069695\n"
     ]
    }
   ],
   "source": [
    "from sklearn.ensemble import RandomForestClassifier\n",
    "\n",
    "rfc = RandomForestClassifier()\n",
    "Y = word_counts['text_source']\n",
    "X = np.array(word_counts.drop(['text_sentence','text_source'], 1))\n",
    "\n",
    "X_train, X_test, y_train, y_test = train_test_split(X, \n",
    "                                                    Y,\n",
    "                                                    test_size=0.4,\n",
    "                                                    random_state=0)\n",
    "train = rfc.fit(X_train, y_train)\n",
    "\n",
    "print('Training set score:', rfc.score(X_train, y_train))\n",
    "print('\\nTest set score:', rfc.score(X_test, y_test))"
   ]
  },
  {
   "cell_type": "code",
   "execution_count": 43,
   "metadata": {
    "scrolled": true
   },
   "outputs": [
    {
     "name": "stdout",
     "output_type": "stream",
     "text": [
      "(3830, 4316) (3830,)\n",
      "Training set score: 0.891644908616188\n",
      "\n",
      "Test set score: 0.677760375880971\n"
     ]
    }
   ],
   "source": [
    "from sklearn.linear_model import LogisticRegression\n",
    "\n",
    "lr = LogisticRegression()\n",
    "train = lr.fit(X_train, y_train)\n",
    "print(X_train.shape, y_train.shape)\n",
    "print('Training set score:', lr.score(X_train, y_train))\n",
    "print('\\nTest set score:', lr.score(X_test, y_test))"
   ]
  },
  {
   "cell_type": "code",
   "execution_count": 44,
   "metadata": {},
   "outputs": [
    {
     "name": "stdout",
     "output_type": "stream",
     "text": [
      "Training set score: 0.6702349869451697\n",
      "\n",
      "Test set score: 0.6221613155833986\n"
     ]
    }
   ],
   "source": [
    "from sklearn.ensemble import GradientBoostingClassifier\n",
    "clf = GradientBoostingClassifier()\n",
    "train = clf.fit(X_train, y_train)\n",
    "\n",
    "print('Training set score:', clf.score(X_train, y_train))\n",
    "print('\\nTest set score:', clf.score(X_test, y_test))"
   ]
  },
  {
   "cell_type": "markdown",
   "metadata": {},
   "source": [
    "Some of the issues with this version of the dataset is that, since we're dealing with Shakespeare plays, the names of the characters appear on new lines, which leads to skewed components with the SVD Reduction. By separating out chunks of text (or paragraphs) from each play, instead of sentences, we can possibly bypass that component grouping issue. Additionally, let's try including other features of each section of the text to see if we can improve the accuracy scores."
   ]
  },
  {
   "cell_type": "code",
   "execution_count": null,
   "metadata": {},
   "outputs": [],
   "source": []
  },
  {
   "cell_type": "markdown",
   "metadata": {},
   "source": [
    "## Text Cleaning and Paragraph Separation"
   ]
  },
  {
   "cell_type": "code",
   "execution_count": 191,
   "metadata": {},
   "outputs": [],
   "source": [
    "def par_clean(text):\n",
    "    #Remove idiosyncratic Act and Scene Labels, as well as enter and exit directions.\n",
    "    text = re.sub(r'Exeunt.*', '', text)\n",
    "    text = re.sub(r'Enter.*', '', text)\n",
    "    text = re.sub(r'Actus .*', '', text)\n",
    "    text = re.sub(r'Scena .*', '', text)\n",
    "    text = re.sub(r'Exit .*', '', text)\n",
    "    \n",
    "    text = re.sub(r'--',' ',text)\n",
    "    text = re.sub(\"[\\[].*?[\\]]\", \"\", text)\n",
    "    \n",
    "    paras_list = [re.sub(r'^\\w+\\.', '', item.strip()).strip() for item in re.split(r\"\\n\", text)]\n",
    "\n",
    "    new_paras_list = []\n",
    "    current_section = ''\n",
    "    for i in range(len(paras_list)):\n",
    "        if paras_list[i] == '':\n",
    "            new_paras_list.append(current_section)\n",
    "            current_section = ''\n",
    "        else:\n",
    "            current_section = current_section + ' ' + paras_list[i]\n",
    "\n",
    "    return [item.strip() for item in new_paras_list if item != '']        \n",
    "            "
   ]
  },
  {
   "cell_type": "code",
   "execution_count": 144,
   "metadata": {},
   "outputs": [
    {
     "name": "stdout",
     "output_type": "stream",
     "text": [
      "697\n",
      "899\n",
      "590\n"
     ]
    }
   ],
   "source": [
    "# Group into paragraphs.\n",
    "caesar_paras = [[nlp(par), \"Caesar\"] for par in par_clean(caesar)]\n",
    "hamlet_paras = [[nlp(par), \"Hamlet\"] for par in par_clean(hamlet)]\n",
    "macbeth_paras = [[nlp(par), \"Macbeth\"] for par in par_clean(macbeth)]\n",
    "\n",
    "print(len(caesar_paras))\n",
    "print(len(hamlet_paras))\n",
    "print(len(macbeth_paras))"
   ]
  },
  {
   "cell_type": "code",
   "execution_count": 145,
   "metadata": {},
   "outputs": [
    {
     "data": {
      "text/html": [
       "<div>\n",
       "<style scoped>\n",
       "    .dataframe tbody tr th:only-of-type {\n",
       "        vertical-align: middle;\n",
       "    }\n",
       "\n",
       "    .dataframe tbody tr th {\n",
       "        vertical-align: top;\n",
       "    }\n",
       "\n",
       "    .dataframe thead th {\n",
       "        text-align: right;\n",
       "    }\n",
       "</style>\n",
       "<table border=\"1\" class=\"dataframe\">\n",
       "  <thead>\n",
       "    <tr style=\"text-align: right;\">\n",
       "      <th></th>\n",
       "      <th>0</th>\n",
       "      <th>1</th>\n",
       "    </tr>\n",
       "  </thead>\n",
       "  <tbody>\n",
       "    <tr>\n",
       "      <th>0</th>\n",
       "      <td>(Hence, :, home, you, idle, Creatures, ,, get,...</td>\n",
       "      <td>Caesar</td>\n",
       "    </tr>\n",
       "    <tr>\n",
       "      <th>1</th>\n",
       "      <td>(Where, is, thy, Leather, Apron, ,, and, thy, ...</td>\n",
       "      <td>Caesar</td>\n",
       "    </tr>\n",
       "    <tr>\n",
       "      <th>2</th>\n",
       "      <td>(But, what, Trade, art, thou, ?, Answer, me, d...</td>\n",
       "      <td>Caesar</td>\n",
       "    </tr>\n",
       "    <tr>\n",
       "      <th>3</th>\n",
       "      <td>(A, Trade, Sir, ,, that, I, hope, I, may, vse,...</td>\n",
       "      <td>Caesar</td>\n",
       "    </tr>\n",
       "    <tr>\n",
       "      <th>4</th>\n",
       "      <td>(What, Trade, thou, knaue, ?, Thou, naughty, k...</td>\n",
       "      <td>Caesar</td>\n",
       "    </tr>\n",
       "  </tbody>\n",
       "</table>\n",
       "</div>"
      ],
      "text/plain": [
       "                                                   0       1\n",
       "0  (Hence, :, home, you, idle, Creatures, ,, get,...  Caesar\n",
       "1  (Where, is, thy, Leather, Apron, ,, and, thy, ...  Caesar\n",
       "2  (But, what, Trade, art, thou, ?, Answer, me, d...  Caesar\n",
       "3  (A, Trade, Sir, ,, that, I, hope, I, may, vse,...  Caesar\n",
       "4  (What, Trade, thou, knaue, ?, Thou, naughty, k...  Caesar"
      ]
     },
     "execution_count": 145,
     "metadata": {},
     "output_type": "execute_result"
    }
   ],
   "source": [
    "#Trim datasets so that document lengths are the same\n",
    "c_paras = caesar_paras[:len(macbeth_paras)]\n",
    "h_paras = hamlet_paras[:len(macbeth_paras)]\n",
    "\n",
    "# Combine the sentences from the two novels into one data frame.\n",
    "paragraphs = pd.DataFrame(c_paras + h_paras + macbeth_paras)\n",
    "paragraphs.head()"
   ]
  },
  {
   "cell_type": "code",
   "execution_count": 151,
   "metadata": {},
   "outputs": [],
   "source": [
    "#Reset docs with new set of sentences\n",
    "paras_caesar_doc = ' '.join([(str(par)) for par in pd.DataFrame(c_paras)[0]])\n",
    "paras_hamlet_doc = ' '.join([(str(par)) for par in pd.DataFrame(h_paras)[0]])\n",
    "paras_macbeth_doc = ' '.join([(str(par)) for par in pd.DataFrame(macbeth_paras)[0]])\n",
    "\n",
    "# Set up the bags.\n",
    "caesarwords = bag_of_words(nlp(paras_caesar_doc))\n",
    "hamletwords = bag_of_words(nlp(paras_hamlet_doc))\n",
    "macbethwords = bag_of_words(nlp(paras_macbeth_doc))\n",
    "\n",
    "# Combine bags to create a set of unique words.\n",
    "new_common_words = set(caesarwords + hamletwords + macbethwords)"
   ]
  },
  {
   "cell_type": "markdown",
   "metadata": {},
   "source": [
    "## Define New BoW Features"
   ]
  },
  {
   "cell_type": "code",
   "execution_count": 148,
   "metadata": {},
   "outputs": [],
   "source": [
    "def par_bow_features(paragraphs, common_words):\n",
    "    df = pd.DataFrame(columns=common_words)\n",
    "    df['text_paragraph'] = paragraphs[0]\n",
    "    df['text_source'] = paragraphs[1]\n",
    "    df.loc[:,common_words] = 0\n",
    "    \n",
    "    for i, paragraph in enumerate(df['text_paragraph']):\n",
    "        words = [token.lemma_ \n",
    "                for token in paragraph\n",
    "                if (\n",
    "                    not token.is_punct\n",
    "                    and not token.is_stop\n",
    "                    and token.lemma_ in common_words\n",
    "                )]\n",
    "        for word in words:\n",
    "            df.loc[i, word] += 1\n",
    "        if i%500 == 0:\n",
    "            print('Processing row {}'.format(i))\n",
    "    return df"
   ]
  },
  {
   "cell_type": "code",
   "execution_count": 213,
   "metadata": {},
   "outputs": [
    {
     "data": {
      "text/html": [
       "<div>\n",
       "<style scoped>\n",
       "    .dataframe tbody tr th:only-of-type {\n",
       "        vertical-align: middle;\n",
       "    }\n",
       "\n",
       "    .dataframe tbody tr th {\n",
       "        vertical-align: top;\n",
       "    }\n",
       "\n",
       "    .dataframe thead th {\n",
       "        text-align: right;\n",
       "    }\n",
       "</style>\n",
       "<table border=\"1\" class=\"dataframe\">\n",
       "  <thead>\n",
       "    <tr style=\"text-align: right;\">\n",
       "      <th></th>\n",
       "      <th>broad</th>\n",
       "      <th>orewhelm</th>\n",
       "      <th>sightlesse</th>\n",
       "      <th>chafe</th>\n",
       "      <th>Bear't</th>\n",
       "      <th>bonfire</th>\n",
       "      <th>Implements</th>\n",
       "      <th>bray</th>\n",
       "      <th>plunge</th>\n",
       "      <th>Byrnan</th>\n",
       "      <th>...</th>\n",
       "      <th>dis</th>\n",
       "      <th>body</th>\n",
       "      <th>smooth</th>\n",
       "      <th>grant</th>\n",
       "      <th>corporall</th>\n",
       "      <th>Holyday</th>\n",
       "      <th>friend</th>\n",
       "      <th>conceiue</th>\n",
       "      <th>text_paragraph</th>\n",
       "      <th>text_source</th>\n",
       "    </tr>\n",
       "  </thead>\n",
       "  <tbody>\n",
       "    <tr>\n",
       "      <th>0</th>\n",
       "      <td>0</td>\n",
       "      <td>0</td>\n",
       "      <td>0</td>\n",
       "      <td>0</td>\n",
       "      <td>0</td>\n",
       "      <td>0</td>\n",
       "      <td>0</td>\n",
       "      <td>0</td>\n",
       "      <td>0</td>\n",
       "      <td>0</td>\n",
       "      <td>...</td>\n",
       "      <td>0</td>\n",
       "      <td>0</td>\n",
       "      <td>0</td>\n",
       "      <td>0</td>\n",
       "      <td>0</td>\n",
       "      <td>0</td>\n",
       "      <td>0</td>\n",
       "      <td>0</td>\n",
       "      <td>(Hence, :, home, you, idle, Creatures, ,, get,...</td>\n",
       "      <td>Caesar</td>\n",
       "    </tr>\n",
       "    <tr>\n",
       "      <th>1</th>\n",
       "      <td>0</td>\n",
       "      <td>0</td>\n",
       "      <td>0</td>\n",
       "      <td>0</td>\n",
       "      <td>0</td>\n",
       "      <td>0</td>\n",
       "      <td>0</td>\n",
       "      <td>0</td>\n",
       "      <td>0</td>\n",
       "      <td>0</td>\n",
       "      <td>...</td>\n",
       "      <td>0</td>\n",
       "      <td>0</td>\n",
       "      <td>0</td>\n",
       "      <td>0</td>\n",
       "      <td>0</td>\n",
       "      <td>0</td>\n",
       "      <td>0</td>\n",
       "      <td>0</td>\n",
       "      <td>(Where, is, thy, Leather, Apron, ,, and, thy, ...</td>\n",
       "      <td>Caesar</td>\n",
       "    </tr>\n",
       "    <tr>\n",
       "      <th>2</th>\n",
       "      <td>0</td>\n",
       "      <td>0</td>\n",
       "      <td>0</td>\n",
       "      <td>0</td>\n",
       "      <td>0</td>\n",
       "      <td>0</td>\n",
       "      <td>0</td>\n",
       "      <td>0</td>\n",
       "      <td>0</td>\n",
       "      <td>0</td>\n",
       "      <td>...</td>\n",
       "      <td>0</td>\n",
       "      <td>0</td>\n",
       "      <td>0</td>\n",
       "      <td>0</td>\n",
       "      <td>0</td>\n",
       "      <td>0</td>\n",
       "      <td>0</td>\n",
       "      <td>0</td>\n",
       "      <td>(But, what, Trade, art, thou, ?, Answer, me, d...</td>\n",
       "      <td>Caesar</td>\n",
       "    </tr>\n",
       "    <tr>\n",
       "      <th>3</th>\n",
       "      <td>0</td>\n",
       "      <td>0</td>\n",
       "      <td>0</td>\n",
       "      <td>0</td>\n",
       "      <td>0</td>\n",
       "      <td>0</td>\n",
       "      <td>0</td>\n",
       "      <td>0</td>\n",
       "      <td>0</td>\n",
       "      <td>0</td>\n",
       "      <td>...</td>\n",
       "      <td>0</td>\n",
       "      <td>0</td>\n",
       "      <td>0</td>\n",
       "      <td>0</td>\n",
       "      <td>0</td>\n",
       "      <td>0</td>\n",
       "      <td>0</td>\n",
       "      <td>0</td>\n",
       "      <td>(A, Trade, Sir, ,, that, I, hope, I, may, vse,...</td>\n",
       "      <td>Caesar</td>\n",
       "    </tr>\n",
       "    <tr>\n",
       "      <th>4</th>\n",
       "      <td>0</td>\n",
       "      <td>0</td>\n",
       "      <td>0</td>\n",
       "      <td>0</td>\n",
       "      <td>0</td>\n",
       "      <td>0</td>\n",
       "      <td>0</td>\n",
       "      <td>0</td>\n",
       "      <td>0</td>\n",
       "      <td>0</td>\n",
       "      <td>...</td>\n",
       "      <td>0</td>\n",
       "      <td>0</td>\n",
       "      <td>0</td>\n",
       "      <td>0</td>\n",
       "      <td>0</td>\n",
       "      <td>0</td>\n",
       "      <td>0</td>\n",
       "      <td>0</td>\n",
       "      <td>(What, Trade, thou, knaue, ?, Thou, naughty, k...</td>\n",
       "      <td>Caesar</td>\n",
       "    </tr>\n",
       "  </tbody>\n",
       "</table>\n",
       "<p>5 rows × 4303 columns</p>\n",
       "</div>"
      ],
      "text/plain": [
       "  broad orewhelm sightlesse chafe Bear't bonfire Implements bray plunge  \\\n",
       "0     0        0          0     0      0       0          0    0      0   \n",
       "1     0        0          0     0      0       0          0    0      0   \n",
       "2     0        0          0     0      0       0          0    0      0   \n",
       "3     0        0          0     0      0       0          0    0      0   \n",
       "4     0        0          0     0      0       0          0    0      0   \n",
       "\n",
       "  Byrnan  ... dis body smooth grant corporall Holyday friend conceiue  \\\n",
       "0      0  ...   0    0      0     0         0       0      0        0   \n",
       "1      0  ...   0    0      0     0         0       0      0        0   \n",
       "2      0  ...   0    0      0     0         0       0      0        0   \n",
       "3      0  ...   0    0      0     0         0       0      0        0   \n",
       "4      0  ...   0    0      0     0         0       0      0        0   \n",
       "\n",
       "                                      text_paragraph text_source  \n",
       "0  (Hence, :, home, you, idle, Creatures, ,, get,...      Caesar  \n",
       "1  (Where, is, thy, Leather, Apron, ,, and, thy, ...      Caesar  \n",
       "2  (But, what, Trade, art, thou, ?, Answer, me, d...      Caesar  \n",
       "3  (A, Trade, Sir, ,, that, I, hope, I, may, vse,...      Caesar  \n",
       "4  (What, Trade, thou, knaue, ?, Thou, naughty, k...      Caesar  \n",
       "\n",
       "[5 rows x 4303 columns]"
      ]
     },
     "execution_count": 213,
     "metadata": {},
     "output_type": "execute_result"
    }
   ],
   "source": [
    "# Create features\n",
    "new_word_counts = par_bow_features(paragraphs, new_common_words)\n",
    "new_word_counts.head()"
   ]
  },
  {
   "cell_type": "code",
   "execution_count": 214,
   "metadata": {
    "scrolled": true
   },
   "outputs": [
    {
     "data": {
      "text/plain": [
       "(1732, 4303)"
      ]
     },
     "execution_count": 214,
     "metadata": {},
     "output_type": "execute_result"
    }
   ],
   "source": [
    "new_word_counts.shape"
   ]
  },
  {
   "cell_type": "markdown",
   "metadata": {},
   "source": [
    "## Create New tf-idf Features"
   ]
  },
  {
   "cell_type": "code",
   "execution_count": 220,
   "metadata": {},
   "outputs": [],
   "source": [
    "paras_list = [str(par) for par in paragraphs[0]]"
   ]
  },
  {
   "cell_type": "code",
   "execution_count": 228,
   "metadata": {},
   "outputs": [
    {
     "name": "stdout",
     "output_type": "stream",
     "text": [
      "Number of features: 1205\n",
      "Original sentence: Could Beautie my Lord, haue better Comerce then your Honestie? I trulie: for the power of Beautie, will sooner transforme Honestie from what is, to a Bawd, then the force of Honestie can translate Beautie into his likenesse. This was sometime a Paradox, but now the time giues it I did loue you once\n",
      "Tf_idf vector: {'sooner': 0.44059191427500544, 'force': 0.4189442453330255, 'power': 0.3514016687825042, 'better': 0.3191832077412201, 'giues': 0.3743491225867749, 'did': 0.2399918646941736, 'loue': 0.26221142329000285, 'lord': 0.1983084226321303, 'time': 0.256814726629944, 'haue': 0.18230525484808208}\n"
     ]
    }
   ],
   "source": [
    "from sklearn.model_selection import train_test_split\n",
    "\n",
    "X_train, X_test = train_test_split(paras_list, test_size=0.4, random_state=0)\n",
    "\n",
    "vectorizer = TfidfVectorizer(max_df=0.7, # drop words that occur in more than half the sentences\n",
    "                             min_df=4, # only use words that appear at least twice\n",
    "                             stop_words='english', \n",
    "                             lowercase=True, #Shakespeare tends to capitalize words for emphasis\n",
    "                             use_idf=True,#we definitely want to use inverse document frequencies in our weighting\n",
    "                             norm=u'l2', #Applies a correction factor so that longer sentences and shorter sentences get treated equally\n",
    "                             smooth_idf=True #Adds 1 to all document frequencies, as if an extra document existed that used every word once.  Prevents divide-by-zero errors\n",
    "                            )\n",
    "\n",
    "\n",
    "#Applying the vectorizer\n",
    "paras_tfidf=vectorizer.fit_transform(paras_list)\n",
    "print(\"Number of features: %d\" % paras_tfidf.get_shape()[1])\n",
    "\n",
    "#splitting into training and test sets\n",
    "X_train_tfidf, X_test_tfidf= train_test_split(paras_tfidf, test_size=0.4, random_state=0)\n",
    "\n",
    "\n",
    "#Reshapes the vectorizer output into something people can read\n",
    "X_train_tfidf_csr = X_train_tfidf.tocsr()\n",
    "\n",
    "#number of paragraphs\n",
    "n = X_train_tfidf_csr.shape[0]\n",
    "#A list of dictionaries, one per paragraph\n",
    "tfidf_bypara = [{} for _ in range(0,n)]\n",
    "#List of features\n",
    "terms = vectorizer.get_feature_names()\n",
    "#for each paragraph, lists the feature words and their tf-idf scores\n",
    "for i, j in zip(*X_train_tfidf_csr.nonzero()):\n",
    "    tfidf_bypara[i][terms[j]] = X_train_tfidf_csr[i, j]\n",
    "\n",
    "#Keep in mind that the log base 2 of 1 is 0, so a tf-idf score of 0 indicates that the word was present once in that sentence.\n",
    "print('Original sentence:', X_train[5])\n",
    "print('Tf_idf vector:', tfidf_bypara[5])"
   ]
  },
  {
   "cell_type": "markdown",
   "metadata": {},
   "source": [
    "## Unsupervised Learning - New Dataset"
   ]
  },
  {
   "cell_type": "code",
   "execution_count": 229,
   "metadata": {},
   "outputs": [
    {
     "name": "stdout",
     "output_type": "stream",
     "text": [
      "Percent variance captured by all components: 50.295730439107814\n",
      "Component 0:\n",
      "You are merrie, my Lord? Who I? I my Lord    0.902525\n",
      "My Lord, I will not                          0.902525\n",
      "I will my Lord                               0.902525\n",
      "Not I my Lord                                0.902525\n",
      "Propose the Oath my Lord                     0.902525\n",
      "I will my Lord.                              0.902525\n",
      "& Mar. within. My Lord, my Lord.             0.902525\n",
      "I will, my Lord.                             0.902525\n",
      "Nor I, my Lord                               0.902525\n",
      "My Lord that would dishonour him             0.902525\n",
      "Name: 0, dtype: float64\n",
      "\n",
      "\n",
      "Component 1:\n",
      "You are merrie, my Lord? Who I? I my Lord    0.380909\n",
      "My Lord, I will not                          0.380909\n",
      "I will, my Lord.                             0.380909\n",
      "What is't my Lord? we will                   0.380909\n",
      "My Lord                                      0.380909\n",
      "I will my Lord                               0.380909\n",
      "Nor I, my Lord                               0.380909\n",
      "I will my Lord.                              0.380909\n",
      "Not I my Lord                                0.380909\n",
      "Infaith my Lord, not I                       0.380909\n",
      "Name: 1, dtype: float64\n",
      "\n",
      "\n",
      "Component 2:\n",
      "The Games are done, And Caesar is returning                                                                                                                                                                                                                                                                                                                0.612349\n",
      "Caesar                                                                                                                                                                                                                                                                                                                                                     0.612349\n",
      "Shall no man else be toucht, but onely Caesar? Decius well vrg'd: I thinke it is not meet, Marke Antony, so well belou'd of Caesar, Should out-liue Caesar, we shall finde of him A shrew'd Contriuer. And you know, his meanes If he improue them, may well stretch so farre As to annoy vs all: which to preuent, Let Antony and Caesar fall together    0.566924\n",
      "I shall remember, When Caesar sayes, Do this; it is perform'd                                                                                                                                                                                                                                                                                              0.561825\n",
      "O Caesar, reade mine first: for mine's a suite That touches Caesar neerer. Read it great Caesar                                                                                                                                                                                                                                                            0.548775\n",
      "Delay not Caesar, read it instantly                                                                                                                                                                                                                                                                                                                        0.546677\n",
      "Caes The Gods do this in shame of Cowardice: Caesar should be a Beast without a heart If he should stay at home to day for feare: No Caesar shall not; Danger knowes full well That Caesar is more dangerous then he. We heare two Lyons litter'd in one day, And I the elder and more terrible, And Caesar shall go foorth                                0.534652\n",
      "Caes Et Tu Brute? - Then fall Caesar.                                                                                                                                                                                                                                                                                                                      0.493371\n",
      "So to most Noble Caesar                                                                                                                                                                                                                                                                                                                                    0.480231\n",
      "When Caesar liu'd, he durst not thus haue mou'd me                                                                                                                                                                                                                                                                                                         0.436816\n",
      "Name: 2, dtype: float64\n",
      "\n",
      "\n",
      "Component 3:\n",
      "Caesar                                                                                                                                                                                           0.531710\n",
      "The Games are done, And Caesar is returning                                                                                                                                                      0.531710\n",
      "Thou hast some suite to Caesar, hast thou not? That I haue Lady, if it will please Caesar To be so good to Caesar, as to heare me: I shall beseech him to befriend himselfe                      0.531028\n",
      "Good morrow Caesar                                                                                                                                                                               0.521652\n",
      "O Caesar, reade mine first: for mine's a suite That touches Caesar neerer. Read it great Caesar                                                                                                  0.483761\n",
      "Delay not Caesar, read it instantly                                                                                                                                                              0.476103\n",
      "Caes Are we all ready? What is now amisse, That Caesar and his Senate must redresse? Most high, most mighty, and most puisant Caesar Metellus Cymber throwes before thy Seate An humble heart    0.452157\n",
      "So to most Noble Caesar                                                                                                                                                                          0.445559\n",
      "What ere thou art, for thy good caution, thanks Thou hast harp'd my feare aright. But one word more                                                                                              0.443039\n",
      "Caes Et Tu Brute? - Then fall Caesar.                                                                                                                                                            0.427743\n",
      "Name: 3, dtype: float64\n",
      "\n",
      "\n",
      "Component 4:\n",
      "Is he alone? No, Sir, there are moe with him                                                               0.811927\n",
      "Sir, a whole History                                                                                       0.811927\n",
      "Sir, I cannot                                                                                              0.811927\n",
      "Sir I lacke Aduancement                                                                                    0.788258\n",
      "Well, say sir                                                                                              0.779429\n",
      "Geese Villaine? Souldiers Sir                                                                              0.758170\n",
      "A Trade Sir, that I hope I may vse, with a safe Conscience, which is indeed Sir, a Mender of bad soules    0.709988\n",
      "The King, sir                                                                                              0.663003\n",
      "Sir, Amen                                                                                                  0.636776\n",
      "Most Royall Sir Fleans is scap'd                                                                           0.592588\n",
      "Name: 4, dtype: float64\n",
      "\n",
      "\n"
     ]
    }
   ],
   "source": [
    "from sklearn.decomposition import TruncatedSVD\n",
    "from sklearn.pipeline import make_pipeline\n",
    "from sklearn.preprocessing import Normalizer\n",
    "\n",
    "#Our SVD data reducer.  We are going to reduce the feature space from 1205 to 130.\n",
    "svd= TruncatedSVD(130)\n",
    "lsa = make_pipeline(svd, Normalizer(copy=False))\n",
    "# Run SVD on the training data, then project the training data.\n",
    "X_train_lsa = lsa.fit_transform(X_train_tfidf)\n",
    "\n",
    "variance_explained=svd.explained_variance_ratio_\n",
    "total_variance = variance_explained.sum()\n",
    "print(\"Percent variance captured by all components:\",total_variance*100)\n",
    "\n",
    "#Looking at what sorts of paragraphs our solution considers similar, for the first five identified topics\n",
    "paras_by_component=pd.DataFrame(X_train_lsa,index=X_train)\n",
    "for i in range(5):\n",
    "    print('Component {}:'.format(i))\n",
    "    print(paras_by_component.loc[:,i].sort_values(ascending=False)[0:10])\n",
    "    print('\\n')"
   ]
  },
  {
   "cell_type": "code",
   "execution_count": 224,
   "metadata": {},
   "outputs": [
    {
     "data": {
      "image/png": "[encoded data removed]",
      "text/plain": [
       "<Figure size 432x288 with 2 Axes>"
      ]
     },
     "metadata": {
      "needs_background": "light"
     },
     "output_type": "display_data"
    },
    {
     "name": "stdout",
     "output_type": "stream",
     "text": [
      "Key:\n",
      "0 See where their basest mettle be not mou'd, They vanish tongue-tyed in their guiltinesse: Go you downe that way towards the Capitoll, This way will I: Disrobe the Images, If you do finde them deckt with Ceremonies\n",
      "1 If it assume my noble Fathers person, Ile speake to it, though Hell it selfe should gape And bid me hold my peace. I pray you all, If you haue hitherto conceald this sight; Let it bee treble in your silence still: And whatsoeuer els shall hap to night, Giue it an vnderstanding but no tongue; I will requite your loues; so fare ye well: Vpon the Platforme twixt eleuen and twelue, Ile visit you\n",
      "2 My young remembrance cannot paralell A fellow to it.\n",
      "3 Drinkes\n",
      "4 And what did you enact? I did enact Iulius Caesar, I was kill'd i'th' Capitol: Brutus kill'd me\n",
      "5 Could Beautie my Lord, haue better Comerce then your Honestie? I trulie: for the power of Beautie, will sooner transforme Honestie from what is, to a Bawd, then the force of Honestie can translate Beautie into his likenesse. This was sometime a Paradox, but now the time giues it I did loue you once\n",
      "6 Shew his Eyes, and greeue his Hart, Come like shadowes, so depart.\n",
      "7 Was the Crowne offer'd him thrice? I marry was't, and hee put it by thrice, euerie time gentler then other; and at euery putting by, mine honest Neighbors showted\n",
      "8 Go too, go too: You haue knowne what you should not\n",
      "9 The weyward Sisters, hand in hand, Posters of the Sea and Land, Thus doe goe, about, about, Thrice to thine, and thrice to mine, And thrice againe, to make vp nine. Peace, the Charme's wound vp.\n"
     ]
    }
   ],
   "source": [
    "# Compute document similarity using LSA components\n",
    "similarity = np.asarray(np.asmatrix(X_train_lsa) * np.asmatrix(X_train_lsa).T)\n",
    "#Only taking the first 10 sentences\n",
    "sim_matrix=pd.DataFrame(similarity,index=X_train).iloc[0:10,0:10]\n",
    "#Making a plot\n",
    "ax = sns.heatmap(sim_matrix,yticklabels=range(10))\n",
    "plt.show()\n",
    "\n",
    "#Generating a key for the plot.\n",
    "print('Key:')\n",
    "for i in range(10):\n",
    "    print(i,sim_matrix.index[i])"
   ]
  },
  {
   "cell_type": "code",
   "execution_count": null,
   "metadata": {},
   "outputs": [],
   "source": []
  },
  {
   "cell_type": "markdown",
   "metadata": {},
   "source": [
    "## Supervised Learning - New Dataset"
   ]
  },
  {
   "cell_type": "code",
   "execution_count": 231,
   "metadata": {},
   "outputs": [
    {
     "name": "stdout",
     "output_type": "stream",
     "text": [
      "Training set score: 0.983638113570741\n",
      "\n",
      "Test set score: 0.6118326118326118\n"
     ]
    }
   ],
   "source": [
    "from sklearn.ensemble import RandomForestClassifier\n",
    "\n",
    "rfc = RandomForestClassifier()\n",
    "Y = new_word_counts['text_source']\n",
    "X = np.array(new_word_counts.drop(['text_paragraph','text_source'], 1))\n",
    "\n",
    "X_train, X_test, y_train, y_test = train_test_split(X, \n",
    "                                                    Y,\n",
    "                                                    test_size=0.4,\n",
    "                                                    random_state=0)\n",
    "train = rfc.fit(X_train, y_train)\n",
    "\n",
    "print('Training set score:', rfc.score(X_train, y_train))\n",
    "print('\\nTest set score:', rfc.score(X_test, y_test))"
   ]
  },
  {
   "cell_type": "code",
   "execution_count": 232,
   "metadata": {},
   "outputs": [
    {
     "name": "stdout",
     "output_type": "stream",
     "text": [
      "(1039, 4301) (1039,)\n",
      "Training set score: 0.9547641963426372\n",
      "\n",
      "Test set score: 0.6825396825396826\n"
     ]
    }
   ],
   "source": [
    "from sklearn.linear_model import LogisticRegression\n",
    "\n",
    "lr = LogisticRegression()\n",
    "train = lr.fit(X_train, y_train)\n",
    "print(X_train.shape, y_train.shape)\n",
    "print('Training set score:', lr.score(X_train, y_train))\n",
    "print('\\nTest set score:', lr.score(X_test, y_test))"
   ]
  },
  {
   "cell_type": "code",
   "execution_count": 233,
   "metadata": {},
   "outputs": [
    {
     "name": "stdout",
     "output_type": "stream",
     "text": [
      "Training set score: 0.7757459095283927\n",
      "\n",
      "Test set score: 0.6421356421356421\n"
     ]
    }
   ],
   "source": [
    "from sklearn.ensemble import GradientBoostingClassifier\n",
    "clf = GradientBoostingClassifier()\n",
    "train = clf.fit(X_train, y_train)\n",
    "\n",
    "print('Training set score:', clf.score(X_train, y_train))\n",
    "print('\\nTest set score:', clf.score(X_test, y_test))"
   ]
  },
  {
   "cell_type": "code",
   "execution_count": null,
   "metadata": {},
   "outputs": [],
   "source": []
  },
  {
   "cell_type": "markdown",
   "metadata": {},
   "source": [
    "## Supervised Learning - w/ Added Features"
   ]
  },
  {
   "cell_type": "code",
   "execution_count": 243,
   "metadata": {},
   "outputs": [],
   "source": [
    "new_word_counts['sent_length'] = new_word_counts['text_paragraph'].map(lambda x: len(x)) \n",
    "new_word_counts['num_verbs'] = [len([token.text.strip() for token in par if token.pos_=='VERB']) for par in paragraphs[0]]\n",
    "new_word_counts['num_nouns'] = [len([token.text.strip() for token in par if token.pos_=='NOUN']) for par in paragraphs[0]]\n",
    "new_word_counts['num_adverbs'] = [len([token.text.strip() for token in par if token.pos_=='ADV']) for par in paragraphs[0]]\n",
    "new_word_counts['num_total_punct'] = [len([token.text.strip() for token in par if token.pos_ == 'PUNCT']) for par in paragraphs[0]]"
   ]
  },
  {
   "cell_type": "code",
   "execution_count": 275,
   "metadata": {},
   "outputs": [
    {
     "name": "stdout",
     "output_type": "stream",
     "text": [
      "Training set score: 0.9913378248315688\n",
      "\n",
      "Test set score: 0.6305916305916306\n"
     ]
    }
   ],
   "source": [
    "rfc = RandomForestClassifier()\n",
    "Y2 = new_word_counts['text_source']\n",
    "X2 = np.array(new_word_counts.drop(['text_paragraph','text_source'], 1))\n",
    "\n",
    "X_train2, X_test2, y_train2, y_test2 = train_test_split(X2, \n",
    "                                                    Y2,\n",
    "                                                    test_size=0.4,\n",
    "                                                    random_state=0)\n",
    "train = rfc.fit(X_train2, y_train2)\n",
    "\n",
    "print('Training set score:', rfc.score(X_train2, y_train2))\n",
    "print('\\nTest set score:', rfc.score(X_test2, y_test2))"
   ]
  },
  {
   "cell_type": "code",
   "execution_count": 276,
   "metadata": {},
   "outputs": [
    {
     "name": "stdout",
     "output_type": "stream",
     "text": [
      "(1039, 4306) (1039,)\n",
      "Training set score: 0.960538979788258\n",
      "\n",
      "Test set score: 0.6753246753246753\n"
     ]
    }
   ],
   "source": [
    "lr = LogisticRegression()\n",
    "train = lr.fit(X_train2, y_train2)\n",
    "print(X_train2.shape, y_train2.shape)\n",
    "print('Training set score:', lr.score(X_train2, y_train2))\n",
    "print('\\nTest set score:', lr.score(X_test2, y_test2))"
   ]
  },
  {
   "cell_type": "code",
   "execution_count": 277,
   "metadata": {},
   "outputs": [
    {
     "name": "stdout",
     "output_type": "stream",
     "text": [
      "Training set score: 0.8026948989412896\n",
      "\n",
      "Test set score: 0.6406926406926406\n"
     ]
    }
   ],
   "source": [
    "clf = GradientBoostingClassifier()\n",
    "train = clf.fit(X_train2, y_train2)\n",
    "\n",
    "print('Training set score:', clf.score(X_train2, y_train2))\n",
    "print('\\nTest set score:', clf.score(X_test2, y_test2))"
   ]
  },
  {
   "cell_type": "code",
   "execution_count": null,
   "metadata": {},
   "outputs": [],
   "source": []
  },
  {
   "cell_type": "markdown",
   "metadata": {},
   "source": [
    "Overall, we achieved a maximum testing accuracy score of 68.3%, which was accomplished using Logistic Regression on the word_count dataset created from the paragraphs compilation of the three Shakespearean works, without the additional features (nouns, verbs, adverbs, sentence length, etc) included. The highest level of variance represented by the set of components was also from the paragraph dataset, with approximately 50% of the total variance represented."
   ]
  },
  {
   "cell_type": "code",
   "execution_count": null,
   "metadata": {},
   "outputs": [],
   "source": []
  }
 ],
 "metadata": {
  "kernelspec": {
   "display_name": "Python 3",
   "language": "python",
   "name": "python3"
  },
  "language_info": {
   "codemirror_mode": {
    "name": "ipython",
    "version": 3
   },
   "file_extension": ".py",
   "mimetype": "text/x-python",
   "name": "python",
   "nbconvert_exporter": "python",
   "pygments_lexer": "ipython3",
   "version": "3.7.3"
  }
 },
 "nbformat": 4,
 "nbformat_minor": 2
}
