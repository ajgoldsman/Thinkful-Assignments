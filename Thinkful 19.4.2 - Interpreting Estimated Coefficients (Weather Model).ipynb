{
 "cells": [
  {
   "cell_type": "markdown",
   "metadata": {},
   "source": [
    "# Interpreting Estimated Coefficients - Weather Model\n",
    "In this exercise, we'll work with the historical temperature data from the previous checkpoint. "
   ]
  },
  {
   "cell_type": "markdown",
   "metadata": {},
   "source": [
    "## Load the dataset from Thinkful's database"
   ]
  },
  {
   "cell_type": "code",
   "execution_count": 1,
   "metadata": {},
   "outputs": [],
   "source": [
    "# import libraries\n",
    "import pandas as pd\n",
    "import numpy as np\n",
    "import seaborn as sns\n",
    "import statsmodels.api as sm\n",
    "import os\n",
    "import matplotlib.pyplot as plt\n",
    "%matplotlib inline\n",
    "from sqlalchemy import create_engine\n",
    "import warnings\n",
    "\n",
    "warnings.filterwarnings('ignore')"
   ]
  },
  {
   "cell_type": "code",
   "execution_count": 2,
   "metadata": {},
   "outputs": [],
   "source": [
    "postgres_user = 'dsbc_student'\n",
    "postgres_pw = '7*.8G9QH21'\n",
    "postgres_host = '142.93.121.174'\n",
    "postgres_port = '5432'\n",
    "postgres_db = 'weatherinszeged'\n",
    "\n",
    "# use the credentials to start a connection\n",
    "engine = create_engine('postgresql://{}:{}@{}:{}/{}'.format(\n",
    "    postgres_user, postgres_pw, postgres_host, postgres_port, postgres_db))\n",
    "\n",
    "# Use the connection to extract SQL data\n",
    "weather_df = pd.read_sql_query('SELECT * FROM weatherinszeged', con=engine)\n",
    "\n",
    "#Close the connection after query is complete\n",
    "engine.dispose()"
   ]
  },
  {
   "cell_type": "markdown",
   "metadata": {},
   "source": [
    "## Build a linear regression model where your target variable is the difference between the apparenttemperature and the temperature. As explanatory variables, use humidity and windspeed."
   ]
  },
  {
   "cell_type": "code",
   "execution_count": 12,
   "metadata": {},
   "outputs": [],
   "source": [
    "temp_dif = weather_df['temperature'] - weather_df['apparenttemperature']\n",
    "weather_df['temperaturediff'] = temp_dif"
   ]
  },
  {
   "cell_type": "code",
   "execution_count": 13,
   "metadata": {},
   "outputs": [
    {
     "name": "stdout",
     "output_type": "stream",
     "text": [
      "                            OLS Regression Results                            \n",
      "==============================================================================\n",
      "Dep. Variable:        temperaturediff   R-squared:                       0.288\n",
      "Model:                            OLS   Adj. R-squared:                  0.288\n",
      "Method:                 Least Squares   F-statistic:                 1.949e+04\n",
      "Date:                Mon, 23 Sep 2019   Prob (F-statistic):               0.00\n",
      "Time:                        13:39:33   Log-Likelihood:            -1.7046e+05\n",
      "No. Observations:               96453   AIC:                         3.409e+05\n",
      "Df Residuals:                   96450   BIC:                         3.409e+05\n",
      "Df Model:                           2                                         \n",
      "Covariance Type:            nonrobust                                         \n",
      "==============================================================================\n",
      "                 coef    std err          t      P>|t|      [0.025      0.975]\n",
      "------------------------------------------------------------------------------\n",
      "const         -2.4381      0.021   -115.948      0.000      -2.479      -2.397\n",
      "humidity       3.0292      0.024    126.479      0.000       2.982       3.076\n",
      "windspeed      0.1193      0.001    176.164      0.000       0.118       0.121\n",
      "==============================================================================\n",
      "Omnibus:                     3935.747   Durbin-Watson:                   0.267\n",
      "Prob(Omnibus):                  0.000   Jarque-Bera (JB):             4613.311\n",
      "Skew:                           0.478   Prob(JB):                         0.00\n",
      "Kurtosis:                       3.484   Cond. No.                         88.1\n",
      "==============================================================================\n",
      "\n",
      "Warnings:\n",
      "[1] Standard Errors assume that the covariance matrix of the errors is correctly specified.\n"
     ]
    }
   ],
   "source": [
    "target_var = 'temperaturediff'\n",
    "feature_set = ['humidity', 'windspeed']\n",
    "\n",
    "# X is the feature set \n",
    "X = weather_df[feature_set]\n",
    "# Y is the target variable\n",
    "Y = weather_df[target_var]\n",
    "\n",
    "# We add constant to the model as it's a best practice\n",
    "# to do so every time!\n",
    "X = sm.add_constant(X)\n",
    "\n",
    "# We fit an OLS model using statsmodels\n",
    "results = sm.OLS(Y, X).fit()\n",
    "\n",
    "# We print the summary results.\n",
    "print(results.summary())"
   ]
  },
  {
   "cell_type": "code",
   "execution_count": 24,
   "metadata": {},
   "outputs": [
    {
     "name": "stdout",
     "output_type": "stream",
     "text": [
      "The estimated model is:\n",
      "Temperature Difference =  -2.44 + 3.03(humidity) + 0.12(windspeed)\n"
     ]
    }
   ],
   "source": [
    "print('The estimated model is:')\n",
    "\n",
    "equation = str(round(results.params[0], 2))\n",
    "cols = feature_set\n",
    "for i in range(len(cols)):\n",
    "    equation =  equation + ' + ' + str(round(results.params[i+1], 2)) + '(' + cols[i] + ')'\n",
    "\n",
    "print('Temperature Difference = ', equation)"
   ]
  },
  {
   "cell_type": "markdown",
   "metadata": {},
   "source": [
    "According to the OLS summary, all of the coefficients have a p-value of 0, so they are not statistically significant. The coefficients make sense in that we would expect humidity to have a large impact (in the positive direction) on apparenttemperature, since higher humidities tend to make people feel like the temperature is hotter. I was surprised by the positive sign on the windspeed coefficient, as I would have expected that higher windspeed would make people feel cooler, but it's a significantly smaller value than the coefficient for hmidity, so perhaps it just doesn't have much of an effect on the model."
   ]
  },
  {
   "cell_type": "markdown",
   "metadata": {},
   "source": [
    "## Include the interaction of humidity and windspeed to the model above and estimate the model using OLS."
   ]
  },
  {
   "cell_type": "code",
   "execution_count": 27,
   "metadata": {},
   "outputs": [
    {
     "name": "stdout",
     "output_type": "stream",
     "text": [
      "                            OLS Regression Results                            \n",
      "==============================================================================\n",
      "Dep. Variable:        temperaturediff   R-squared:                       0.341\n",
      "Model:                            OLS   Adj. R-squared:                  0.341\n",
      "Method:                 Least Squares   F-statistic:                 1.666e+04\n",
      "Date:                Mon, 23 Sep 2019   Prob (F-statistic):               0.00\n",
      "Time:                        13:51:50   Log-Likelihood:            -1.6669e+05\n",
      "No. Observations:               96453   AIC:                         3.334e+05\n",
      "Df Residuals:                   96449   BIC:                         3.334e+05\n",
      "Df Model:                           3                                         \n",
      "Covariance Type:            nonrobust                                         \n",
      "======================================================================================\n",
      "                         coef    std err          t      P>|t|      [0.025      0.975]\n",
      "--------------------------------------------------------------------------------------\n",
      "const                 -0.0839      0.033     -2.511      0.012      -0.149      -0.018\n",
      "humidity              -0.1775      0.043     -4.133      0.000      -0.262      -0.093\n",
      "windspeed             -0.0905      0.002    -36.797      0.000      -0.095      -0.086\n",
      "humidity_windspeed     0.2971      0.003     88.470      0.000       0.291       0.304\n",
      "==============================================================================\n",
      "Omnibus:                     4849.937   Durbin-Watson:                   0.265\n",
      "Prob(Omnibus):                  0.000   Jarque-Bera (JB):             9295.404\n",
      "Skew:                           0.378   Prob(JB):                         0.00\n",
      "Kurtosis:                       4.320   Cond. No.                         193.\n",
      "==============================================================================\n",
      "\n",
      "Warnings:\n",
      "[1] Standard Errors assume that the covariance matrix of the errors is correctly specified.\n"
     ]
    }
   ],
   "source": [
    "# This is the interaction between humidity and windspeed\n",
    "weather_df['humidity_windspeed'] = weather_df['humidity'] * weather_df['windspeed']\n",
    "\n",
    "feature_set = ['humidity', 'windspeed', 'humidity_windspeed']\n",
    "\n",
    "# X is the feature set \n",
    "X = weather_df[feature_set]\n",
    "# Y is the target variable\n",
    "Y = weather_df[target_var]\n",
    "\n",
    "# We add a constant to the model as it's a best practice\n",
    "# to do so every time!\n",
    "X = sm.add_constant(X)\n",
    "\n",
    "# We fit an OLS model using statsmodels\n",
    "results = sm.OLS(Y, X).fit()\n",
    "\n",
    "# We print the summary results\n",
    "print(results.summary())"
   ]
  },
  {
   "cell_type": "code",
   "execution_count": 28,
   "metadata": {},
   "outputs": [
    {
     "name": "stdout",
     "output_type": "stream",
     "text": [
      "The new estimated model is:\n",
      "Temperature Difference =  -0.08 + -0.18(humidity) + -0.09(windspeed) + 0.3(humidity_windspeed)\n"
     ]
    }
   ],
   "source": [
    "print('The new estimated model is:')\n",
    "\n",
    "equation = str(round(results.params[0], 2))\n",
    "cols = feature_set\n",
    "for i in range(len(cols)):\n",
    "    equation =  equation + ' + ' + str(round(results.params[i+1], 2)) + '(' + cols[i] + ')'\n",
    "\n",
    "print('Temperature Difference = ', equation)"
   ]
  },
  {
   "cell_type": "markdown",
   "metadata": {},
   "source": [
    "In this version of the model, only the p-value of the constant coefficient becomes greater than 0, but it doesn't become greater than 0.05, so it still isn't statistically significant. Both the humidity and windspeed coefficients have decreased in value and switched from positive to negative. This is likely due to the fact that the combined humidity_windspeed feature is representing enough of the data that the humidity and windspeed individual features have become irrelevant or extraneous. The new coefficients indicate that when both humidity and windspeed increase, the temperature difference increases, but if only one of them increases and the other decreases, the temperature difference changes more with respect to the change in humidity than to the change in windspeed. "
   ]
  },
  {
   "cell_type": "code",
   "execution_count": null,
   "metadata": {},
   "outputs": [],
   "source": []
  }
 ],
 "metadata": {
  "kernelspec": {
   "display_name": "Python 3",
   "language": "python",
   "name": "python3"
  },
  "language_info": {
   "codemirror_mode": {
    "name": "ipython",
    "version": 3
   },
   "file_extension": ".py",
   "mimetype": "text/x-python",
   "name": "python",
   "nbconvert_exporter": "python",
   "pygments_lexer": "ipython3",
   "version": "3.7.3"
  }
 },
 "nbformat": 4,
 "nbformat_minor": 2
}
