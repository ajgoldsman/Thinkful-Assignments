{
 "cells": [
  {
   "cell_type": "code",
   "execution_count": 1,
   "metadata": {},
   "outputs": [],
   "source": [
    "import pandas as pd\n",
    "import numpy as np\n",
    "import matplotlib.pyplot as plt\n",
    "import seaborn as sns\n",
    "import sqlalchemy\n",
    "from sqlalchemy import create_engine\n",
    "import warnings\n",
    "\n",
    "warnings.filterwarnings('ignore')"
   ]
  },
  {
   "cell_type": "code",
   "execution_count": 2,
   "metadata": {},
   "outputs": [],
   "source": [
    "# Database credentials\n",
    "postgres_user = 'dsbc_student'\n",
    "postgres_pw = '7*.8G9QH21'\n",
    "postgres_host = '142.93.121.174'\n",
    "postgres_port = '5432'\n",
    "postgres_db = 'useducation'\n",
    "\n",
    "# use the credentials to start a connection\n",
    "engine = create_engine('postgresql://{}:{}@{}:{}/{}'.format(\n",
    "    postgres_user, postgres_pw, postgres_host, postgres_port, postgres_db))\n",
    "\n",
    "\n",
    "# Use the connection to extract SQL data\n",
    "education_df = pd.read_sql_query('SELECT * FROM useducation', con=engine)\n",
    "\n",
    "# Close the connection\n",
    "engine.dispose()"
   ]
  },
  {
   "cell_type": "code",
   "execution_count": 3,
   "metadata": {},
   "outputs": [
    {
     "name": "stdout",
     "output_type": "stream",
     "text": [
      "PRIMARY_KEY                     0.000000\n",
      "STATE                           0.000000\n",
      "YEAR                            0.000000\n",
      "ENROLL                          0.176273\n",
      "TOTAL_REVENUE                   0.142091\n",
      "FEDERAL_REVENUE                 0.142091\n",
      "STATE_REVENUE                   0.142091\n",
      "LOCAL_REVENUE                   0.142091\n",
      "TOTAL_EXPENDITURE               0.142091\n",
      "INSTRUCTION_EXPENDITURE         0.142091\n",
      "SUPPORT_SERVICES_EXPENDITURE    0.142091\n",
      "OTHER_EXPENDITURE               0.176273\n",
      "CAPITAL_OUTLAY_EXPENDITURE      0.142091\n",
      "GRADES_PK_G                     0.115952\n",
      "GRADES_KG_G                     0.088472\n",
      "GRADES_4_G                      0.087802\n",
      "GRADES_8_G                      0.087802\n",
      "GRADES_12_G                     0.087802\n",
      "GRADES_1_8_G                    0.087802\n",
      "GRADES_9_12_G                   0.087802\n",
      "GRADES_ALL_G                    0.115952\n",
      "AVG_MATH_4_SCORE                0.640751\n",
      "AVG_MATH_8_SCORE                0.643432\n",
      "AVG_READING_4_SCORE             0.642761\n",
      "AVG_READING_8_SCORE             0.666220\n",
      "dtype: float64\n"
     ]
    },
    {
     "data": {
      "text/plain": [
       "PRIMARY_KEY                     0.000000\n",
       "STATE                           0.000000\n",
       "YEAR                            0.000000\n",
       "ENROLL                          0.141421\n",
       "TOTAL_REVENUE                   0.107909\n",
       "FEDERAL_REVENUE                 0.107909\n",
       "STATE_REVENUE                   0.107909\n",
       "LOCAL_REVENUE                   0.107909\n",
       "TOTAL_EXPENDITURE               0.107909\n",
       "INSTRUCTION_EXPENDITURE         0.107909\n",
       "SUPPORT_SERVICES_EXPENDITURE    0.107909\n",
       "OTHER_EXPENDITURE               0.141421\n",
       "CAPITAL_OUTLAY_EXPENDITURE      0.107909\n",
       "GRADES_PK_G                     0.032842\n",
       "GRADES_KG_G                     0.004692\n",
       "GRADES_4_G                      0.004692\n",
       "GRADES_8_G                      0.004692\n",
       "GRADES_12_G                     0.004692\n",
       "GRADES_1_8_G                    0.004692\n",
       "GRADES_9_12_G                   0.004692\n",
       "GRADES_ALL_G                    0.032842\n",
       "AVG_MATH_4_SCORE                0.144102\n",
       "AVG_MATH_8_SCORE                0.146783\n",
       "AVG_READING_4_SCORE             0.162198\n",
       "AVG_READING_8_SCORE             0.264745\n",
       "dtype: float64"
      ]
     },
     "execution_count": 3,
     "metadata": {},
     "output_type": "execute_result"
    }
   ],
   "source": [
    "print(education_df.isnull().sum()/education_df.isnull().count())\n",
    "\n",
    "#Fill in missing values using interpolation, based on state\n",
    "fill_cols = list(education_df.columns.drop(['PRIMARY_KEY', 'STATE', 'YEAR']))\n",
    "unique_states = education_df['STATE'].unique()\n",
    "\n",
    "for state in unique_states:\n",
    "    education_df.loc[education_df[\"STATE\"] == state, fill_cols] = education_df.loc[education_df[\"STATE\"] == state, fill_cols].interpolate()\n",
    "    \n",
    "#Percentage of remaining missing values per category:\n",
    "education_df.isnull().sum()/education_df.isnull().count()"
   ]
  },
  {
   "cell_type": "markdown",
   "metadata": {},
   "source": [
    "### 1. Create a new score variable from the weighted averages of all score variables in the datasets. Notice that the number of students in the 4th grade isn't the same as the number of students in the 8th grade. So, you should appropriately weigh the scores!."
   ]
  },
  {
   "cell_type": "code",
   "execution_count": 26,
   "metadata": {},
   "outputs": [
    {
     "data": {
      "text/plain": [
       "0              NaN\n",
       "1       232.851618\n",
       "2       235.639070\n",
       "3       235.441283\n",
       "4       230.756386\n",
       "5       241.797898\n",
       "6       245.559478\n",
       "7       236.784089\n",
       "8       215.523511\n",
       "9       233.291621\n",
       "10      235.028058\n",
       "11      231.536438\n",
       "12      241.642042\n",
       "13      242.426591\n",
       "14      243.447298\n",
       "15      249.222715\n",
       "16      242.618470\n",
       "17      237.711179\n",
       "18      226.900838\n",
       "19      249.337041\n",
       "20      236.682668\n",
       "21      244.984537\n",
       "22      241.897239\n",
       "23      247.078298\n",
       "24      227.203607\n",
       "25      242.416498\n",
       "26      244.769527\n",
       "27      245.630165\n",
       "28      245.616604\n",
       "29      246.556758\n",
       "           ...    \n",
       "1462    255.438803\n",
       "1463    253.984249\n",
       "1464    251.798676\n",
       "1465    242.666326\n",
       "1466    250.682887\n",
       "1467    253.368293\n",
       "1468    262.452134\n",
       "1469    252.923462\n",
       "1470    257.810298\n",
       "1471    247.304408\n",
       "1472    249.505607\n",
       "1473    252.993607\n",
       "1474    255.993860\n",
       "1475    247.378895\n",
       "1476    257.309000\n",
       "1477    261.773192\n",
       "1478    245.074322\n",
       "1479    248.580997\n",
       "1480    252.680110\n",
       "1481    253.242575\n",
       "1482    255.054666\n",
       "1483    249.993912\n",
       "1484    249.751991\n",
       "1485    253.093449\n",
       "1486    256.291416\n",
       "1487    259.594501\n",
       "1488    255.009879\n",
       "1489    249.950079\n",
       "1490    251.726455\n",
       "1491    257.259108\n",
       "Length: 1492, dtype: float64"
      ]
     },
     "execution_count": 26,
     "metadata": {},
     "output_type": "execute_result"
    }
   ],
   "source": [
    "weighted_avgscore = (((education_df['GRADES_4_G'].interpolate(method='linear'))*(education_df['AVG_MATH_4_SCORE'].interpolate(method='linear')+education_df['AVG_READING_4_SCORE'].interpolate(method='linear'))) + ((education_df['GRADES_8_G'].interpolate(method='linear'))*(education_df['AVG_MATH_8_SCORE'].interpolate(method='linear')+education_df['AVG_READING_8_SCORE'].interpolate(method='linear'))))/(2*(education_df['GRADES_8_G'].interpolate(method='linear')+education_df['GRADES_4_G'].interpolate(method='linear')))\n",
    "\n",
    "education_df['AVG_WEIGHTED_SCORES'] = weighted_avgscore\n",
    "\n",
    "weighted_avgscore"
   ]
  },
  {
   "cell_type": "markdown",
   "metadata": {},
   "source": [
    "### 2. What are the correlations between this newly created score variable and the expenditure types? Which 1 of the expenditure types is more correlated than the others?"
   ]
  },
  {
   "cell_type": "code",
   "execution_count": 35,
   "metadata": {},
   "outputs": [
    {
     "name": "stdout",
     "output_type": "stream",
     "text": [
      "\n",
      "Correlations Between AVG_WEIGHTED_SCORES and EXPENDITURES: \n",
      "\n",
      "AVG_WEIGHTED_SCORES             1.000000\n",
      "INSTRUCTION_EXPENDITURE         0.148275\n",
      "SUPPORT_SERVICES_EXPENDITURE    0.148728\n",
      "OTHER_EXPENDITURE               0.068050\n",
      "CAPITAL_OUTLAY_EXPENDITURE      0.073822\n",
      "Name: AVG_WEIGHTED_SCORES, dtype: float64\n"
     ]
    }
   ],
   "source": [
    "print('\\nCorrelations Between AVG_WEIGHTED_SCORES and EXPENDITURES: \\n')\n",
    "print(education_df[['AVG_WEIGHTED_SCORES', 'INSTRUCTION_EXPENDITURE','SUPPORT_SERVICES_EXPENDITURE', 'OTHER_EXPENDITURE', 'CAPITAL_OUTLAY_EXPENDITURE']].corr()['AVG_WEIGHTED_SCORES'])"
   ]
  },
  {
   "cell_type": "markdown",
   "metadata": {},
   "source": [
    "SUPPORT_SERVICES_EXPENDITURE has a slightly higher correlation (14.9%) with AVG_WEIGHTED_SCORES when compared to all other subgroups of expenditures."
   ]
  },
  {
   "cell_type": "markdown",
   "metadata": {},
   "source": [
    "### 3. Now, apply PCA to the 4 expenditure types. How much of the total variance is explained by the 1st component?"
   ]
  },
  {
   "cell_type": "code",
   "execution_count": 37,
   "metadata": {},
   "outputs": [
    {
     "name": "stdout",
     "output_type": "stream",
     "text": [
      "Covariance Matrix:\n",
      " [[1.00078125 0.14008722 0.13994776 0.06810355 0.0622449 ]\n",
      " [0.14008722 1.00078125 0.97677452 0.90881349 0.89428808]\n",
      " [0.13994776 0.97677452 1.00078125 0.95404173 0.91626872]\n",
      " [0.06810355 0.90881349 0.95404173 1.00078125 0.92148208]\n",
      " [0.0622449  0.89428808 0.91626872 0.92148208 1.00078125]]\n",
      "Eigenvector 1: \n",
      "[0.07329001 0.49868715 0.50749684 0.49775116 0.49054097]\n",
      "Eigenvalue 1: 3.8021866904066077\n",
      "----------------------------------------\n",
      "Eigenvector 2: \n",
      "[ 0.99383433  0.00712752  0.0016351  -0.07488005 -0.08144214]\n",
      "Eigenvalue 2: 0.9917841243648367\n",
      "----------------------------------------\n",
      "Eigenvector 3: \n",
      "[-0.01910902 -0.51820657  0.7947269  -0.3143367   0.026427  ]\n",
      "Eigenvalue 3: 0.013622843878504137\n",
      "----------------------------------------\n",
      "Eigenvector 4: \n",
      "[ 0.07825724 -0.58410022 -0.3232213   0.20089829  0.71265041]\n",
      "Eigenvalue 4: 0.11883951625641415\n",
      "----------------------------------------\n",
      "Eigenvector 5: \n",
      "[-0.02079766  0.37623026 -0.07988388 -0.77940303  0.49413332]\n",
      "Eigenvalue 5: 0.07747307509363571\n",
      "----------------------------------------\n",
      "The percentage of total variance in the dataset explained by each component calculated by hand.\n",
      " [0.75984371 0.19820198 0.00272244 0.02374935 0.01548252]\n"
     ]
    },
    {
     "data": {
      "image/png": "[encoded data removed]",
      "text/plain": [
       "<Figure size 432x288 with 1 Axes>"
      ]
     },
     "metadata": {
      "needs_background": "light"
     },
     "output_type": "display_data"
    },
    {
     "name": "stdout",
     "output_type": "stream",
     "text": [
      "[3.80218669 0.99178412 0.01362284 0.11883952 0.07747308]\n"
     ]
    }
   ],
   "source": [
    "import math\n",
    "from matplotlib.mlab import PCA as mlabPCA\n",
    "from sklearn.preprocessing import StandardScaler\n",
    "from sklearn.decomposition import PCA\n",
    "\n",
    "education2 = education_df[['AVG_WEIGHTED_SCORES', 'INSTRUCTION_EXPENDITURE','SUPPORT_SERVICES_EXPENDITURE', 'OTHER_EXPENDITURE', 'CAPITAL_OUTLAY_EXPENDITURE']].copy()\n",
    "education2 = education2.dropna()\n",
    "# Normalize the data so that all variables have a mean of 0 and standard deviation\n",
    "# of 1.\n",
    "X = StandardScaler().fit_transform(education2)\n",
    "\n",
    "# The NumPy covariance function assumes that variables are represented by rows,\n",
    "# not columns, so we transpose X.\n",
    "Xt = X.T\n",
    "Cx = np.cov(Xt)\n",
    "print('Covariance Matrix:\\n', Cx)\n",
    "\n",
    "\n",
    "# Calculating eigenvalues and eigenvectors.\n",
    "eig_val_cov, eig_vec_cov = np.linalg.eig(Cx)\n",
    "\n",
    "# Inspecting the eigenvalues and eigenvectors.\n",
    "for i in range(len(eig_val_cov)):\n",
    "    eigvec_cov = eig_vec_cov[:, i].T\n",
    "    print('Eigenvector {}: \\n{}'.format(i + 1, eigvec_cov))\n",
    "    print('Eigenvalue {}: {}'.format(i + 1, eig_val_cov[i]))\n",
    "    print(40 * '-')\n",
    "\n",
    "print(\n",
    "    'The percentage of total variance in the dataset explained by each',\n",
    "    'component calculated by hand.\\n',\n",
    "    eig_val_cov / sum(eig_val_cov)\n",
    ")\n",
    "\n",
    "# print scree plot\n",
    "plt.plot(eig_val_cov)\n",
    "plt.show()\n",
    "\n",
    "print(eig_val_cov)\n",
    "\n"
   ]
  },
  {
   "cell_type": "code",
   "execution_count": 38,
   "metadata": {},
   "outputs": [
    {
     "name": "stdout",
     "output_type": "stream",
     "text": [
      "The percentage of total variance in the dataset explained by each component from Sklearn PCA.\n",
      " [0.75984371]\n"
     ]
    },
    {
     "data": {
      "image/png": "[encoded data removed]",
      "text/plain": [
       "<Figure size 432x288 with 1 Axes>"
      ]
     },
     "metadata": {
      "needs_background": "light"
     },
     "output_type": "display_data"
    }
   ],
   "source": [
    "sklearn_pca = PCA(n_components=1)\n",
    "Y_sklearn = sklearn_pca.fit_transform(X)\n",
    "\n",
    "P = eig_vec_cov[:, 0]\n",
    "\n",
    "# Transform X into Y.\n",
    "Y = P.T.dot(Xt)\n",
    "\n",
    "print(\n",
    "    'The percentage of total variance in the dataset explained by each',\n",
    "    'component from Sklearn PCA.\\n',\n",
    "    sklearn_pca.explained_variance_ratio_\n",
    ")\n",
    "\n",
    "# Compare the sklearn solution to ours – a perfect match.\n",
    "plt.plot(Y_sklearn[:, 0], Y, 'o')\n",
    "plt.title('Comparing solutions')\n",
    "plt.ylabel('Sklearn Component 1')\n",
    "plt.xlabel('By-hand Component 1')\n",
    "plt.show()"
   ]
  },
  {
   "cell_type": "markdown",
   "metadata": {},
   "source": [
    "As the above plots and printouts show, the first Component can explain approximately 76% of the total variance in our dataframe."
   ]
  },
  {
   "cell_type": "markdown",
   "metadata": {},
   "source": [
    "### 4. What is the correlation between the overall score variable and the 1st principal component?"
   ]
  },
  {
   "cell_type": "code",
   "execution_count": 45,
   "metadata": {},
   "outputs": [
    {
     "data": {
      "text/html": [
       "<div>\n",
       "<style scoped>\n",
       "    .dataframe tbody tr th:only-of-type {\n",
       "        vertical-align: middle;\n",
       "    }\n",
       "\n",
       "    .dataframe tbody tr th {\n",
       "        vertical-align: top;\n",
       "    }\n",
       "\n",
       "    .dataframe thead th {\n",
       "        text-align: right;\n",
       "    }\n",
       "</style>\n",
       "<table border=\"1\" class=\"dataframe\">\n",
       "  <thead>\n",
       "    <tr style=\"text-align: right;\">\n",
       "      <th></th>\n",
       "      <th>AVG_WEIGHTED_SCORES</th>\n",
       "      <th>First Component</th>\n",
       "    </tr>\n",
       "  </thead>\n",
       "  <tbody>\n",
       "    <tr>\n",
       "      <th>AVG_WEIGHTED_SCORES</th>\n",
       "      <td>1.000000</td>\n",
       "      <td>0.142854</td>\n",
       "    </tr>\n",
       "    <tr>\n",
       "      <th>First Component</th>\n",
       "      <td>0.142854</td>\n",
       "      <td>1.000000</td>\n",
       "    </tr>\n",
       "  </tbody>\n",
       "</table>\n",
       "</div>"
      ],
      "text/plain": [
       "                     AVG_WEIGHTED_SCORES  First Component\n",
       "AVG_WEIGHTED_SCORES             1.000000         0.142854\n",
       "First Component                 0.142854         1.000000"
      ]
     },
     "execution_count": 45,
     "metadata": {},
     "output_type": "execute_result"
    }
   ],
   "source": [
    "comparison_df = pd.DataFrame()\n",
    "comparison_df['AVG_WEIGHTED_SCORES'] = education2['AVG_WEIGHTED_SCORES'].copy()\n",
    "comparison_df['First Component'] = Y_sklearn\n",
    "\n",
    "comparison_df.corr()"
   ]
  },
  {
   "cell_type": "markdown",
   "metadata": {},
   "source": [
    "The correlation between the first principal component and the overall score variable is 14.3%."
   ]
  },
  {
   "cell_type": "markdown",
   "metadata": {},
   "source": [
    "### 5. If you were to choose the best variables for your model, would you prefer using the 1st principal component instead of the expenditure variables? Why?"
   ]
  },
  {
   "cell_type": "markdown",
   "metadata": {},
   "source": [
    "Even though two of the expenditure variables show a higher correlation to the new feature compared to the first principal component, I would still use PCA instead of the expenditure variables, because it's able to compile all of the information of 4 expenditure variables into one component, which is still at a comparable level of correlation."
   ]
  }
 ],
 "metadata": {
  "kernelspec": {
   "display_name": "Python 3",
   "language": "python",
   "name": "python3"
  },
  "language_info": {
   "codemirror_mode": {
    "name": "ipython",
    "version": 3
   },
   "file_extension": ".py",
   "mimetype": "text/x-python",
   "name": "python",
   "nbconvert_exporter": "python",
   "pygments_lexer": "ipython3",
   "version": "3.7.3"
  }
 },
 "nbformat": 4,
 "nbformat_minor": 2
}
