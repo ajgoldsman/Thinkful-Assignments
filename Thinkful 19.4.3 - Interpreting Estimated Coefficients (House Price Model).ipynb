{
 "cells": [
  {
   "cell_type": "markdown",
   "metadata": {},
   "source": [
    "# Interpreting Estimated Coefficients - House Price Model\n",
    "In this exercise, we'll work with the housing price data from the previous checkpoint. "
   ]
  },
  {
   "cell_type": "markdown",
   "metadata": {},
   "source": [
    "## Load the dataset from Thinkful's database"
   ]
  },
  {
   "cell_type": "code",
   "execution_count": 1,
   "metadata": {},
   "outputs": [],
   "source": [
    "# import libraries\n",
    "import pandas as pd\n",
    "import numpy as np\n",
    "import seaborn as sns\n",
    "import statsmodels.api as sm\n",
    "import os\n",
    "import matplotlib.pyplot as plt\n",
    "%matplotlib inline\n",
    "from sqlalchemy import create_engine\n",
    "import warnings\n",
    "\n",
    "warnings.filterwarnings('ignore')"
   ]
  },
  {
   "cell_type": "code",
   "execution_count": 2,
   "metadata": {},
   "outputs": [],
   "source": [
    "postgres_user = 'dsbc_student'\n",
    "postgres_pw = '7*.8G9QH21'\n",
    "postgres_host = '142.93.121.174'\n",
    "postgres_port = '5432'\n",
    "postgres_db = 'houseprices'\n",
    "\n",
    "# use the credentials to start a connection\n",
    "engine = create_engine('postgresql://{}:{}@{}:{}/{}'.format(\n",
    "    postgres_user, postgres_pw, postgres_host, postgres_port, postgres_db))\n",
    "\n",
    "# Use the connection to extract SQL data\n",
    "house_price = pd.read_sql_query('SELECT * FROM houseprices', con=engine)\n",
    "\n",
    "#Close the connection after query is complete\n",
    "engine.dispose()"
   ]
  },
  {
   "cell_type": "markdown",
   "metadata": {},
   "source": [
    "## Clean and transform the data"
   ]
  },
  {
   "cell_type": "code",
   "execution_count": 3,
   "metadata": {},
   "outputs": [],
   "source": [
    "#Drop features\n",
    "drop_list = list((house_price.isnull().sum()/house_price.isnull().count()).sort_values(ascending=False).head(19).index)\n",
    "drop_list.append('id')\n",
    "\n",
    "house_price = house_price.drop(drop_list, axis=1)\n",
    "\n",
    "#List of features that are string categoricals\n",
    "str_cat_cols = list(house_price.describe(include=['O']).columns)\n",
    "\n",
    "#Uniques within each variable\n",
    "uniques = pd.DataFrame()\n",
    "uni_col = []\n",
    "num_uni = []\n",
    "avgdiff_uni = []\n",
    "\n",
    "for col in list(house_price.columns):\n",
    "    uni_col.append(list(np.unique(house_price[col])))\n",
    "    num_uni.append(len(np.unique(house_price[col])))\n",
    "    try:\n",
    "        avgdiff_uni.append(np.mean(np.diff(np.unique(house_price[col]))))\n",
    "    except: \n",
    "        avgdiff_uni.append('N/A')\n",
    "    \n",
    "uniques['Category'] = list(house_price.columns)\n",
    "uniques['Unique Values'] = uni_col\n",
    "uniques['Num Uniques'] = num_uni\n",
    "uniques['Avg Diff Among Uniques'] = avgdiff_uni\n",
    "\n",
    "\n",
    "#List of features that are numerical categoricals\n",
    "#If a numerical variable is categorical, its unique values will tend to be close to each other and there shouldn't\n",
    "#be too many unique values \n",
    "num_cat_cols = []\n",
    "for col in list(house_price.columns):\n",
    "    if col not in str_cat_cols:   \n",
    "        if ((list(uniques[uniques['Category']==col]['Avg Diff Among Uniques'])[0] < 2) or ((list(uniques[uniques['Category']==col]['Num Uniques'])[0] < 20) and (list(uniques[uniques['Category']==col]['Avg Diff Among Uniques'])[0] < 20))):\n",
    "            num_cat_cols.append(col)\n",
    "            \n",
    "#List of features that are numerical continuous\n",
    "cont_cols = []\n",
    "for col in list(house_price.columns):\n",
    "    if ((col not in str_cat_cols) and (col not in num_cat_cols)):\n",
    "        cont_cols.append(col)\n",
    "        \n",
    "#Create new dataframe containing features of interest\n",
    "sale_df = house_price[['saleprice', 'grlivarea', 'garagearea', 'totalbsmtsf', 'overallqual', 'paveddrive', 'centralair', 'yearremodadd']]\n",
    "\n",
    "#Convert string categoricals ('paveddrive' and 'centralair') to dummy numerical\n",
    "unique_paved = ['N', 'P', 'Y']\n",
    "dummy_paveddrive = []\n",
    "for row in sale_df['paveddrive']:\n",
    "    for i in range(len(unique_paved)):\n",
    "        if row == unique_paved[i]:\n",
    "            dummy_paveddrive.append(i)\n",
    "        \n",
    "sale_df['paveddrive'] = dummy_paveddrive\n",
    "\n",
    "unique_ac = ['N', 'Y']\n",
    "dummy_ac = []\n",
    "for row in sale_df['centralair']:\n",
    "    for i in range(len(unique_ac)):\n",
    "        if row == unique_ac[i]:\n",
    "            dummy_ac.append(i)\n",
    "        \n",
    "sale_df['centralair'] = dummy_ac"
   ]
  },
  {
   "cell_type": "markdown",
   "metadata": {},
   "source": [
    "## Build a linear regression model where your target variable is saleprice. "
   ]
  },
  {
   "cell_type": "code",
   "execution_count": 5,
   "metadata": {},
   "outputs": [
    {
     "name": "stdout",
     "output_type": "stream",
     "text": [
      "                            OLS Regression Results                            \n",
      "==============================================================================\n",
      "Dep. Variable:              saleprice   R-squared:                       0.766\n",
      "Model:                            OLS   Adj. R-squared:                  0.765\n",
      "Method:                 Least Squares   F-statistic:                     680.2\n",
      "Date:                Mon, 23 Sep 2019   Prob (F-statistic):               0.00\n",
      "Time:                        14:11:56   Log-Likelihood:                -17483.\n",
      "No. Observations:                1460   AIC:                         3.498e+04\n",
      "Df Residuals:                    1452   BIC:                         3.502e+04\n",
      "Df Model:                           7                                         \n",
      "Covariance Type:            nonrobust                                         \n",
      "================================================================================\n",
      "                   coef    std err          t      P>|t|      [0.025      0.975]\n",
      "--------------------------------------------------------------------------------\n",
      "const        -8.876e+05   1.16e+05     -7.684      0.000   -1.11e+06   -6.61e+05\n",
      "grlivarea       47.7980      2.496     19.147      0.000      42.901      52.695\n",
      "garagearea      51.0709      6.132      8.329      0.000      39.042      63.099\n",
      "totalbsmtsf     29.8884      2.874     10.400      0.000      24.251      35.526\n",
      "overallqual   2.126e+04   1140.237     18.643      0.000     1.9e+04    2.35e+04\n",
      "paveddrive    3900.3001   2228.133      1.750      0.080    -470.404    8271.004\n",
      "centralair    4995.4513   4533.414      1.102      0.271   -3897.290    1.39e+04\n",
      "yearremodadd   402.4408     59.832      6.726      0.000     285.075     519.807\n",
      "==============================================================================\n",
      "Omnibus:                      503.301   Durbin-Watson:                   1.981\n",
      "Prob(Omnibus):                  0.000   Jarque-Bera (JB):            63498.342\n",
      "Skew:                          -0.517   Prob(JB):                         0.00\n",
      "Kurtosis:                      35.291   Cond. No.                     3.19e+05\n",
      "==============================================================================\n",
      "\n",
      "Warnings:\n",
      "[1] Standard Errors assume that the covariance matrix of the errors is correctly specified.\n",
      "[2] The condition number is large, 3.19e+05. This might indicate that there are\n",
      "strong multicollinearity or other numerical problems.\n"
     ]
    }
   ],
   "source": [
    "target_var = 'saleprice'\n",
    "feature_set = list(sale_df.columns.drop('saleprice'))\n",
    "\n",
    "# X is the feature set \n",
    "X = sale_df[feature_set]\n",
    "# Y is the target variable\n",
    "Y = sale_df[target_var]\n",
    "\n",
    "# We add constant to the model as it's a best practice\n",
    "# to do so every time!\n",
    "X = sm.add_constant(X)\n",
    "\n",
    "# We fit an OLS model using statsmodels\n",
    "results = sm.OLS(Y, X).fit()\n",
    "\n",
    "# We print the summary results.\n",
    "print(results.summary())"
   ]
  },
  {
   "cell_type": "code",
   "execution_count": 6,
   "metadata": {},
   "outputs": [
    {
     "name": "stdout",
     "output_type": "stream",
     "text": [
      "The estimated model is:\n",
      "Sale Price ($) =  -887633.97 + 47.8(grlivarea) + 51.07(garagearea) + 29.89(totalbsmtsf) + 21257.74(overallqual) + 3900.3(paveddrive) + 4995.45(centralair) + 402.44(yearremodadd)\n"
     ]
    }
   ],
   "source": [
    "print('The estimated model is:')\n",
    "\n",
    "equation = str(round(results.params[0], 2))\n",
    "cols = feature_set\n",
    "for i in range(len(cols)):\n",
    "    equation =  equation + ' + ' + str(round(results.params[i+1], 2)) + '(' + cols[i] + ')'\n",
    "\n",
    "print('Sale Price ($) = ', equation)"
   ]
  },
  {
   "cell_type": "markdown",
   "metadata": {},
   "source": [
    "According to the OLS summary, only 'paveddrive' and 'centralair' have a p-value larger than 0.05, which means that only those two values are not statistically significant, while the others are significant. This is interesting in that those coefficients are two of the largest in the model, so disregarding those will probably affect the model significantly. It makes sense that all of the coefficients are positive, because one would expect that larger square footage, higher overall quality, or more recent remodels would all increase the value of a house in the eyes of potential buyers."
   ]
  },
  {
   "cell_type": "markdown",
   "metadata": {},
   "source": [
    "## Now, exclude the insignificant features from your model. Did anything change?"
   ]
  },
  {
   "cell_type": "code",
   "execution_count": 7,
   "metadata": {},
   "outputs": [
    {
     "name": "stdout",
     "output_type": "stream",
     "text": [
      "                            OLS Regression Results                            \n",
      "==============================================================================\n",
      "Dep. Variable:              saleprice   R-squared:                       0.765\n",
      "Model:                            OLS   Adj. R-squared:                  0.765\n",
      "Method:                 Least Squares   F-statistic:                     948.6\n",
      "Date:                Mon, 23 Sep 2019   Prob (F-statistic):               0.00\n",
      "Time:                        14:28:17   Log-Likelihood:                -17486.\n",
      "No. Observations:                1460   AIC:                         3.498e+04\n",
      "Df Residuals:                    1454   BIC:                         3.502e+04\n",
      "Df Model:                           5                                         \n",
      "Covariance Type:            nonrobust                                         \n",
      "================================================================================\n",
      "                   coef    std err          t      P>|t|      [0.025      0.975]\n",
      "--------------------------------------------------------------------------------\n",
      "const        -9.076e+05   1.14e+05     -7.942      0.000   -1.13e+06   -6.83e+05\n",
      "grlivarea       46.9309      2.473     18.979      0.000      42.080      51.782\n",
      "garagearea      53.7239      6.028      8.912      0.000      41.899      65.548\n",
      "totalbsmtsf     30.5406      2.864     10.662      0.000      24.922      36.159\n",
      "overallqual   2.155e+04   1134.526     18.997      0.000    1.93e+04    2.38e+04\n",
      "yearremodadd   417.2989     58.992      7.074      0.000     301.580     533.017\n",
      "==============================================================================\n",
      "Omnibus:                      516.096   Durbin-Watson:                   1.976\n",
      "Prob(Omnibus):                  0.000   Jarque-Bera (JB):            64097.349\n",
      "Skew:                          -0.575   Prob(JB):                         0.00\n",
      "Kurtosis:                      35.440   Cond. No.                     3.16e+05\n",
      "==============================================================================\n",
      "\n",
      "Warnings:\n",
      "[1] Standard Errors assume that the covariance matrix of the errors is correctly specified.\n",
      "[2] The condition number is large, 3.16e+05. This might indicate that there are\n",
      "strong multicollinearity or other numerical problems.\n"
     ]
    }
   ],
   "source": [
    "target_var = 'saleprice'\n",
    "feature_set = list(sale_df.columns.drop(['saleprice', 'paveddrive', 'centralair']))\n",
    "\n",
    "# X is the feature set \n",
    "X = sale_df[feature_set]\n",
    "# Y is the target variable\n",
    "Y = sale_df[target_var]\n",
    "\n",
    "# We add constant to the model as it's a best practice\n",
    "# to do so every time!\n",
    "X = sm.add_constant(X)\n",
    "\n",
    "# We fit an OLS model using statsmodels\n",
    "results = sm.OLS(Y, X).fit()\n",
    "\n",
    "# We print the summary results.\n",
    "print(results.summary())"
   ]
  },
  {
   "cell_type": "code",
   "execution_count": 8,
   "metadata": {},
   "outputs": [
    {
     "name": "stdout",
     "output_type": "stream",
     "text": [
      "The new estimated model is:\n",
      "Temperature Difference =  -907645.92 + 46.93(grlivarea) + 53.72(garagearea) + 30.54(totalbsmtsf) + 21552.9(overallqual) + 417.3(yearremodadd)\n"
     ]
    }
   ],
   "source": [
    "print('The new estimated model is:')\n",
    "\n",
    "equation = str(round(results.params[0], 2))\n",
    "cols = feature_set\n",
    "for i in range(len(cols)):\n",
    "    equation =  equation + ' + ' + str(round(results.params[i+1], 2)) + '(' + cols[i] + ')'\n",
    "\n",
    "print('Temperature Difference = ', equation)"
   ]
  },
  {
   "cell_type": "markdown",
   "metadata": {},
   "source": [
    "Not much changes with the model when the insignificant features are removed. The constant coefficient becomes lower (larger in the negative direction), but the rest of the coefficients keep their same sign (all positive) and similar values."
   ]
  },
  {
   "cell_type": "markdown",
   "metadata": {},
   "source": [
    "### Interpret the statistically significant coefficients by quantifying their relations with the house prices. Which features have a more prominent effect on house prices?"
   ]
  },
  {
   "cell_type": "code",
   "execution_count": 9,
   "metadata": {},
   "outputs": [
    {
     "data": {
      "text/plain": [
       "saleprice       1.000000\n",
       "grlivarea       0.708624\n",
       "garagearea      0.623431\n",
       "totalbsmtsf     0.613581\n",
       "overallqual     0.790982\n",
       "yearremodadd    0.507101\n",
       "Name: saleprice, dtype: float64"
      ]
     },
     "execution_count": 9,
     "metadata": {},
     "output_type": "execute_result"
    }
   ],
   "source": [
    "feature_set = list(sale_df.columns.drop(['paveddrive', 'centralair']))\n",
    "sale_df[feature_set].corr()['saleprice']"
   ]
  },
  {
   "cell_type": "markdown",
   "metadata": {},
   "source": [
    "Based on the coefficient values obtained from OLS, we can see that the impact of each variable on saleprice (holding the other variables constant) are ranked by impact from highest to lowest as overallqual, yearremodadd, garagearea, grlivarea, and totalbsmtsf. So, by that analysis, we know that the sale price of a house is highly dependent on the overall quality and recency of remodeling work, and dependent on various sizes, which makes sense, as home-buyers generally will pay more for larger, high-quality, recently renovated buildings."
   ]
  },
  {
   "cell_type": "code",
   "execution_count": null,
   "metadata": {},
   "outputs": [],
   "source": []
  }
 ],
 "metadata": {
  "kernelspec": {
   "display_name": "Python 3",
   "language": "python",
   "name": "python3"
  },
  "language_info": {
   "codemirror_mode": {
    "name": "ipython",
    "version": 3
   },
   "file_extension": ".py",
   "mimetype": "text/x-python",
   "name": "python",
   "nbconvert_exporter": "python",
   "pygments_lexer": "ipython3",
   "version": "3.7.3"
  }
 },
 "nbformat": 4,
 "nbformat_minor": 2
}
