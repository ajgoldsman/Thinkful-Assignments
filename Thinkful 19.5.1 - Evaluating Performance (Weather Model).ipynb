{
 "cells": [
  {
   "cell_type": "markdown",
   "metadata": {},
   "source": [
    "# Evaluating Performance - Weather Model\n",
    "In this exercise, we'll work with the historical temperature data from the previous checkpoint. "
   ]
  },
  {
   "cell_type": "markdown",
   "metadata": {},
   "source": [
    "## Load the dataset from Thinkful's database"
   ]
  },
  {
   "cell_type": "code",
   "execution_count": 1,
   "metadata": {},
   "outputs": [],
   "source": [
    "# import libraries\n",
    "import pandas as pd\n",
    "import numpy as np\n",
    "import seaborn as sns\n",
    "import statsmodels.api as sm\n",
    "import os\n",
    "import matplotlib.pyplot as plt\n",
    "%matplotlib inline\n",
    "from sqlalchemy import create_engine\n",
    "import warnings\n",
    "\n",
    "warnings.filterwarnings('ignore')"
   ]
  },
  {
   "cell_type": "code",
   "execution_count": 2,
   "metadata": {},
   "outputs": [],
   "source": [
    "postgres_user = 'dsbc_student'\n",
    "postgres_pw = '7*.8G9QH21'\n",
    "postgres_host = '142.93.121.174'\n",
    "postgres_port = '5432'\n",
    "postgres_db = 'weatherinszeged'\n",
    "\n",
    "# use the credentials to start a connection\n",
    "engine = create_engine('postgresql://{}:{}@{}:{}/{}'.format(\n",
    "    postgres_user, postgres_pw, postgres_host, postgres_port, postgres_db))\n",
    "\n",
    "# Use the connection to extract SQL data\n",
    "weather_df = pd.read_sql_query('SELECT * FROM weatherinszeged', con=engine)\n",
    "\n",
    "#Close the connection after query is complete\n",
    "engine.dispose()"
   ]
  },
  {
   "cell_type": "markdown",
   "metadata": {},
   "source": [
    "## Build a linear regression model where your target variable is the difference between the apparenttemperature and the temperature. As explanatory variables, use humidity and windspeed."
   ]
  },
  {
   "cell_type": "code",
   "execution_count": 3,
   "metadata": {},
   "outputs": [],
   "source": [
    "temp_dif = weather_df['temperature'] - weather_df['apparenttemperature']\n",
    "weather_df['temperaturediff'] = temp_dif"
   ]
  },
  {
   "cell_type": "code",
   "execution_count": 4,
   "metadata": {},
   "outputs": [
    {
     "name": "stdout",
     "output_type": "stream",
     "text": [
      "                            OLS Regression Results                            \n",
      "==============================================================================\n",
      "Dep. Variable:        temperaturediff   R-squared:                       0.288\n",
      "Model:                            OLS   Adj. R-squared:                  0.288\n",
      "Method:                 Least Squares   F-statistic:                 1.949e+04\n",
      "Date:                Mon, 23 Sep 2019   Prob (F-statistic):               0.00\n",
      "Time:                        17:41:16   Log-Likelihood:            -1.7046e+05\n",
      "No. Observations:               96453   AIC:                         3.409e+05\n",
      "Df Residuals:                   96450   BIC:                         3.409e+05\n",
      "Df Model:                           2                                         \n",
      "Covariance Type:            nonrobust                                         \n",
      "==============================================================================\n",
      "                 coef    std err          t      P>|t|      [0.025      0.975]\n",
      "------------------------------------------------------------------------------\n",
      "const         -2.4381      0.021   -115.948      0.000      -2.479      -2.397\n",
      "humidity       3.0292      0.024    126.479      0.000       2.982       3.076\n",
      "windspeed      0.1193      0.001    176.164      0.000       0.118       0.121\n",
      "==============================================================================\n",
      "Omnibus:                     3935.747   Durbin-Watson:                   0.267\n",
      "Prob(Omnibus):                  0.000   Jarque-Bera (JB):             4613.311\n",
      "Skew:                           0.478   Prob(JB):                         0.00\n",
      "Kurtosis:                       3.484   Cond. No.                         88.1\n",
      "==============================================================================\n",
      "\n",
      "Warnings:\n",
      "[1] Standard Errors assume that the covariance matrix of the errors is correctly specified.\n"
     ]
    }
   ],
   "source": [
    "target_var = 'temperaturediff'\n",
    "feature_set = ['humidity', 'windspeed']\n",
    "\n",
    "# X is the feature set \n",
    "X = weather_df[feature_set]\n",
    "# Y is the target variable\n",
    "Y = weather_df[target_var]\n",
    "\n",
    "# We add constant to the model as it's a best practice\n",
    "# to do so every time!\n",
    "X = sm.add_constant(X)\n",
    "\n",
    "# We fit an OLS model using statsmodels\n",
    "results = sm.OLS(Y, X).fit()\n",
    "\n",
    "# We print the summary results.\n",
    "print(results.summary())"
   ]
  },
  {
   "cell_type": "markdown",
   "metadata": {},
   "source": [
    "The R-squared value for this model is 0.288, and the adjusted R-squared value is also 0.288. These values are too low to be satisfactory, as they mean that only 28.8% of the variance can be explained by our model. "
   ]
  },
  {
   "cell_type": "markdown",
   "metadata": {},
   "source": [
    "## Include the interaction of humidity and windspeed to the model above and estimate the model using OLS."
   ]
  },
  {
   "cell_type": "code",
   "execution_count": 5,
   "metadata": {},
   "outputs": [
    {
     "name": "stdout",
     "output_type": "stream",
     "text": [
      "                            OLS Regression Results                            \n",
      "==============================================================================\n",
      "Dep. Variable:        temperaturediff   R-squared:                       0.341\n",
      "Model:                            OLS   Adj. R-squared:                  0.341\n",
      "Method:                 Least Squares   F-statistic:                 1.666e+04\n",
      "Date:                Mon, 23 Sep 2019   Prob (F-statistic):               0.00\n",
      "Time:                        17:47:11   Log-Likelihood:            -1.6669e+05\n",
      "No. Observations:               96453   AIC:                         3.334e+05\n",
      "Df Residuals:                   96449   BIC:                         3.334e+05\n",
      "Df Model:                           3                                         \n",
      "Covariance Type:            nonrobust                                         \n",
      "======================================================================================\n",
      "                         coef    std err          t      P>|t|      [0.025      0.975]\n",
      "--------------------------------------------------------------------------------------\n",
      "const                 -0.0839      0.033     -2.511      0.012      -0.149      -0.018\n",
      "humidity              -0.1775      0.043     -4.133      0.000      -0.262      -0.093\n",
      "windspeed             -0.0905      0.002    -36.797      0.000      -0.095      -0.086\n",
      "humidity_windspeed     0.2971      0.003     88.470      0.000       0.291       0.304\n",
      "==============================================================================\n",
      "Omnibus:                     4849.937   Durbin-Watson:                   0.265\n",
      "Prob(Omnibus):                  0.000   Jarque-Bera (JB):             9295.404\n",
      "Skew:                           0.378   Prob(JB):                         0.00\n",
      "Kurtosis:                       4.320   Cond. No.                         193.\n",
      "==============================================================================\n",
      "\n",
      "Warnings:\n",
      "[1] Standard Errors assume that the covariance matrix of the errors is correctly specified.\n"
     ]
    }
   ],
   "source": [
    "# This is the interaction between humidity and windspeed\n",
    "weather_df['humidity_windspeed'] = weather_df['humidity'] * weather_df['windspeed']\n",
    "\n",
    "feature_set = ['humidity', 'windspeed', 'humidity_windspeed']\n",
    "\n",
    "# X is the feature set \n",
    "X = weather_df[feature_set]\n",
    "# Y is the target variable\n",
    "Y = weather_df[target_var]\n",
    "\n",
    "# We add a constant to the model as it's a best practice\n",
    "# to do so every time!\n",
    "X = sm.add_constant(X)\n",
    "\n",
    "# We fit an OLS model using statsmodels\n",
    "results = sm.OLS(Y, X).fit()\n",
    "\n",
    "# We print the summary results\n",
    "print(results.summary())"
   ]
  },
  {
   "cell_type": "markdown",
   "metadata": {},
   "source": [
    "For this version of the model, the R-squared value is 0.341 and the adjusted R-squared value is also 0.341. Although this value is higher than the previous 0.288, it's still too low to be satisfactory, as it only explains 34.1% of the variance in the model."
   ]
  },
  {
   "cell_type": "markdown",
   "metadata": {},
   "source": [
    "## Add visibility as an additional explanatory variable to the first model and estimate it."
   ]
  },
  {
   "cell_type": "code",
   "execution_count": 6,
   "metadata": {},
   "outputs": [
    {
     "name": "stdout",
     "output_type": "stream",
     "text": [
      "                            OLS Regression Results                            \n",
      "==============================================================================\n",
      "Dep. Variable:        temperaturediff   R-squared:                       0.304\n",
      "Model:                            OLS   Adj. R-squared:                  0.303\n",
      "Method:                 Least Squares   F-statistic:                 1.401e+04\n",
      "Date:                Mon, 23 Sep 2019   Prob (F-statistic):               0.00\n",
      "Time:                        17:59:29   Log-Likelihood:            -1.6938e+05\n",
      "No. Observations:               96453   AIC:                         3.388e+05\n",
      "Df Residuals:                   96449   BIC:                         3.388e+05\n",
      "Df Model:                           3                                         \n",
      "Covariance Type:            nonrobust                                         \n",
      "==============================================================================\n",
      "                 coef    std err          t      P>|t|      [0.025      0.975]\n",
      "------------------------------------------------------------------------------\n",
      "const         -1.5756      0.028    -56.605      0.000      -1.630      -1.521\n",
      "humidity       2.6066      0.025    102.784      0.000       2.557       2.656\n",
      "windspeed      0.1199      0.001    179.014      0.000       0.119       0.121\n",
      "visibility    -0.0540      0.001    -46.614      0.000      -0.056      -0.052\n",
      "==============================================================================\n",
      "Omnibus:                     3833.895   Durbin-Watson:                   0.282\n",
      "Prob(Omnibus):                  0.000   Jarque-Bera (JB):             4584.022\n",
      "Skew:                           0.459   Prob(JB):                         0.00\n",
      "Kurtosis:                       3.545   Cond. No.                         131.\n",
      "==============================================================================\n",
      "\n",
      "Warnings:\n",
      "[1] Standard Errors assume that the covariance matrix of the errors is correctly specified.\n"
     ]
    }
   ],
   "source": [
    "feature_set = ['humidity', 'windspeed', 'visibility']\n",
    "\n",
    "# X is the feature set \n",
    "X = weather_df[feature_set]\n",
    "# Y is the target variable\n",
    "Y = weather_df[target_var]\n",
    "\n",
    "# We add a constant to the model as it's a best practice\n",
    "# to do so every time!\n",
    "X = sm.add_constant(X)\n",
    "\n",
    "# We fit an OLS model using statsmodels\n",
    "results = sm.OLS(Y, X).fit()\n",
    "\n",
    "# We print the summary results\n",
    "print(results.summary())"
   ]
  },
  {
   "cell_type": "markdown",
   "metadata": {},
   "source": [
    "The new R-squared value is 0.304 and the adjusted R-squared value is 0.303. This is higher than the values from the original model, but lower than the values from the model containing the humidity_windspeed interaction feature. Therefore, the interaction feature is more useful than the visibility feature."
   ]
  },
  {
   "cell_type": "markdown",
   "metadata": {},
   "source": [
    "## Choose the best one from the three models above with respect to their AIC and BIC scores."
   ]
  },
  {
   "cell_type": "markdown",
   "metadata": {},
   "source": [
    "For AIC and BIC, the lower the value, the better. Our first model had AIC and BIC values of 3.409E+05, the second model had values of 3.334E+05, and the third model had values of 3.388E+05. So, based on those values, the second model is the best choice."
   ]
  },
  {
   "cell_type": "code",
   "execution_count": null,
   "metadata": {},
   "outputs": [],
   "source": []
  }
 ],
 "metadata": {
  "kernelspec": {
   "display_name": "Python 3",
   "language": "python",
   "name": "python3"
  },
  "language_info": {
   "codemirror_mode": {
    "name": "ipython",
    "version": 3
   },
   "file_extension": ".py",
   "mimetype": "text/x-python",
   "name": "python",
   "nbconvert_exporter": "python",
   "pygments_lexer": "ipython3",
   "version": "3.7.3"
  }
 },
 "nbformat": 4,
 "nbformat_minor": 2
}
