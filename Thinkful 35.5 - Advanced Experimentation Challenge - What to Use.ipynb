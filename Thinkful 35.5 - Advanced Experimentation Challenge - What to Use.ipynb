{
 "cells": [
  {
   "cell_type": "markdown",
   "metadata": {},
   "source": [
    "# Challenge: What to use\n",
    "Using selected questions from the 2012 and 2014 editions of the [European Social Survey](http://www.europeansocialsurvey.org/data/round-index.html), address the following questions. For each question, explain why you chose the approach you did.\n",
    "\n",
    "Here is the [data file](https://raw.githubusercontent.com/Thinkful-Ed/data-201-resources/master/ESS_practice_data/ESSdata_Thinkful.csv). And here is the [codebook](https://thinkful-ed.github.io/data-201-resources/ESS_practice_data/ESS_codebook.html), with information about the variable coding and content.\n",
    "\n",
    "In this dataset, the same participants answered questions in 2012 and again 2014."
   ]
  },
  {
   "cell_type": "code",
   "execution_count": 36,
   "metadata": {},
   "outputs": [],
   "source": [
    "import pandas as pd\n",
    "import numpy as np\n",
    "import matplotlib.pyplot as plt\n",
    "import seaborn as sns\n",
    "%matplotlib inline\n",
    "\n",
    "import warnings\n",
    "warnings.filterwarnings('ignore')"
   ]
  },
  {
   "cell_type": "code",
   "execution_count": 3,
   "metadata": {},
   "outputs": [
    {
     "data": {
      "text/html": [
       "<div>\n",
       "<style scoped>\n",
       "    .dataframe tbody tr th:only-of-type {\n",
       "        vertical-align: middle;\n",
       "    }\n",
       "\n",
       "    .dataframe tbody tr th {\n",
       "        vertical-align: top;\n",
       "    }\n",
       "\n",
       "    .dataframe thead th {\n",
       "        text-align: right;\n",
       "    }\n",
       "</style>\n",
       "<table border=\"1\" class=\"dataframe\">\n",
       "  <thead>\n",
       "    <tr style=\"text-align: right;\">\n",
       "      <th></th>\n",
       "      <th>cntry</th>\n",
       "      <th>idno</th>\n",
       "      <th>year</th>\n",
       "      <th>tvtot</th>\n",
       "      <th>ppltrst</th>\n",
       "      <th>pplfair</th>\n",
       "      <th>pplhlp</th>\n",
       "      <th>happy</th>\n",
       "      <th>sclmeet</th>\n",
       "      <th>sclact</th>\n",
       "      <th>gndr</th>\n",
       "      <th>agea</th>\n",
       "      <th>partner</th>\n",
       "    </tr>\n",
       "  </thead>\n",
       "  <tbody>\n",
       "    <tr>\n",
       "      <th>0</th>\n",
       "      <td>CH</td>\n",
       "      <td>5.0</td>\n",
       "      <td>6</td>\n",
       "      <td>3.0</td>\n",
       "      <td>3.0</td>\n",
       "      <td>10.0</td>\n",
       "      <td>5.0</td>\n",
       "      <td>8.0</td>\n",
       "      <td>5.0</td>\n",
       "      <td>4.0</td>\n",
       "      <td>2.0</td>\n",
       "      <td>60.0</td>\n",
       "      <td>1.0</td>\n",
       "    </tr>\n",
       "    <tr>\n",
       "      <th>1</th>\n",
       "      <td>CH</td>\n",
       "      <td>25.0</td>\n",
       "      <td>6</td>\n",
       "      <td>6.0</td>\n",
       "      <td>5.0</td>\n",
       "      <td>7.0</td>\n",
       "      <td>5.0</td>\n",
       "      <td>9.0</td>\n",
       "      <td>3.0</td>\n",
       "      <td>2.0</td>\n",
       "      <td>2.0</td>\n",
       "      <td>59.0</td>\n",
       "      <td>1.0</td>\n",
       "    </tr>\n",
       "    <tr>\n",
       "      <th>2</th>\n",
       "      <td>CH</td>\n",
       "      <td>26.0</td>\n",
       "      <td>6</td>\n",
       "      <td>1.0</td>\n",
       "      <td>8.0</td>\n",
       "      <td>8.0</td>\n",
       "      <td>8.0</td>\n",
       "      <td>7.0</td>\n",
       "      <td>6.0</td>\n",
       "      <td>3.0</td>\n",
       "      <td>1.0</td>\n",
       "      <td>24.0</td>\n",
       "      <td>2.0</td>\n",
       "    </tr>\n",
       "    <tr>\n",
       "      <th>3</th>\n",
       "      <td>CH</td>\n",
       "      <td>28.0</td>\n",
       "      <td>6</td>\n",
       "      <td>4.0</td>\n",
       "      <td>6.0</td>\n",
       "      <td>6.0</td>\n",
       "      <td>7.0</td>\n",
       "      <td>10.0</td>\n",
       "      <td>6.0</td>\n",
       "      <td>2.0</td>\n",
       "      <td>2.0</td>\n",
       "      <td>64.0</td>\n",
       "      <td>1.0</td>\n",
       "    </tr>\n",
       "    <tr>\n",
       "      <th>4</th>\n",
       "      <td>CH</td>\n",
       "      <td>29.0</td>\n",
       "      <td>6</td>\n",
       "      <td>5.0</td>\n",
       "      <td>6.0</td>\n",
       "      <td>7.0</td>\n",
       "      <td>5.0</td>\n",
       "      <td>8.0</td>\n",
       "      <td>7.0</td>\n",
       "      <td>2.0</td>\n",
       "      <td>2.0</td>\n",
       "      <td>55.0</td>\n",
       "      <td>1.0</td>\n",
       "    </tr>\n",
       "  </tbody>\n",
       "</table>\n",
       "</div>"
      ],
      "text/plain": [
       "  cntry  idno  year  tvtot  ppltrst  pplfair  pplhlp  happy  sclmeet  sclact  \\\n",
       "0    CH   5.0     6    3.0      3.0     10.0     5.0    8.0      5.0     4.0   \n",
       "1    CH  25.0     6    6.0      5.0      7.0     5.0    9.0      3.0     2.0   \n",
       "2    CH  26.0     6    1.0      8.0      8.0     8.0    7.0      6.0     3.0   \n",
       "3    CH  28.0     6    4.0      6.0      6.0     7.0   10.0      6.0     2.0   \n",
       "4    CH  29.0     6    5.0      6.0      7.0     5.0    8.0      7.0     2.0   \n",
       "\n",
       "   gndr  agea  partner  \n",
       "0   2.0  60.0      1.0  \n",
       "1   2.0  59.0      1.0  \n",
       "2   1.0  24.0      2.0  \n",
       "3   2.0  64.0      1.0  \n",
       "4   2.0  55.0      1.0  "
      ]
     },
     "execution_count": 3,
     "metadata": {},
     "output_type": "execute_result"
    }
   ],
   "source": [
    "# Load data\n",
    "ess = pd.read_csv('https://raw.githubusercontent.com/Thinkful-Ed/data-201-resources/master/ESS_practice_data/ESSdata_Thinkful.csv')\n",
    "ess.head()"
   ]
  },
  {
   "cell_type": "code",
   "execution_count": 5,
   "metadata": {},
   "outputs": [
    {
     "data": {
      "text/plain": [
       "(8594, 13)"
      ]
     },
     "execution_count": 5,
     "metadata": {},
     "output_type": "execute_result"
    }
   ],
   "source": [
    "ess.shape"
   ]
  },
  {
   "cell_type": "code",
   "execution_count": 49,
   "metadata": {},
   "outputs": [
    {
     "data": {
      "text/plain": [
       "Index(['cntry', 'idno', 'year', 'tvtot', 'ppltrst', 'pplfair', 'pplhlp',\n",
       "       'happy', 'sclmeet', 'sclact', 'gndr', 'agea', 'partner'],\n",
       "      dtype='object')"
      ]
     },
     "execution_count": 49,
     "metadata": {},
     "output_type": "execute_result"
    }
   ],
   "source": [
    "ess.columns"
   ]
  },
  {
   "cell_type": "code",
   "execution_count": 9,
   "metadata": {},
   "outputs": [
    {
     "data": {
      "text/plain": [
       "cntry         6\n",
       "idno       3086\n",
       "year          2\n",
       "tvtot         8\n",
       "ppltrst      11\n",
       "pplfair      11\n",
       "pplhlp       11\n",
       "happy        11\n",
       "sclmeet       7\n",
       "sclact        5\n",
       "gndr          2\n",
       "agea         83\n",
       "partner       2\n",
       "dtype: int64"
      ]
     },
     "execution_count": 9,
     "metadata": {},
     "output_type": "execute_result"
    }
   ],
   "source": [
    "ess.nunique()"
   ]
  },
  {
   "cell_type": "markdown",
   "metadata": {},
   "source": [
    "## 1. Did people become less trusting from 2012 to 2014? Compute results for each country in the sample."
   ]
  },
  {
   "cell_type": "code",
   "execution_count": 61,
   "metadata": {},
   "outputs": [
    {
     "name": "stdout",
     "output_type": "stream",
     "text": [
      "Distributions of \"ppltrst\":\n"
     ]
    },
    {
     "data": {
      "image/png": "[encoded data removed]",
      "text/plain": [
       "<Figure size 1440x504 with 12 Axes>"
      ]
     },
     "metadata": {
      "needs_background": "light"
     },
     "output_type": "display_data"
    }
   ],
   "source": [
    "unique_year = list(np.unique(ess['year']))\n",
    "rows = len(unique_year)\n",
    "\n",
    "unique_cntry = list(np.unique(ess['cntry']))\n",
    "cols = len(unique_cntry)\n",
    "\n",
    "print('Distributions of \"ppltrst\":')\n",
    "plt.figure(figsize = (20, 7))\n",
    "i = 1\n",
    "for row in range(rows):\n",
    "    for col in range(cols):\n",
    "        plt.subplot(rows,cols,i)\n",
    "        plt.hist(ess['ppltrst'][ess['cntry']==unique_cntry[col]][ess['year']==unique_year[row]].dropna())\n",
    "        plt.title('Year = ' + str(2000 + 2*(unique_year[row])) + ' | Country = ' + unique_cntry[col])\n",
    "        i = i+1\n",
    "        \n",
    "plt.show()"
   ]
  },
  {
   "cell_type": "code",
   "execution_count": null,
   "metadata": {},
   "outputs": [],
   "source": []
  },
  {
   "cell_type": "code",
   "execution_count": 92,
   "metadata": {},
   "outputs": [
    {
     "name": "stdout",
     "output_type": "stream",
     "text": [
      "T-Tests:\n",
      "\n",
      "CH :  Ttest_indResult(statistic=-0.6782716584661505, pvalue=0.49770110247151234)\n",
      "CZ :  Ttest_indResult(statistic=-0.47654431369598554, pvalue=0.6337663626856563)\n",
      "DE :  Ttest_indResult(statistic=-0.18084358577434545, pvalue=0.8578926631223287)\n",
      "ES :  Ttest_indResult(statistic=2.494276516716002, pvalue=0.012687599930326627)\n",
      "NO :  Ttest_indResult(statistic=0.5437669865283744, pvalue=0.5866849635988214)\n",
      "SE :  Ttest_indResult(statistic=-2.089164843127998, pvalue=0.03683208699520371)\n",
      "----------------------------------------------------------------\n",
      "\n",
      "Tukey HSD Test:\n",
      "\n",
      "CH : \n",
      "\n",
      "Multiple Comparison of Means - Tukey HSD,FWER=0.05\n",
      "===========================================\n",
      "group1 group2 meandiff  lower  upper reject\n",
      "-------------------------------------------\n",
      "  6      7     0.0737  -0.1395 0.287 False \n",
      "-------------------------------------------\n",
      "\n",
      "\n",
      "\n",
      "CZ : \n",
      "\n",
      "Multiple Comparison of Means - Tukey HSD,FWER=0.05\n",
      "============================================\n",
      "group1 group2 meandiff  lower  upper  reject\n",
      "--------------------------------------------\n",
      "  6      7     0.0627  -0.1931 0.3185 False \n",
      "--------------------------------------------\n",
      "\n",
      "\n",
      "\n",
      "DE : \n",
      "\n",
      "Multiple Comparison of Means - Tukey HSD,FWER=0.05\n",
      "============================================\n",
      "group1 group2 meandiff  lower  upper  reject\n",
      "--------------------------------------------\n",
      "  6      7     0.1429  -1.4809 1.7666 False \n",
      "--------------------------------------------\n",
      "\n",
      "\n",
      "\n",
      "ES : \n",
      "\n",
      "Multiple Comparison of Means - Tukey HSD,FWER=0.05\n",
      "============================================\n",
      "group1 group2 meandiff lower   upper  reject\n",
      "--------------------------------------------\n",
      "  6      7    -0.2195  -0.392 -0.0469  True \n",
      "--------------------------------------------\n",
      "\n",
      "\n",
      "\n",
      "NO : \n",
      "\n",
      "Multiple Comparison of Means - Tukey HSD,FWER=0.05\n",
      "============================================\n",
      "group1 group2 meandiff  lower  upper  reject\n",
      "--------------------------------------------\n",
      "  6      7    -0.0507  -0.2335 0.1322 False \n",
      "--------------------------------------------\n",
      "\n",
      "\n",
      "\n",
      "SE : \n",
      "\n",
      "Multiple Comparison of Means - Tukey HSD,FWER=0.05\n",
      "===========================================\n",
      "group1 group2 meandiff lower  upper  reject\n",
      "-------------------------------------------\n",
      "  6      7     0.2128  0.0258 0.3998  True \n",
      "-------------------------------------------\n",
      "\n",
      "\n",
      "\n",
      "Krushkal-Wallace Test:\n",
      "\n",
      "CH : \n",
      "Ranks_2012_CH    767.342173\n",
      "Ranks_2014_CH    779.657827\n",
      "dtype: float64\n",
      "773.5\n",
      "KruskalResult(statistic=0.3016359964448019, pvalue=0.5828586111442048)\n",
      "\n",
      "\n",
      "\n",
      "CZ : \n",
      "Ranks_2012_CZ    645.702599\n",
      "Ranks_2014_CZ    663.297401\n",
      "dtype: float64\n",
      "654.5\n",
      "KruskalResult(statistic=0.7211591385301228, pvalue=0.39576395374563544)\n",
      "\n",
      "\n",
      "\n",
      "DE : \n",
      "Ranks_2012_DE    14.214286\n",
      "Ranks_2014_DE    14.785714\n",
      "dtype: float64\n",
      "14.5\n",
      "KruskalResult(statistic=0.03493591039585809, pvalue=0.8517300191250199)\n",
      "\n",
      "\n",
      "\n",
      "ES : \n",
      "Ranks_2012_ES    1252.824257\n",
      "Ranks_2014_ES    1172.175743\n",
      "dtype: float64\n",
      "1212.5\n",
      "KruskalResult(statistic=8.216087354735361, pvalue=0.0041520627675982)\n",
      "\n",
      "\n",
      "\n",
      "NO : \n",
      "Ranks_2012_NO    735.839726\n",
      "Ranks_2014_NO    725.160274\n",
      "dtype: float64\n",
      "730.5\n",
      "KruskalResult(statistic=0.244738742531337, pvalue=0.6208043004969865)\n",
      "\n",
      "\n",
      "\n",
      "SE : \n",
      "Ranks_2012_SE    881.579383\n",
      "Ranks_2014_SE    933.420617\n",
      "dtype: float64\n",
      "907.5\n",
      "KruskalResult(statistic=4.241254711044051, pvalue=0.03945299959307013)\n",
      "\n",
      "\n",
      "\n"
     ]
    }
   ],
   "source": [
    "# Import parametric statistics\n",
    "from scipy.stats import ttest_ind, shapiro\n",
    "# Import nonparametric statistics\n",
    "from scipy.stats import kruskal\n",
    "# Import test for normality\n",
    "from statsmodels.stats.multicomp import pairwise_tukeyhsd\n",
    "\n",
    "print('T-Tests:\\n')\n",
    "for cntry in unique_cntry:\n",
    "    print(cntry, ': ', stats.ttest_ind(ess['ppltrst'][ess['cntry']==cntry][ess['year']==6].dropna(), ess['ppltrst'][ess['cntry']==cntry][ess['year']==7].dropna()))\n",
    "    \n",
    "print('----------------------------------------------------------------\\n')    \n",
    "print('Tukey HSD Test:\\n')\n",
    "for cntry in unique_cntry:\n",
    "    print(cntry, ': \\n')\n",
    "    trust = np.asarray(ess['ppltrst'][ess['cntry']==cntry][ess['year']==6].dropna().tolist() + ess['ppltrst'][ess['cntry']==cntry][ess['year']==7].dropna().tolist())\n",
    "    years = np.repeat(np.array(unique_year), len(trust)/2)\n",
    "    tukey = pairwise_tukeyhsd(endog=trust,      # Data\n",
    "                          groups=years,   # Groups\n",
    "                          alpha=0.05)         # Significance level\n",
    "\n",
    "    print(tukey.summary())\n",
    "    print('\\n\\n')\n",
    "        \n",
    "print('Krushkal-Wallace Test:\\n')\n",
    "for cntry in unique_cntry:\n",
    "    print(cntry, ': ')\n",
    "    # Join all ratings together into a list, then ranking them.\n",
    "    ranks = stats.rankdata(ess['ppltrst'][ess['cntry']==cntry][ess['year']==6].dropna().tolist() + ess['ppltrst'][ess['cntry']==cntry][ess['year']==7].dropna().tolist())\n",
    "\n",
    "    # Add the new ranked variables to the data frame.\n",
    "    new_ess = pd.DataFrame()\n",
    "    new_ess['Ranks_2012_'+cntry] = ranks[0:int(len(ranks)/2)]\n",
    "    new_ess['Ranks_2014_'+cntry] = ranks[int(len(ranks)/2):int(len(ranks))]\n",
    "\n",
    "    # Average rank per group.\n",
    "    groups = ['Ranks_2012_'+cntry, 'Ranks_2014_'+cntry]\n",
    "    print(new_ess[groups].apply(np.mean))\n",
    "\n",
    "    # Overall average rank.\n",
    "    print(np.mean(ranks))\n",
    "\n",
    "    # Print the test statistic followed by the probability of getting this result\n",
    "    # if the groups were not different.\n",
    "    print(stats.kruskal(ess['ppltrst'][ess['cntry']==cntry][ess['year']==6].dropna(),ess['ppltrst'][ess['cntry']==cntry][ess['year']==7].dropna()))\n",
    "    print('\\n\\n')  "
   ]
  },
  {
   "cell_type": "markdown",
   "metadata": {},
   "source": [
    "Using t-tests, Tukey's Honest Significant Differences Test, and Krushkal-Wallace Test, we can see that only Spain and Sweden show a statistically significant change in ppltrst between 2012 and 2014."
   ]
  },
  {
   "cell_type": "markdown",
   "metadata": {},
   "source": [
    "## 2. Did people become happier from 2012 to 2014? Compute results for each country in the sample."
   ]
  },
  {
   "cell_type": "code",
   "execution_count": 79,
   "metadata": {},
   "outputs": [
    {
     "name": "stdout",
     "output_type": "stream",
     "text": [
      "Distributions of \"happy\":\n"
     ]
    },
    {
     "data": {
      "image/png": "[encoded data removed]",
      "text/plain": [
       "<Figure size 1440x504 with 12 Axes>"
      ]
     },
     "metadata": {
      "needs_background": "light"
     },
     "output_type": "display_data"
    }
   ],
   "source": [
    "print('Distributions of \"happy\":')\n",
    "plt.figure(figsize = (20, 7))\n",
    "i = 1\n",
    "for row in range(rows):\n",
    "    for col in range(cols):\n",
    "        plt.subplot(rows,cols,i)\n",
    "        plt.hist(ess['happy'][ess['cntry']==unique_cntry[col]][ess['year']==unique_year[row]].dropna())\n",
    "        plt.title('Year = ' + str(2000 + 2*(unique_year[row])) + ' | Country = ' + unique_cntry[col])\n",
    "        i = i+1\n",
    "        \n",
    "plt.show()"
   ]
  },
  {
   "cell_type": "code",
   "execution_count": 112,
   "metadata": {},
   "outputs": [
    {
     "name": "stdout",
     "output_type": "stream",
     "text": [
      "T-Tests:\n",
      "\n",
      "CH :  Ttest_indResult(statistic=-0.3883916732706544, pvalue=0.6977798552554684)\n",
      "CZ :  Ttest_indResult(statistic=-1.3033790688858846, pvalue=0.19267687243592707)\n",
      "DE :  Ttest_indResult(statistic=-0.7648529270389165, pvalue=0.451246041120838)\n",
      "ES :  Ttest_indResult(statistic=1.673984509948487, pvalue=0.09426276206929331)\n",
      "NO :  Ttest_indResult(statistic=4.26539164981969, pvalue=2.1241259786815807e-05)\n",
      "SE :  Ttest_indResult(statistic=-0.5748685401292095, pvalue=0.5654516534862527)\n",
      "----------------------------------------------------------------\n",
      "\n",
      "Tukey HSD Test:\n",
      "\n",
      "CH : \n",
      "\n",
      "Multiple Comparison of Means - Tukey HSD,FWER=0.05\n",
      "============================================\n",
      "group1 group2 meandiff  lower  upper  reject\n",
      "--------------------------------------------\n",
      "  6      7     0.0234  -0.1188 0.1655 False \n",
      "--------------------------------------------\n",
      "\n",
      "\n",
      "\n",
      "CZ : \n",
      "\n",
      "Multiple Comparison of Means - Tukey HSD,FWER=0.05\n",
      "============================================\n",
      "group1 group2 meandiff  lower  upper  reject\n",
      "--------------------------------------------\n",
      "  6      7     0.1625  -0.0547 0.3797 False \n",
      "--------------------------------------------\n",
      "\n",
      "\n",
      "\n",
      "DE : \n",
      "\n",
      "Multiple Comparison of Means - Tukey HSD,FWER=0.05\n",
      "============================================\n",
      "group1 group2 meandiff  lower  upper  reject\n",
      "--------------------------------------------\n",
      "  6      7     0.4286  -0.7232 1.5803 False \n",
      "--------------------------------------------\n",
      "\n",
      "\n",
      "\n",
      "ES : \n",
      "\n",
      "Multiple Comparison of Means - Tukey HSD,FWER=0.05\n",
      "===========================================\n",
      "group1 group2 meandiff lower  upper  reject\n",
      "-------------------------------------------\n",
      "  6      7    -0.1272  -0.278 0.0237 False \n",
      "-------------------------------------------\n",
      "\n",
      "\n",
      "\n",
      "NO : \n",
      "\n",
      "Multiple Comparison of Means - Tukey HSD,FWER=0.05\n",
      "=============================================\n",
      "group1 group2 meandiff  lower   upper  reject\n",
      "---------------------------------------------\n",
      "  6      7    -0.3398  -0.4947 -0.1848  True \n",
      "---------------------------------------------\n",
      "\n",
      "\n",
      "\n",
      "SE : \n",
      "\n",
      "Multiple Comparison of Means - Tukey HSD,FWER=0.05\n",
      "===========================================\n",
      "group1 group2 meandiff  lower  upper reject\n",
      "-------------------------------------------\n",
      "  6      7     0.0387  -0.0966 0.174 False \n",
      "-------------------------------------------\n",
      "\n",
      "\n",
      "\n",
      "Krushkal-Wallace Test:\n",
      "\n",
      "CH : \n",
      "Ranks_2012_CH    766.176623\n",
      "Ranks_2014_CH    774.823377\n",
      "dtype: float64\n",
      "770.5\n",
      "KruskalResult(statistic=0.1553248854077178, pvalue=0.6934977740521863)\n",
      "\n",
      "\n",
      "\n",
      "CZ : \n",
      "Ranks_2012_CZ    626.617188\n",
      "Ranks_2014_CZ    654.382812\n",
      "dtype: float64\n",
      "640.5\n",
      "KruskalResult(statistic=1.854115866194704, pvalue=0.17330545259186408)\n",
      "\n",
      "\n",
      "\n",
      "DE : \n",
      "Ranks_2012_DE    13.571429\n",
      "Ranks_2014_DE    15.428571\n",
      "dtype: float64\n",
      "14.5\n",
      "KruskalResult(statistic=0.39056749122656015, pvalue=0.532001255058662)\n",
      "\n",
      "\n",
      "\n",
      "ES : \n",
      "Ranks_2012_ES    1239.267547\n",
      "Ranks_2014_ES    1183.732453\n",
      "dtype: float64\n",
      "1211.5\n",
      "KruskalResult(statistic=3.9620118510103475, pvalue=0.046538051258145516)\n",
      "\n",
      "\n",
      "\n",
      "NO : \n",
      "Ranks_2012_NO    774.665062\n",
      "Ranks_2014_NO    680.334938\n",
      "dtype: float64\n",
      "727.5\n",
      "KruskalResult(statistic=19.516976798583492, pvalue=9.970957789671924e-06)\n",
      "\n",
      "\n",
      "\n",
      "SE : \n",
      "Ranks_2012_SE    902.129978\n",
      "Ranks_2014_SE    906.870022\n",
      "dtype: float64\n",
      "904.5\n",
      "KruskalResult(statistic=0.039421145398400935, pvalue=0.8426166545470679)\n",
      "\n",
      "\n",
      "\n"
     ]
    }
   ],
   "source": [
    "print('T-Tests:\\n')\n",
    "for cntry in unique_cntry:\n",
    "    print(cntry, ': ', stats.ttest_ind(ess['happy'][ess['cntry']==cntry][ess['year']==6].dropna(), ess['happy'][ess['cntry']==cntry][ess['year']==7].dropna()))\n",
    "    \n",
    "print('----------------------------------------------------------------\\n')    \n",
    "print('Tukey HSD Test:\\n')\n",
    "for cntry in unique_cntry:\n",
    "    print(cntry, ': \\n')\n",
    "    df = pd.DataFrame()\n",
    "    df['6'] = list(ess['happy'][ess['cntry']==cntry][ess['year']==6])\n",
    "    df['7'] = list(ess['happy'][ess['cntry']==cntry][ess['year']==7])\n",
    "    df = df.dropna()\n",
    "    df = df.reset_index(drop=True)\n",
    "    \n",
    "    happy = np.asarray(df['6'].tolist() + df['7'].tolist())\n",
    "    years = np.repeat(np.array(unique_year), len(happy)/2)\n",
    "    tukey = pairwise_tukeyhsd(endog=happy,      # Data\n",
    "                          groups=years,   # Groups\n",
    "                          alpha=0.05)         # Significance level\n",
    "\n",
    "    print(tukey.summary())\n",
    "    print('\\n\\n')\n",
    "        \n",
    "print('Krushkal-Wallace Test:\\n')\n",
    "for cntry in unique_cntry:\n",
    "    print(cntry, ': ')\n",
    "    # Join all ratings together into a list, then ranking them.\n",
    "    df = pd.DataFrame()\n",
    "    df['6'] = list(ess['happy'][ess['cntry']==cntry][ess['year']==6])\n",
    "    df['7'] = list(ess['happy'][ess['cntry']==cntry][ess['year']==7])\n",
    "    df = df.dropna()\n",
    "    df = df.reset_index(drop=True)\n",
    "    \n",
    "    ranks = stats.rankdata(df['6'].tolist() + df['7'].tolist())\n",
    "\n",
    "    # Add the new ranked variables to the data frame.\n",
    "    new_ess = pd.DataFrame()\n",
    "    new_ess['Ranks_2012_'+cntry] = ranks[0:int(len(ranks)/2)]\n",
    "    new_ess['Ranks_2014_'+cntry] = ranks[int(len(ranks)/2):int(len(ranks))]\n",
    "\n",
    "    # Average rank per group.\n",
    "    groups = ['Ranks_2012_'+cntry, 'Ranks_2014_'+cntry]\n",
    "    print(new_ess[groups].apply(np.mean))\n",
    "\n",
    "    # Overall average rank.\n",
    "    print(np.mean(ranks))\n",
    "\n",
    "    # Print the test statistic followed by the probability of getting this result\n",
    "    # if the groups were not different.\n",
    "    print(stats.kruskal(df['6'],df['7']))\n",
    "    print('\\n\\n')  "
   ]
  },
  {
   "cell_type": "markdown",
   "metadata": {},
   "source": [
    "According to the Krushkal-Wallace Test, the countries that had significantly different happiness levels between the two years were Norway and Spain."
   ]
  },
  {
   "cell_type": "markdown",
   "metadata": {},
   "source": [
    "## 3. Who reported watching more TV in 2012, men or women?"
   ]
  },
  {
   "cell_type": "code",
   "execution_count": 131,
   "metadata": {},
   "outputs": [
    {
     "name": "stdout",
     "output_type": "stream",
     "text": [
      "Distributions of \"tvtot\" in 2012:\n"
     ]
    },
    {
     "data": {
      "image/png": "[encoded data removed]",
      "text/plain": [
       "<Figure size 1440x504 with 2 Axes>"
      ]
     },
     "metadata": {
      "needs_background": "light"
     },
     "output_type": "display_data"
    }
   ],
   "source": [
    "unique_gndr = list(np.unique(ess['gndr'].dropna()))\n",
    "cols = len(unique_gndr)\n",
    "\n",
    "rows = 1\n",
    "\n",
    "print('Distributions of \"tvtot\" in 2012:')\n",
    "plt.figure(figsize = (20, 7))\n",
    "i = 1\n",
    "for col in range(cols):\n",
    "    plt.subplot(rows,cols,i)\n",
    "    plt.hist(ess['tvtot'][ess['gndr']==unique_gndr[col]][ess['year']==6].dropna())\n",
    "    plt.title('Gender = ' + ['Male' if unique_gndr[col]==1 else 'Female'][0])\n",
    "    i = i+1\n",
    "        \n",
    "plt.tight_layout()\n",
    "plt.show()"
   ]
  },
  {
   "cell_type": "code",
   "execution_count": 139,
   "metadata": {},
   "outputs": [
    {
     "name": "stdout",
     "output_type": "stream",
     "text": [
      "T-Tests:\n",
      "\n",
      "Ttest_indResult(statistic=-0.6899928109209502, pvalue=0.4902360402696986)\n",
      "----------------------------------------------------------------\n",
      "\n",
      "Tukey HSD Test:\n",
      "\n",
      "Multiple Comparison of Means - Tukey HSD,FWER=0.05\n",
      "===========================================\n",
      "group1 group2 meandiff lower  upper  reject\n",
      "-------------------------------------------\n",
      " 1.0    2.0    0.0379  -0.083 0.1588 False \n",
      "-------------------------------------------\n",
      "\n",
      "\n",
      "\n",
      "Krushkal-Wallace Test:\n",
      "\n",
      "Ranks_Male      2124.729761\n",
      "Ranks_Female    2150.270239\n",
      "dtype: float64\n",
      "2137.5\n",
      "KruskalResult(statistic=0.46750354277893014, pvalue=0.49413790298993576)\n",
      "\n",
      "\n",
      "\n"
     ]
    }
   ],
   "source": [
    "print('T-Tests:\\n')\n",
    "print(stats.ttest_ind(ess['tvtot'][ess['gndr']==1][ess['year']==6].dropna(), ess['tvtot'][ess['gndr']==2][ess['year']==6].dropna()))\n",
    "    \n",
    "print('----------------------------------------------------------------\\n')    \n",
    "print('Tukey HSD Test:\\n')\n",
    "df = pd.DataFrame()\n",
    "df['2'] = list(ess['tvtot'][ess['gndr']==2][ess['year']==6])\n",
    "df['1'] = list(ess['tvtot'][ess['gndr']==1][ess['year']==6])[:len(df['2'])]\n",
    "df = df.dropna()\n",
    "df = df.reset_index(drop=True)\n",
    "    \n",
    "tv = np.asarray(df['1'].tolist() + df['2'].tolist())\n",
    "genders = np.repeat(np.array(unique_gndr), len(tv)/2)\n",
    "tukey = pairwise_tukeyhsd(endog=tv,      # Data\n",
    "                      groups=genders,   # Groups\n",
    "                      alpha=0.05)         # Significance level\n",
    "\n",
    "print(tukey.summary())\n",
    "print('\\n\\n')\n",
    "        \n",
    "print('Krushkal-Wallace Test:\\n')\n",
    "# Join all ratings together into a list, then ranking them.\n",
    "df = pd.DataFrame()\n",
    "df['2'] = list(ess['tvtot'][ess['gndr']==2][ess['year']==6])\n",
    "df['1'] = list(ess['tvtot'][ess['gndr']==1][ess['year']==6])[:len(df['2'])]\n",
    "df = df.dropna()\n",
    "df = df.reset_index(drop=True)\n",
    "\n",
    "ranks = stats.rankdata(df['1'].tolist() + df['2'].tolist())\n",
    "\n",
    "# Add the new ranked variables to the data frame.\n",
    "new_ess = pd.DataFrame()\n",
    "new_ess['Ranks_Male'] = ranks[0:int(len(ranks)/2)]\n",
    "new_ess['Ranks_Female'] = ranks[int(len(ranks)/2):int(len(ranks))]\n",
    "\n",
    "# Average rank per group.\n",
    "groups = ['Ranks_Male', 'Ranks_Female']\n",
    "print(new_ess[groups].apply(np.mean))\n",
    "\n",
    "# Overall average rank.\n",
    "print(np.mean(ranks))\n",
    "\n",
    "# Print the test statistic followed by the probability of getting this result\n",
    "# if the groups were not different.\n",
    "print(stats.kruskal(df['1'],df['2']))\n",
    "print('\\n\\n')  "
   ]
  },
  {
   "cell_type": "markdown",
   "metadata": {},
   "source": [
    "There is no statistically significant difference between the TV watching of men vs. women in 2012."
   ]
  },
  {
   "cell_type": "markdown",
   "metadata": {},
   "source": [
    "## 4. Who was more likely to believe people were fair in 2012, people living with a partner or people living alone?"
   ]
  },
  {
   "cell_type": "code",
   "execution_count": 136,
   "metadata": {},
   "outputs": [
    {
     "name": "stdout",
     "output_type": "stream",
     "text": [
      "Distributions of \"pplfair\" in 2012:\n"
     ]
    },
    {
     "data": {
      "image/png": "[encoded data removed]",
      "text/plain": [
       "<Figure size 1440x504 with 2 Axes>"
      ]
     },
     "metadata": {
      "needs_background": "light"
     },
     "output_type": "display_data"
    }
   ],
   "source": [
    "unique_partner = list(np.unique(ess['partner'].dropna()))\n",
    "cols = len(unique_partner)\n",
    "\n",
    "rows = 1\n",
    "\n",
    "print('Distributions of \"pplfair\" in 2012:')\n",
    "plt.figure(figsize = (20, 7))\n",
    "i = 1\n",
    "for col in range(cols):\n",
    "    plt.subplot(rows,cols,i)\n",
    "    plt.hist(ess['pplfair'][ess['partner']==unique_partner[col]][ess['year']==6].dropna())\n",
    "    plt.title(['Lives with husband/wife/partner' if unique_partner[col]==1 else 'Does not live with partner'][0])\n",
    "    i = i+1\n",
    "        \n",
    "plt.tight_layout()\n",
    "plt.show()"
   ]
  },
  {
   "cell_type": "code",
   "execution_count": 141,
   "metadata": {},
   "outputs": [
    {
     "name": "stdout",
     "output_type": "stream",
     "text": [
      "T-Tests:\n",
      "\n",
      "Ttest_indResult(statistic=3.3201033970362084, pvalue=0.0009073952609883756)\n",
      "----------------------------------------------------------------\n",
      "\n",
      "Tukey HSD Test:\n",
      "\n",
      "Multiple Comparison of Means - Tukey HSD,FWER=0.05\n",
      "===========================================\n",
      "group1 group2 meandiff lower  upper  reject\n",
      "-------------------------------------------\n",
      " 1.0    2.0    0.2439  0.0921 0.3957  True \n",
      "-------------------------------------------\n",
      "\n",
      "\n",
      "\n",
      "Krushkal-Wallace Test:\n",
      "\n",
      "Ranks_Partner      1551.020325\n",
      "Ranks_NoPartner    1647.979675\n",
      "dtype: float64\n",
      "1599.5\n",
      "KruskalResult(statistic=9.033279123389844, pvalue=0.0026510850131558823)\n",
      "\n",
      "\n",
      "\n"
     ]
    }
   ],
   "source": [
    "print('T-Tests:\\n')\n",
    "print(stats.ttest_ind(ess['pplfair'][ess['partner']==1][ess['year']==6].dropna(), ess['pplfair'][ess['partner']==2][ess['year']==6].dropna()))\n",
    "    \n",
    "print('----------------------------------------------------------------\\n')    \n",
    "print('Tukey HSD Test:\\n')\n",
    "df = pd.DataFrame()\n",
    "df['2'] = list(ess['pplfair'][ess['partner']==2][ess['year']==6])\n",
    "df['1'] = list(ess['pplfair'][ess['partner']==1][ess['year']==6])[:len(df['2'])]\n",
    "df = df.dropna()\n",
    "df = df.reset_index(drop=True)\n",
    "    \n",
    "fair = np.asarray(df['1'].tolist() + df['2'].tolist())\n",
    "partners = np.repeat(np.array(unique_partner), len(fair)/2)\n",
    "tukey = pairwise_tukeyhsd(endog=fair,      # Data\n",
    "                      groups=partners,   # Groups\n",
    "                      alpha=0.05)         # Significance level\n",
    "\n",
    "print(tukey.summary())\n",
    "print('\\n\\n')\n",
    "        \n",
    "print('Krushkal-Wallace Test:\\n')\n",
    "# Join all ratings together into a list, then ranking them.\n",
    "df = pd.DataFrame()\n",
    "df['2'] = list(ess['pplfair'][ess['partner']==2][ess['year']==6])\n",
    "df['1'] = list(ess['pplfair'][ess['partner']==1][ess['year']==6])[:len(df['2'])]\n",
    "df = df.dropna()\n",
    "df = df.reset_index(drop=True)\n",
    "\n",
    "ranks = stats.rankdata(df['1'].tolist() + df['2'].tolist())\n",
    "\n",
    "# Add the new ranked variables to the data frame.\n",
    "new_ess = pd.DataFrame()\n",
    "new_ess['Ranks_Partner'] = ranks[0:int(len(ranks)/2)]\n",
    "new_ess['Ranks_NoPartner'] = ranks[int(len(ranks)/2):int(len(ranks))]\n",
    "\n",
    "# Average rank per group.\n",
    "groups = ['Ranks_Partner', 'Ranks_NoPartner']\n",
    "print(new_ess[groups].apply(np.mean))\n",
    "\n",
    "# Overall average rank.\n",
    "print(np.mean(ranks))\n",
    "\n",
    "# Print the test statistic followed by the probability of getting this result\n",
    "# if the groups were not different.\n",
    "print(stats.kruskal(df['1'],df['2']))\n",
    "print('\\n\\n')  "
   ]
  },
  {
   "cell_type": "markdown",
   "metadata": {},
   "source": [
    "According to all three tests, there is a statistically significant difference between the groups' views on peoples' fairness. "
   ]
  },
  {
   "cell_type": "code",
   "execution_count": 144,
   "metadata": {},
   "outputs": [
    {
     "name": "stdout",
     "output_type": "stream",
     "text": [
      "Median Fairness Levels Assumbed by People Living with a Partner:  7.0\n",
      "Median Fairness Levels Assumbed by People Not Living with a Partner:  6.0\n"
     ]
    }
   ],
   "source": [
    "print('Median Fairness Levels Assumbed by People Living with a Partner: ', np.median(ess['pplfair'][ess['partner']==1][ess['year']==6].dropna()))\n",
    "print('Median Fairness Levels Assumbed by People Not Living with a Partner: ', np.median(ess['pplfair'][ess['partner']==2][ess['year']==6].dropna()))"
   ]
  },
  {
   "cell_type": "markdown",
   "metadata": {},
   "source": [
    "Therefore, people living alone are less likely to believe in the fairness of people than those living with a partner."
   ]
  },
  {
   "cell_type": "markdown",
   "metadata": {},
   "source": [
    "## 5. Pick three or four of the countries in the sample and compare how often people met socially in 2014. Are there differences, and if so, which countries stand out?"
   ]
  },
  {
   "cell_type": "code",
   "execution_count": 148,
   "metadata": {},
   "outputs": [
    {
     "name": "stdout",
     "output_type": "stream",
     "text": [
      "Distributions of \"sclmeet\" in 2014:\n"
     ]
    },
    {
     "data": {
      "image/png": "[encoded data removed]",
      "text/plain": [
       "<Figure size 1440x504 with 4 Axes>"
      ]
     },
     "metadata": {
      "needs_background": "light"
     },
     "output_type": "display_data"
    }
   ],
   "source": [
    "countries = ['CH', 'CZ', 'DE', 'ES']\n",
    "cols = len(countries)\n",
    "rows = 1\n",
    "\n",
    "print('Distributions of \"sclmeet\" in 2014:')\n",
    "plt.figure(figsize = (20, 7))\n",
    "for i in range(cols):\n",
    "    plt.subplot(rows,cols,i+1)\n",
    "    plt.hist(ess['sclmeet'][ess['cntry']==countries[i]][ess['year']==7].dropna())\n",
    "    plt.title('Country = ' + countries[i])\n",
    "        \n",
    "plt.tight_layout()\n",
    "plt.show()"
   ]
  },
  {
   "cell_type": "code",
   "execution_count": 156,
   "metadata": {},
   "outputs": [
    {
     "name": "stdout",
     "output_type": "stream",
     "text": [
      "T-Tests:\n",
      "\n",
      "CH vs. CZ: \n",
      "Ttest_indResult(statistic=9.675850699914886, pvalue=1.7204743885392493e-21)\n",
      "CH vs. DE: \n",
      "Ttest_indResult(statistic=2.0861293215128325, pvalue=0.037289604714147245)\n",
      "CH vs. ES: \n",
      "Ttest_indResult(statistic=-1.5343317353073618, pvalue=0.12510774525042745)\n",
      "CZ vs. DE: \n",
      "Ttest_indResult(statistic=0.0433661445611368, pvalue=0.9654226437207307)\n",
      "CZ vs. ES: \n",
      "Ttest_indResult(statistic=-11.400026538179093, pvalue=3.7676844407353374e-29)\n",
      "DE vs. ES: \n",
      "Ttest_indResult(statistic=-2.115791799094089, pvalue=0.03456418756613026)\n",
      "\n",
      "----------------------------------------------------------------\n",
      "\n",
      "\n",
      "\n",
      "Krushkal-Wallace Test:\n",
      "\n",
      "Ranks_CH    560.493884\n",
      "Ranks_CZ    748.506116\n",
      "dtype: float64\n",
      "654.5\n",
      "CH vs. CZ: \n",
      "KruskalResult(statistic=85.08308678244794, pvalue=2.860872381354314e-20)\n",
      "\n",
      "\n",
      "\n",
      "Ranks_CH     9.607143\n",
      "Ranks_DE    19.392857\n",
      "dtype: float64\n",
      "14.5\n",
      "CH vs. DE: \n",
      "KruskalResult(statistic=10.67768647281923, pvalue=0.0010843559298230909)\n",
      "\n",
      "\n",
      "\n",
      "Ranks_CH    802.542857\n",
      "Ranks_ES    738.457143\n",
      "dtype: float64\n",
      "770.5\n",
      "CH vs. ES: \n",
      "KruskalResult(statistic=8.506075074332959, pvalue=0.003539627207015338)\n",
      "\n",
      "\n",
      "\n",
      "Ranks_CZ    16.214286\n",
      "Ranks_DE    12.785714\n",
      "dtype: float64\n",
      "14.5\n",
      "CZ vs. DE: \n",
      "KruskalResult(statistic=1.395111011437537, pvalue=0.23754386487626547)\n",
      "\n",
      "\n",
      "\n",
      "Ranks_CZ    769.705207\n",
      "Ranks_ES    537.294793\n",
      "dtype: float64\n",
      "653.5\n",
      "CZ vs. ES: \n",
      "KruskalResult(statistic=128.9812581316441, pvalue=6.846178257763811e-30)\n",
      "\n",
      "\n",
      "\n",
      "Ranks_DE    18.428571\n",
      "Ranks_ES    10.571429\n",
      "dtype: float64\n",
      "14.5\n",
      "DE vs. ES: \n",
      "KruskalResult(statistic=6.7075924937379305, pvalue=0.009600325124570288)\n",
      "\n",
      "\n",
      "\n"
     ]
    }
   ],
   "source": [
    "print('T-Tests:\\n')\n",
    "for i in range(len(countries)):\n",
    "    for j in range(i, len(countries)):\n",
    "        if i != j:\n",
    "            print(countries[i] + ' vs. ' + countries[j] + ': ')\n",
    "            print(stats.ttest_ind(ess['sclmeet'][ess['cntry']==countries[i]][ess['year']==7].dropna(), ess['sclmeet'][ess['cntry']==countries[j]][ess['year']==7].dropna()))\n",
    "\n",
    "print('\\n----------------------------------------------------------------\\n')    \n",
    "print('\\n')\n",
    "        \n",
    "print('Krushkal-Wallace Test:\\n')\n",
    "for i in range(len(countries)):\n",
    "    for j in range(i, len(countries)):\n",
    "        if i != j:\n",
    "            # Join all ratings together into a list, then ranking them.\n",
    "            if len(list(ess['sclmeet'][ess['cntry']==countries[i]][ess['year']==7])) < len(list(ess['sclmeet'][ess['cntry']==countries[j]][ess['year']==7])):\n",
    "                length = len(list(ess['sclmeet'][ess['cntry']==countries[i]][ess['year']==7]))\n",
    "            else:\n",
    "                length = len(list(ess['sclmeet'][ess['cntry']==countries[j]][ess['year']==7]))\n",
    "            \n",
    "            df = pd.DataFrame()\n",
    "            df['1'] = list(ess['sclmeet'][ess['cntry']==countries[j]][ess['year']==7])[:length]\n",
    "            df['2'] = list(ess['sclmeet'][ess['cntry']==countries[i]][ess['year']==7])[:length]            \n",
    "            df = df.dropna()\n",
    "            df = df.reset_index(drop=True)\n",
    "\n",
    "            ranks = stats.rankdata(df['1'].tolist() + df['2'].tolist())\n",
    "\n",
    "            # Add the new ranked variables to the data frame.\n",
    "            new_ess = pd.DataFrame()\n",
    "            new_ess['Ranks_'+countries[i]] = ranks[0:int(len(ranks)/2)]\n",
    "            new_ess['Ranks_'+countries[j]] = ranks[int(len(ranks)/2):int(len(ranks))]\n",
    "\n",
    "            # Average rank per group.\n",
    "            groups = ['Ranks_'+countries[i], 'Ranks_'+countries[j]]\n",
    "            print(new_ess[groups].apply(np.mean))\n",
    "\n",
    "            # Overall average rank.\n",
    "            print(np.mean(ranks))\n",
    "\n",
    "            # Print the test statistic followed by the probability of getting this result\n",
    "            # if the groups were not different.\n",
    "            print(countries[i] + ' vs. ' + countries[j] + ': ')\n",
    "            print(stats.kruskal(df['1'],df['2']))\n",
    "            print('\\n\\n')  "
   ]
  },
  {
   "cell_type": "markdown",
   "metadata": {},
   "source": [
    "The results of the above tests can allow us to conclude that:\n",
    " - China is significantly different from the Czech Republic, Denmark, and Spain.\n",
    " - The Czech Republic is significantly different from China and Spain, but not from Denmark. \n",
    " - Spain is significantly different from the Czech Republic, Denmark, and China.\n",
    " - Denmark is significantly different from Spain and China, but not from the Czech Republic."
   ]
  },
  {
   "cell_type": "code",
   "execution_count": 160,
   "metadata": {},
   "outputs": [
    {
     "name": "stdout",
     "output_type": "stream",
     "text": [
      "Median Social Meetings by People in China: 6.0\n",
      "Median Social Meetings by People in Czech Republic: 4.0\n",
      "Median Social Meetings by People in Denmark: 4.0\n",
      "Median Social Meetings by People in Spain: 6.0\n"
     ]
    }
   ],
   "source": [
    "cntry_string = ['China', 'Czech Republic', 'Denmark', 'Spain']\n",
    "for i in range(len(countries)):\n",
    "    print('Median Social Meetings by People in ' + cntry_string[i] + ': ' + str(np.median(ess['sclmeet'][ess['cntry']==countries[i]][ess['year']==7].dropna())))\n"
   ]
  },
  {
   "cell_type": "markdown",
   "metadata": {},
   "source": [
    "Overall, China and Spain are both standout countries, in that they have more social meetings compared to the other countries in this set."
   ]
  },
  {
   "cell_type": "markdown",
   "metadata": {},
   "source": [
    "## 6. Pick three or four of the countries in the sample and compare how often people took part in social activities, relative to others their age, in 2014. Are there differences, and if so, which countries stand out?"
   ]
  },
  {
   "cell_type": "code",
   "execution_count": 165,
   "metadata": {},
   "outputs": [],
   "source": [
    "unique_age = np.unique(ess['agea'].dropna())"
   ]
  },
  {
   "cell_type": "code",
   "execution_count": 167,
   "metadata": {},
   "outputs": [
    {
     "name": "stdout",
     "output_type": "stream",
     "text": [
      "Distributions of \"sclact\" in 2014, Separated by Age:\n"
     ]
    },
    {
     "data": {
      "text/plain": [
       "<Figure size 1440x504 with 0 Axes>"
      ]
     },
     "metadata": {},
     "output_type": "display_data"
    },
    {
     "data": {
      "image/png": "[encoded data removed]",
      "text/plain": [
       "<Figure size 1080x504 with 1 Axes>"
      ]
     },
     "metadata": {
      "needs_background": "light"
     },
     "output_type": "display_data"
    },
    {
     "data": {
      "text/plain": [
       "<Figure size 1440x504 with 0 Axes>"
      ]
     },
     "metadata": {},
     "output_type": "display_data"
    },
    {
     "data": {
      "image/png": "[encoded data removed]",
      "text/plain": [
       "<Figure size 1080x504 with 1 Axes>"
      ]
     },
     "metadata": {
      "needs_background": "light"
     },
     "output_type": "display_data"
    },
    {
     "data": {
      "text/plain": [
       "<Figure size 1440x504 with 0 Axes>"
      ]
     },
     "metadata": {},
     "output_type": "display_data"
    },
    {
     "data": {
      "image/png": "[encoded data removed]",
      "text/plain": [
       "<Figure size 1080x504 with 1 Axes>"
      ]
     },
     "metadata": {
      "needs_background": "light"
     },
     "output_type": "display_data"
    },
    {
     "data": {
      "text/plain": [
       "<Figure size 1440x504 with 0 Axes>"
      ]
     },
     "metadata": {},
     "output_type": "display_data"
    },
    {
     "data": {
      "image/png": "[encoded data removed]",
      "text/plain": [
       "<Figure size 1080x504 with 1 Axes>"
      ]
     },
     "metadata": {
      "needs_background": "light"
     },
     "output_type": "display_data"
    }
   ],
   "source": [
    "countries = ['DE', 'ES', 'NO', 'SE']\n",
    "\n",
    "print('Distributions of \"sclact\" in 2014, Separated by Age:')\n",
    "\n",
    "for cntry in countries:\n",
    "    plt.figure(figsize = (20, 7))\n",
    "    #Boxplot Distributions of Continuous Variables by Category\n",
    "    plt.figure(figsize=(15, 7))\n",
    "    sns.boxplot(x='agea', y='sclact', data=ess[ess['year']==7][ess['cntry']==cntry], palette='Reds', order = unique_age)\n",
    "    plt.xticks(rotation=90)\n",
    "    plt.title('Boxplots of \"sclact\" for ' + cntry + ' (Sorted by Age)')\n",
    "    plt.show()"
   ]
  },
  {
   "cell_type": "code",
   "execution_count": 168,
   "metadata": {},
   "outputs": [
    {
     "name": "stdout",
     "output_type": "stream",
     "text": [
      "Distributions of \"sclact\" in 2014:\n"
     ]
    },
    {
     "data": {
      "image/png": "[encoded data removed]",
      "text/plain": [
       "<Figure size 1440x504 with 4 Axes>"
      ]
     },
     "metadata": {
      "needs_background": "light"
     },
     "output_type": "display_data"
    }
   ],
   "source": [
    "cols = len(countries)\n",
    "rows = 1\n",
    "\n",
    "print('Distributions of \"sclact\" in 2014:')\n",
    "plt.figure(figsize = (20, 7))\n",
    "for i in range(cols):\n",
    "    plt.subplot(rows,cols,i+1)\n",
    "    plt.hist(ess['sclact'][ess['cntry']==countries[i]][ess['year']==7].dropna())\n",
    "    plt.title('Country = ' + countries[i])\n",
    "        \n",
    "plt.tight_layout()\n",
    "plt.show()"
   ]
  },
  {
   "cell_type": "code",
   "execution_count": 169,
   "metadata": {},
   "outputs": [
    {
     "name": "stdout",
     "output_type": "stream",
     "text": [
      "T-Tests:\n",
      "\n",
      "DE vs. ES: \n",
      "Ttest_indResult(statistic=0.3809408460233457, pvalue=0.7033147402370797)\n",
      "DE vs. NO: \n",
      "Ttest_indResult(statistic=-0.6482404208916689, pvalue=0.517029737677969)\n",
      "DE vs. SE: \n",
      "Ttest_indResult(statistic=-0.7133813086968702, pvalue=0.47579154243954325)\n",
      "ES vs. NO: \n",
      "Ttest_indResult(statistic=-5.671149129663532, pvalue=1.6345881270312057e-08)\n",
      "ES vs. SE: \n",
      "Ttest_indResult(statistic=-6.500257345866597, pvalue=1.000080729987386e-10)\n",
      "NO vs. SE: \n",
      "Ttest_indResult(statistic=-0.4823216270234106, pvalue=0.6296421272017451)\n",
      "\n",
      "----------------------------------------------------------------\n",
      "\n",
      "\n",
      "\n",
      "Krushkal-Wallace Test:\n",
      "\n",
      "Ranks_DE    13.153846\n",
      "Ranks_ES    13.846154\n",
      "dtype: float64\n",
      "13.5\n",
      "DE vs. ES: \n",
      "KruskalResult(statistic=0.06386602327563713, pvalue=0.8004866942401931)\n",
      "\n",
      "\n",
      "\n",
      "Ranks_DE    14.857143\n",
      "Ranks_NO    14.142857\n",
      "dtype: float64\n",
      "14.5\n",
      "DE vs. NO: \n",
      "KruskalResult(statistic=0.06892678443785066, pvalue=0.7929058368244437)\n",
      "\n",
      "\n",
      "\n",
      "Ranks_DE    14.178571\n",
      "Ranks_SE    14.821429\n",
      "dtype: float64\n",
      "14.5\n",
      "DE vs. SE: \n",
      "KruskalResult(statistic=0.047771952817822275, pvalue=0.8269866141143204)\n",
      "\n",
      "\n",
      "\n",
      "Ranks_ES    763.918994\n",
      "Ranks_NO    669.081006\n",
      "dtype: float64\n",
      "716.5\n",
      "ES vs. NO: \n",
      "KruskalResult(statistic=21.667147994406402, pvalue=3.2429788295038384e-06)\n",
      "\n",
      "\n",
      "\n",
      "Ranks_ES    955.847678\n",
      "Ranks_SE    811.152322\n",
      "dtype: float64\n",
      "883.5\n",
      "ES vs. SE: \n",
      "KruskalResult(statistic=40.455194175085076, pvalue=2.0117691948485492e-10)\n",
      "\n",
      "\n",
      "\n",
      "Ranks_NO    733.224897\n",
      "Ranks_SE    721.775103\n",
      "dtype: float64\n",
      "727.5\n",
      "NO vs. SE: \n",
      "KruskalResult(statistic=0.31709656775857387, pvalue=0.5733577481184283)\n",
      "\n",
      "\n",
      "\n"
     ]
    }
   ],
   "source": [
    "print('T-Tests:\\n')\n",
    "for i in range(len(countries)):\n",
    "    for j in range(i, len(countries)):\n",
    "        if i != j:\n",
    "            print(countries[i] + ' vs. ' + countries[j] + ': ')\n",
    "            print(stats.ttest_ind(ess['sclact'][ess['cntry']==countries[i]][ess['year']==7].dropna(), ess['sclact'][ess['cntry']==countries[j]][ess['year']==7].dropna()))\n",
    "\n",
    "print('\\n----------------------------------------------------------------\\n')    \n",
    "print('\\n')\n",
    "        \n",
    "print('Krushkal-Wallace Test:\\n')\n",
    "for i in range(len(countries)):\n",
    "    for j in range(i, len(countries)):\n",
    "        if i != j:\n",
    "            # Join all ratings together into a list, then ranking them.\n",
    "            if len(list(ess['sclact'][ess['cntry']==countries[i]][ess['year']==7])) < len(list(ess['sclact'][ess['cntry']==countries[j]][ess['year']==7])):\n",
    "                length = len(list(ess['sclact'][ess['cntry']==countries[i]][ess['year']==7]))\n",
    "            else:\n",
    "                length = len(list(ess['sclact'][ess['cntry']==countries[j]][ess['year']==7]))\n",
    "            \n",
    "            df = pd.DataFrame()\n",
    "            df['1'] = list(ess['sclact'][ess['cntry']==countries[j]][ess['year']==7])[:length]\n",
    "            df['2'] = list(ess['sclact'][ess['cntry']==countries[i]][ess['year']==7])[:length]            \n",
    "            df = df.dropna()\n",
    "            df = df.reset_index(drop=True)\n",
    "\n",
    "            ranks = stats.rankdata(df['1'].tolist() + df['2'].tolist())\n",
    "\n",
    "            # Add the new ranked variables to the data frame.\n",
    "            new_ess = pd.DataFrame()\n",
    "            new_ess['Ranks_'+countries[i]] = ranks[0:int(len(ranks)/2)]\n",
    "            new_ess['Ranks_'+countries[j]] = ranks[int(len(ranks)/2):int(len(ranks))]\n",
    "\n",
    "            # Average rank per group.\n",
    "            groups = ['Ranks_'+countries[i], 'Ranks_'+countries[j]]\n",
    "            print(new_ess[groups].apply(np.mean))\n",
    "\n",
    "            # Overall average rank.\n",
    "            print(np.mean(ranks))\n",
    "\n",
    "            # Print the test statistic followed by the probability of getting this result\n",
    "            # if the groups were not different.\n",
    "            print(countries[i] + ' vs. ' + countries[j] + ': ')\n",
    "            print(stats.kruskal(df['1'],df['2']))\n",
    "            print('\\n\\n')  "
   ]
  },
  {
   "cell_type": "markdown",
   "metadata": {},
   "source": [
    "Each of these countries have similar levels of engagement with social activities compared with each other, except for Spain vs. Norway and Spain vs. Sweden. Therefore, Spain is the stand-out country when it comes to social activities."
   ]
  },
  {
   "cell_type": "code",
   "execution_count": 172,
   "metadata": {},
   "outputs": [
    {
     "name": "stdout",
     "output_type": "stream",
     "text": [
      "Mean Social Activities by People in Denmark: 2.7142857142857144\n",
      "Mean Social Activities by People in Spain: 2.6168776371308016\n",
      "Mean Social Activities by People in Norway: 2.859097127222982\n",
      "Mean Social Activities by People in Sweden: 2.879424778761062\n"
     ]
    }
   ],
   "source": [
    "cntry_string = ['Denmark', 'Spain', 'Norway', 'Sweden']\n",
    "for i in range(len(countries)):\n",
    "    print('Mean Social Activities by People in ' + cntry_string[i] + ': ' + str(np.mean(ess['sclact'][ess['cntry']==countries[i]][ess['year']==7].dropna())))\n"
   ]
  },
  {
   "cell_type": "markdown",
   "metadata": {},
   "source": [
    "Spain has the lowest mean levels of social activities."
   ]
  },
  {
   "cell_type": "code",
   "execution_count": null,
   "metadata": {},
   "outputs": [],
   "source": []
  }
 ],
 "metadata": {
  "kernelspec": {
   "display_name": "Python 3",
   "language": "python",
   "name": "python3"
  },
  "language_info": {
   "codemirror_mode": {
    "name": "ipython",
    "version": 3
   },
   "file_extension": ".py",
   "mimetype": "text/x-python",
   "name": "python",
   "nbconvert_exporter": "python",
   "pygments_lexer": "ipython3",
   "version": "3.7.3"
  }
 },
 "nbformat": 4,
 "nbformat_minor": 2
}
