{
 "cells": [
  {
   "cell_type": "markdown",
   "metadata": {},
   "source": [
    "# Making Predictions - House Price Model\n",
    "In this exercise, we'll work with the housing price data from the previous checkpoint. "
   ]
  },
  {
   "cell_type": "markdown",
   "metadata": {},
   "source": [
    "## Load the dataset from Thinkful's database"
   ]
  },
  {
   "cell_type": "code",
   "execution_count": 9,
   "metadata": {},
   "outputs": [],
   "source": [
    "#Import libraries\n",
    "import matplotlib.pyplot as plt\n",
    "import numpy as np\n",
    "import pandas as pd\n",
    "from sklearn.linear_model import LinearRegression\n",
    "from sklearn.model_selection import train_test_split\n",
    "from sklearn.metrics import mean_absolute_error\n",
    "import statsmodels.api as sm\n",
    "from statsmodels.tools.eval_measures import mse, rmse\n",
    "from sqlalchemy import create_engine\n",
    "\n",
    "# Display preferences.\n",
    "%matplotlib inline\n",
    "pd.options.display.float_format = '{:.3f}'.format\n",
    "\n",
    "import warnings\n",
    "warnings.filterwarnings(action=\"ignore\")"
   ]
  },
  {
   "cell_type": "code",
   "execution_count": 13,
   "metadata": {},
   "outputs": [],
   "source": [
    "postgres_user = 'dsbc_student'\n",
    "postgres_pw = '7*.8G9QH21'\n",
    "postgres_host = '142.93.121.174'\n",
    "postgres_port = '5432'\n",
    "postgres_db = 'houseprices'\n",
    "\n",
    "# use the credentials to start a connection\n",
    "engine = create_engine('postgresql://{}:{}@{}:{}/{}'.format(\n",
    "    postgres_user, postgres_pw, postgres_host, postgres_port, postgres_db))\n",
    "\n",
    "# Use the connection to extract SQL data\n",
    "house_price = pd.read_sql_query('SELECT * FROM houseprices', con=engine)\n",
    "\n",
    "#Close the connection after query is complete\n",
    "engine.dispose()"
   ]
  },
  {
   "cell_type": "markdown",
   "metadata": {},
   "source": [
    "## Clean and transform the data"
   ]
  },
  {
   "cell_type": "code",
   "execution_count": 14,
   "metadata": {},
   "outputs": [
    {
     "data": {
      "text/html": [
       "<div>\n",
       "<style scoped>\n",
       "    .dataframe tbody tr th:only-of-type {\n",
       "        vertical-align: middle;\n",
       "    }\n",
       "\n",
       "    .dataframe tbody tr th {\n",
       "        vertical-align: top;\n",
       "    }\n",
       "\n",
       "    .dataframe thead th {\n",
       "        text-align: right;\n",
       "    }\n",
       "</style>\n",
       "<table border=\"1\" class=\"dataframe\">\n",
       "  <thead>\n",
       "    <tr style=\"text-align: right;\">\n",
       "      <th></th>\n",
       "      <th>saleprice</th>\n",
       "      <th>grlivarea</th>\n",
       "      <th>garagearea</th>\n",
       "      <th>totalbsmtsf</th>\n",
       "      <th>overallqual</th>\n",
       "      <th>yearremodadd</th>\n",
       "    </tr>\n",
       "  </thead>\n",
       "  <tbody>\n",
       "    <tr>\n",
       "      <th>0</th>\n",
       "      <td>208500</td>\n",
       "      <td>1710</td>\n",
       "      <td>548</td>\n",
       "      <td>856</td>\n",
       "      <td>7</td>\n",
       "      <td>2003</td>\n",
       "    </tr>\n",
       "    <tr>\n",
       "      <th>1</th>\n",
       "      <td>181500</td>\n",
       "      <td>1262</td>\n",
       "      <td>460</td>\n",
       "      <td>1262</td>\n",
       "      <td>6</td>\n",
       "      <td>1976</td>\n",
       "    </tr>\n",
       "    <tr>\n",
       "      <th>2</th>\n",
       "      <td>223500</td>\n",
       "      <td>1786</td>\n",
       "      <td>608</td>\n",
       "      <td>920</td>\n",
       "      <td>7</td>\n",
       "      <td>2002</td>\n",
       "    </tr>\n",
       "    <tr>\n",
       "      <th>3</th>\n",
       "      <td>140000</td>\n",
       "      <td>1717</td>\n",
       "      <td>642</td>\n",
       "      <td>756</td>\n",
       "      <td>7</td>\n",
       "      <td>1970</td>\n",
       "    </tr>\n",
       "    <tr>\n",
       "      <th>4</th>\n",
       "      <td>250000</td>\n",
       "      <td>2198</td>\n",
       "      <td>836</td>\n",
       "      <td>1145</td>\n",
       "      <td>8</td>\n",
       "      <td>2000</td>\n",
       "    </tr>\n",
       "    <tr>\n",
       "      <th>5</th>\n",
       "      <td>143000</td>\n",
       "      <td>1362</td>\n",
       "      <td>480</td>\n",
       "      <td>796</td>\n",
       "      <td>5</td>\n",
       "      <td>1995</td>\n",
       "    </tr>\n",
       "    <tr>\n",
       "      <th>6</th>\n",
       "      <td>307000</td>\n",
       "      <td>1694</td>\n",
       "      <td>636</td>\n",
       "      <td>1686</td>\n",
       "      <td>8</td>\n",
       "      <td>2005</td>\n",
       "    </tr>\n",
       "    <tr>\n",
       "      <th>7</th>\n",
       "      <td>200000</td>\n",
       "      <td>2090</td>\n",
       "      <td>484</td>\n",
       "      <td>1107</td>\n",
       "      <td>7</td>\n",
       "      <td>1973</td>\n",
       "    </tr>\n",
       "    <tr>\n",
       "      <th>8</th>\n",
       "      <td>129900</td>\n",
       "      <td>1774</td>\n",
       "      <td>468</td>\n",
       "      <td>952</td>\n",
       "      <td>7</td>\n",
       "      <td>1950</td>\n",
       "    </tr>\n",
       "    <tr>\n",
       "      <th>9</th>\n",
       "      <td>118000</td>\n",
       "      <td>1077</td>\n",
       "      <td>205</td>\n",
       "      <td>991</td>\n",
       "      <td>5</td>\n",
       "      <td>1950</td>\n",
       "    </tr>\n",
       "  </tbody>\n",
       "</table>\n",
       "</div>"
      ],
      "text/plain": [
       "   saleprice  grlivarea  garagearea  totalbsmtsf  overallqual  yearremodadd\n",
       "0     208500       1710         548          856            7          2003\n",
       "1     181500       1262         460         1262            6          1976\n",
       "2     223500       1786         608          920            7          2002\n",
       "3     140000       1717         642          756            7          1970\n",
       "4     250000       2198         836         1145            8          2000\n",
       "5     143000       1362         480          796            5          1995\n",
       "6     307000       1694         636         1686            8          2005\n",
       "7     200000       2090         484         1107            7          1973\n",
       "8     129900       1774         468          952            7          1950\n",
       "9     118000       1077         205          991            5          1950"
      ]
     },
     "execution_count": 14,
     "metadata": {},
     "output_type": "execute_result"
    }
   ],
   "source": [
    "#Drop features\n",
    "drop_list = list((house_price.isnull().sum()/house_price.isnull().count()).sort_values(ascending=False).head(19).index)\n",
    "drop_list.append('id')\n",
    "\n",
    "house_price = house_price.drop(drop_list, axis=1)\n",
    "\n",
    "#List of features that are string categoricals\n",
    "str_cat_cols = list(house_price.describe(include=['O']).columns)\n",
    "\n",
    "#Uniques within each variable\n",
    "uniques = pd.DataFrame()\n",
    "uni_col = []\n",
    "num_uni = []\n",
    "avgdiff_uni = []\n",
    "\n",
    "for col in list(house_price.columns):\n",
    "    uni_col.append(list(np.unique(house_price[col])))\n",
    "    num_uni.append(len(np.unique(house_price[col])))\n",
    "    try:\n",
    "        avgdiff_uni.append(np.mean(np.diff(np.unique(house_price[col]))))\n",
    "    except: \n",
    "        avgdiff_uni.append('N/A')\n",
    "    \n",
    "uniques['Category'] = list(house_price.columns)\n",
    "uniques['Unique Values'] = uni_col\n",
    "uniques['Num Uniques'] = num_uni\n",
    "uniques['Avg Diff Among Uniques'] = avgdiff_uni\n",
    "\n",
    "\n",
    "#List of features that are numerical categoricals\n",
    "#If a numerical variable is categorical, its unique values will tend to be close to each other and there shouldn't\n",
    "#be too many unique values \n",
    "num_cat_cols = []\n",
    "for col in list(house_price.columns):\n",
    "    if col not in str_cat_cols:   \n",
    "        if ((list(uniques[uniques['Category']==col]['Avg Diff Among Uniques'])[0] < 2) or ((list(uniques[uniques['Category']==col]['Num Uniques'])[0] < 20) and (list(uniques[uniques['Category']==col]['Avg Diff Among Uniques'])[0] < 20))):\n",
    "            num_cat_cols.append(col)\n",
    "            \n",
    "#List of features that are numerical continuous\n",
    "cont_cols = []\n",
    "for col in list(house_price.columns):\n",
    "    if ((col not in str_cat_cols) and (col not in num_cat_cols)):\n",
    "        cont_cols.append(col)\n",
    "        \n",
    "#Create new dataframe containing features of interest\n",
    "#In previous modules, we determined that 'grlivarea', 'garagearea', 'totalbsmtsf', 'overallqual', and 'yearremodadd' were most effective\n",
    "sale_df = house_price[['saleprice', 'grlivarea', 'garagearea', 'totalbsmtsf', 'overallqual', 'yearremodadd']]\n",
    "\n",
    "sale_df.head(10)"
   ]
  },
  {
   "cell_type": "markdown",
   "metadata": {},
   "source": [
    "## Split data into train and test sets"
   ]
  },
  {
   "cell_type": "code",
   "execution_count": 15,
   "metadata": {},
   "outputs": [
    {
     "name": "stdout",
     "output_type": "stream",
     "text": [
      "The number of observations in training set is 1168\n",
      "The number of observations in test set is 292\n"
     ]
    }
   ],
   "source": [
    "target_var = 'saleprice'\n",
    "feature_set = list(sale_df.columns.drop(['saleprice']))\n",
    "\n",
    "# X is the feature set \n",
    "X = sale_df[feature_set]\n",
    "# Y is the target variable\n",
    "Y = sale_df[target_var]\n",
    "\n",
    "X_train, X_test, y_train, y_test = train_test_split(X, Y, test_size = 0.2, random_state = 465)\n",
    "\n",
    "print(\"The number of observations in training set is {}\".format(X_train.shape[0]))\n",
    "print(\"The number of observations in test set is {}\".format(X_test.shape[0]))"
   ]
  },
  {
   "cell_type": "markdown",
   "metadata": {},
   "source": [
    "## Build a linear regression model where the target variable is saleprice, only using our training set"
   ]
  },
  {
   "cell_type": "code",
   "execution_count": 16,
   "metadata": {},
   "outputs": [
    {
     "name": "stdout",
     "output_type": "stream",
     "text": [
      "                            OLS Regression Results                            \n",
      "==============================================================================\n",
      "Dep. Variable:              saleprice   R-squared:                       0.762\n",
      "Model:                            OLS   Adj. R-squared:                  0.761\n",
      "Method:                 Least Squares   F-statistic:                     743.0\n",
      "Date:                Tue, 24 Sep 2019   Prob (F-statistic):               0.00\n",
      "Time:                        09:04:50   Log-Likelihood:                -13988.\n",
      "No. Observations:                1168   AIC:                         2.799e+04\n",
      "Df Residuals:                    1162   BIC:                         2.802e+04\n",
      "Df Model:                           5                                         \n",
      "Covariance Type:            nonrobust                                         \n",
      "================================================================================\n",
      "                   coef    std err          t      P>|t|      [0.025      0.975]\n",
      "--------------------------------------------------------------------------------\n",
      "const        -8.456e+05   1.28e+05     -6.583      0.000    -1.1e+06   -5.94e+05\n",
      "grlivarea       44.1477      2.757     16.016      0.000      38.739      49.556\n",
      "garagearea      56.0832      6.669      8.410      0.000      42.999      69.167\n",
      "totalbsmtsf     25.8902      3.113      8.317      0.000      19.783      31.998\n",
      "overallqual   2.309e+04   1277.408     18.077      0.000    2.06e+04    2.56e+04\n",
      "yearremodadd   385.1855     66.332      5.807      0.000     255.041     515.330\n",
      "==============================================================================\n",
      "Omnibus:                      476.543   Durbin-Watson:                   1.858\n",
      "Prob(Omnibus):                  0.000   Jarque-Bera (JB):            47946.249\n",
      "Skew:                          -0.902   Prob(JB):                         0.00\n",
      "Kurtosis:                      34.336   Cond. No.                     3.18e+05\n",
      "==============================================================================\n",
      "\n",
      "Warnings:\n",
      "[1] Standard Errors assume that the covariance matrix of the errors is correctly specified.\n",
      "[2] The condition number is large, 3.18e+05. This might indicate that there are\n",
      "strong multicollinearity or other numerical problems.\n"
     ]
    }
   ],
   "source": [
    "# We add constant to the model as it's a best practice\n",
    "# to do so ever ytime!\n",
    "X_train = sm.add_constant(X_train)\n",
    "\n",
    "# We fit an OLS model using statsmodels\n",
    "results = sm.OLS(y_train, X_train).fit()\n",
    "\n",
    "# We print the summary results\n",
    "print(results.summary())"
   ]
  },
  {
   "cell_type": "markdown",
   "metadata": {},
   "source": [
    "Now it's time to make predictions using our trained model."
   ]
  },
  {
   "cell_type": "markdown",
   "metadata": {},
   "source": [
    "## Use test set to see how well the model does with making predictions."
   ]
  },
  {
   "cell_type": "code",
   "execution_count": 17,
   "metadata": {},
   "outputs": [
    {
     "data": {
      "image/png": "[encoded data removed]",
      "text/plain": [
       "<Figure size 432x288 with 1 Axes>"
      ]
     },
     "metadata": {
      "needs_background": "light"
     },
     "output_type": "display_data"
    },
    {
     "name": "stdout",
     "output_type": "stream",
     "text": [
      "Mean absolute error of the prediction is: 25195.412028832838\n",
      "Mean squared error of the prediction is: 1511930430.9587383\n",
      "Root mean squared error of the prediction is: 38883.54961881359\n",
      "Mean absolute percentage error of the prediction is: 15.35718234629606\n"
     ]
    }
   ],
   "source": [
    "# We add constant to the model as it's a best practice\n",
    "# to do so every time!\n",
    "X_test = sm.add_constant(X_test)\n",
    "\n",
    "# We are making predictions here\n",
    "y_preds = results.predict(X_test)\n",
    "\n",
    "plt.scatter(y_test, y_preds)\n",
    "plt.plot(y_test, y_test, color=\"red\")\n",
    "plt.xlabel(\"true values\")\n",
    "plt.ylabel(\"predicted values\")\n",
    "plt.title(\"Charges: true and predicted values\")\n",
    "plt.show()\n",
    "\n",
    "print(\"Mean absolute error of the prediction is: {}\".format(mean_absolute_error(y_test, y_preds)))\n",
    "print(\"Mean squared error of the prediction is: {}\".format(mse(y_test, y_preds)))\n",
    "print(\"Root mean squared error of the prediction is: {}\".format(rmse(y_test, y_preds)))\n",
    "print(\"Mean absolute percentage error of the prediction is: {}\".format(np.mean(np.abs((y_test - y_preds) / y_test)) * 100))"
   ]
  },
  {
   "cell_type": "markdown",
   "metadata": {},
   "source": [
    "The graph clearly shows that this model does a much better job at predicting lower target values (<350,000), and that when the target values get higher, the predicted values tend to skew lower. Overall, the model seems very good already, but it could always be a bit better."
   ]
  },
  {
   "cell_type": "markdown",
   "metadata": {},
   "source": [
    "## Can we improve this model?"
   ]
  },
  {
   "cell_type": "code",
   "execution_count": 18,
   "metadata": {},
   "outputs": [
    {
     "name": "stdout",
     "output_type": "stream",
     "text": [
      "The number of observations in training set is 1168\n",
      "The number of observations in test set is 292\n"
     ]
    }
   ],
   "source": [
    "#Let's add in the area interaction feature again and see what changes\n",
    "sale_df['all_area'] = sale_df['grlivarea'] * sale_df['garagearea'] * sale_df['totalbsmtsf']\n",
    "\n",
    "#Create training and testing sets\n",
    "target_var = 'saleprice'\n",
    "feature_set = list(sale_df.columns.drop(['saleprice']))\n",
    "\n",
    "# X is the feature set \n",
    "X = sale_df[feature_set]\n",
    "# Y is the target variable\n",
    "Y = sale_df[target_var]\n",
    "\n",
    "X_train, X_test, y_train, y_test = train_test_split(X, Y, test_size = 0.2, random_state = 465)\n",
    "\n",
    "print(\"The number of observations in training set is {}\".format(X_train.shape[0]))\n",
    "print(\"The number of observations in test set is {}\".format(X_test.shape[0]))"
   ]
  },
  {
   "cell_type": "code",
   "execution_count": 19,
   "metadata": {},
   "outputs": [
    {
     "name": "stdout",
     "output_type": "stream",
     "text": [
      "                            OLS Regression Results                            \n",
      "==============================================================================\n",
      "Dep. Variable:              saleprice   R-squared:                       0.783\n",
      "Model:                            OLS   Adj. R-squared:                  0.782\n",
      "Method:                 Least Squares   F-statistic:                     697.7\n",
      "Date:                Tue, 24 Sep 2019   Prob (F-statistic):               0.00\n",
      "Time:                        09:07:22   Log-Likelihood:                -13934.\n",
      "No. Observations:                1168   AIC:                         2.788e+04\n",
      "Df Residuals:                    1161   BIC:                         2.792e+04\n",
      "Df Model:                           6                                         \n",
      "Covariance Type:            nonrobust                                         \n",
      "================================================================================\n",
      "                   coef    std err          t      P>|t|      [0.025      0.975]\n",
      "--------------------------------------------------------------------------------\n",
      "const        -8.343e+05   1.23e+05     -6.801      0.000   -1.07e+06   -5.94e+05\n",
      "grlivarea       55.4058      2.837     19.527      0.000      49.839      60.973\n",
      "garagearea      72.2089      6.547     11.030      0.000      59.364      85.054\n",
      "totalbsmtsf     45.5372      3.500     13.010      0.000      38.670      52.405\n",
      "overallqual   2.157e+04   1228.279     17.562      0.000    1.92e+04     2.4e+04\n",
      "yearremodadd   366.1681     63.373      5.778      0.000     241.830     490.506\n",
      "all_area     -1.025e-05   9.64e-07    -10.634      0.000   -1.21e-05   -8.36e-06\n",
      "==============================================================================\n",
      "Omnibus:                      418.867   Durbin-Watson:                   1.865\n",
      "Prob(Omnibus):                  0.000   Jarque-Bera (JB):             7348.995\n",
      "Skew:                           1.186   Prob(JB):                         0.00\n",
      "Kurtosis:                      15.057   Cond. No.                     2.25e+11\n",
      "==============================================================================\n",
      "\n",
      "Warnings:\n",
      "[1] Standard Errors assume that the covariance matrix of the errors is correctly specified.\n",
      "[2] The condition number is large, 2.25e+11. This might indicate that there are\n",
      "strong multicollinearity or other numerical problems.\n"
     ]
    }
   ],
   "source": [
    "# We add constant to the model as it's a best practice\n",
    "# to do so ever ytime!\n",
    "X_train = sm.add_constant(X_train)\n",
    "\n",
    "# We fit an OLS model using statsmodels\n",
    "results = sm.OLS(y_train, X_train).fit()\n",
    "\n",
    "# We print the summary results\n",
    "print(results.summary())"
   ]
  },
  {
   "cell_type": "code",
   "execution_count": 20,
   "metadata": {},
   "outputs": [
    {
     "data": {
      "image/png": "[encoded data removed]",
      "text/plain": [
       "<Figure size 432x288 with 1 Axes>"
      ]
     },
     "metadata": {
      "needs_background": "light"
     },
     "output_type": "display_data"
    },
    {
     "name": "stdout",
     "output_type": "stream",
     "text": [
      "Mean absolute error of the prediction is: 26089.37730904534\n",
      "Mean squared error of the prediction is: 1606825581.1342313\n",
      "Root mean squared error of the prediction is: 40085.22896447308\n",
      "Mean absolute percentage error of the prediction is: 16.164815561577196\n"
     ]
    }
   ],
   "source": [
    "# We add constant to the model as it's a best practice\n",
    "# to do so every time!\n",
    "X_test = sm.add_constant(X_test)\n",
    "\n",
    "# We are making predictions here\n",
    "y_preds = results.predict(X_test)\n",
    "\n",
    "plt.scatter(y_test, y_preds)\n",
    "plt.plot(y_test, y_test, color=\"red\")\n",
    "plt.xlabel(\"true values\")\n",
    "plt.ylabel(\"predicted values\")\n",
    "plt.title(\"Charges: true and predicted values\")\n",
    "plt.show()\n",
    "\n",
    "print(\"Mean absolute error of the prediction is: {}\".format(mean_absolute_error(y_test, y_preds)))\n",
    "print(\"Mean squared error of the prediction is: {}\".format(mse(y_test, y_preds)))\n",
    "print(\"Root mean squared error of the prediction is: {}\".format(rmse(y_test, y_preds)))\n",
    "print(\"Mean absolute percentage error of the prediction is: {}\".format(np.mean(np.abs((y_test - y_preds) / y_test)) * 100))"
   ]
  },
  {
   "cell_type": "markdown",
   "metadata": {},
   "source": [
    "This new model, with the area interaction feature included, has a higher R-squared value and lower AIC and BIC values, which would usually better fit, but we can see that all four calculated error terms are higher for the new model compared with the old model. Therefore, we can conclude that the area interaction feature introduces more error to our model and should be discarded in future iterations. "
   ]
  },
  {
   "cell_type": "code",
   "execution_count": null,
   "metadata": {},
   "outputs": [],
   "source": []
  }
 ],
 "metadata": {
  "kernelspec": {
   "display_name": "Python 3",
   "language": "python",
   "name": "python3"
  },
  "language_info": {
   "codemirror_mode": {
    "name": "ipython",
    "version": 3
   },
   "file_extension": ".py",
   "mimetype": "text/x-python",
   "name": "python",
   "nbconvert_exporter": "python",
   "pygments_lexer": "ipython3",
   "version": "3.7.3"
  }
 },
 "nbformat": 4,
 "nbformat_minor": 2
}
